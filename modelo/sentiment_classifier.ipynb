{
 "cells": [
  {
   "cell_type": "code",
   "execution_count": 1,
   "metadata": {},
   "outputs": [],
   "source": [
    "import pandas as pd\n",
    "import numpy as np"
   ]
  },
  {
   "cell_type": "code",
   "execution_count": 2,
   "metadata": {},
   "outputs": [],
   "source": [
    "data_set_test = pd.read_csv('twitter_training.csv')\n",
    "data_set_validation = pd.read_csv('twitter_validation.csv')\n",
    "\n",
    "df = pd.concat([data_set_validation, data_set_test], ignore_index=True)"
   ]
  },
  {
   "cell_type": "code",
   "execution_count": 3,
   "metadata": {},
   "outputs": [
    {
     "data": {
      "text/html": [
       "<div>\n",
       "<style scoped>\n",
       "    .dataframe tbody tr th:only-of-type {\n",
       "        vertical-align: middle;\n",
       "    }\n",
       "\n",
       "    .dataframe tbody tr th {\n",
       "        vertical-align: top;\n",
       "    }\n",
       "\n",
       "    .dataframe thead th {\n",
       "        text-align: right;\n",
       "    }\n",
       "</style>\n",
       "<table border=\"1\" class=\"dataframe\">\n",
       "  <thead>\n",
       "    <tr style=\"text-align: right;\">\n",
       "      <th></th>\n",
       "      <th>id</th>\n",
       "      <th>borderland</th>\n",
       "      <th>emotion</th>\n",
       "      <th>text</th>\n",
       "    </tr>\n",
       "  </thead>\n",
       "  <tbody>\n",
       "    <tr>\n",
       "      <th>0</th>\n",
       "      <td>3364</td>\n",
       "      <td>Facebook</td>\n",
       "      <td>Irrelevant</td>\n",
       "      <td>I mentioned on Facebook that I was struggling ...</td>\n",
       "    </tr>\n",
       "    <tr>\n",
       "      <th>1</th>\n",
       "      <td>352</td>\n",
       "      <td>Amazon</td>\n",
       "      <td>Neutral</td>\n",
       "      <td>BBC News - Amazon boss Jeff Bezos rejects clai...</td>\n",
       "    </tr>\n",
       "    <tr>\n",
       "      <th>2</th>\n",
       "      <td>8312</td>\n",
       "      <td>Microsoft</td>\n",
       "      <td>Negative</td>\n",
       "      <td>@Microsoft Why do I pay for WORD when it funct...</td>\n",
       "    </tr>\n",
       "    <tr>\n",
       "      <th>3</th>\n",
       "      <td>4371</td>\n",
       "      <td>CS-GO</td>\n",
       "      <td>Negative</td>\n",
       "      <td>CSGO matchmaking is so full of closet hacking,...</td>\n",
       "    </tr>\n",
       "    <tr>\n",
       "      <th>4</th>\n",
       "      <td>4433</td>\n",
       "      <td>Google</td>\n",
       "      <td>Neutral</td>\n",
       "      <td>Now the President is slapping Americans in the...</td>\n",
       "    </tr>\n",
       "  </tbody>\n",
       "</table>\n",
       "</div>"
      ],
      "text/plain": [
       "     id borderland     emotion   \n",
       "0  3364   Facebook  Irrelevant  \\\n",
       "1   352     Amazon     Neutral   \n",
       "2  8312  Microsoft    Negative   \n",
       "3  4371      CS-GO    Negative   \n",
       "4  4433     Google     Neutral   \n",
       "\n",
       "                                                text  \n",
       "0  I mentioned on Facebook that I was struggling ...  \n",
       "1  BBC News - Amazon boss Jeff Bezos rejects clai...  \n",
       "2  @Microsoft Why do I pay for WORD when it funct...  \n",
       "3  CSGO matchmaking is so full of closet hacking,...  \n",
       "4  Now the President is slapping Americans in the...  "
      ]
     },
     "execution_count": 3,
     "metadata": {},
     "output_type": "execute_result"
    }
   ],
   "source": [
    "df.head()"
   ]
  },
  {
   "cell_type": "code",
   "execution_count": 4,
   "metadata": {},
   "outputs": [
    {
     "name": "stdout",
     "output_type": "stream",
     "text": [
      "<class 'pandas.core.frame.DataFrame'>\n",
      "RangeIndex: 75682 entries, 0 to 75681\n",
      "Data columns (total 4 columns):\n",
      " #   Column      Non-Null Count  Dtype \n",
      "---  ------      --------------  ----- \n",
      " 0   id          75682 non-null  int64 \n",
      " 1   borderland  75682 non-null  object\n",
      " 2   emotion     75682 non-null  object\n",
      " 3   text        74996 non-null  object\n",
      "dtypes: int64(1), object(3)\n",
      "memory usage: 2.3+ MB\n"
     ]
    }
   ],
   "source": [
    "df.info()"
   ]
  },
  {
   "cell_type": "code",
   "execution_count": 5,
   "metadata": {},
   "outputs": [
    {
     "data": {
      "text/plain": [
       "count        75682\n",
       "unique           4\n",
       "top       Negative\n",
       "freq         22808\n",
       "Name: emotion, dtype: object"
      ]
     },
     "execution_count": 5,
     "metadata": {},
     "output_type": "execute_result"
    }
   ],
   "source": [
    "df['emotion'].describe()"
   ]
  },
  {
   "cell_type": "code",
   "execution_count": 6,
   "metadata": {},
   "outputs": [
    {
     "data": {
      "text/plain": [
       "<Axes: xlabel='emotion'>"
      ]
     },
     "execution_count": 6,
     "metadata": {},
     "output_type": "execute_result"
    },
    {
     "data": {
      "image/png": "[encoded data removed]",
      "text/plain": [
       "<Figure size 640x480 with 1 Axes>"
      ]
     },
     "metadata": {},
     "output_type": "display_data"
    }
   ],
   "source": [
    "df['emotion'].value_counts().plot(kind='bar')"
   ]
  },
  {
   "cell_type": "markdown",
   "metadata": {},
   "source": [
    "Hay un desbalance pero no es preocupante"
   ]
  },
  {
   "cell_type": "code",
   "execution_count": 7,
   "metadata": {},
   "outputs": [
    {
     "name": "stderr",
     "output_type": "stream",
     "text": [
      "[nltk_data] Downloading package punkt to\n",
      "[nltk_data]     /Users/jyaruhernandez/nltk_data...\n",
      "[nltk_data]   Package punkt is already up-to-date!\n",
      "[nltk_data] Downloading package wordnet to\n",
      "[nltk_data]     /Users/jyaruhernandez/nltk_data...\n",
      "[nltk_data]   Package wordnet is already up-to-date!\n",
      "[nltk_data] Downloading package omw-1.4 to\n",
      "[nltk_data]     /Users/jyaruhernandez/nltk_data...\n",
      "[nltk_data]   Package omw-1.4 is already up-to-date!\n",
      "[nltk_data] Downloading package stopwords to\n",
      "[nltk_data]     /Users/jyaruhernandez/nltk_data...\n",
      "[nltk_data]   Package stopwords is already up-to-date!\n"
     ]
    }
   ],
   "source": [
    "import re\n",
    "import nltk\n",
    "from nltk import word_tokenize\n",
    "from nltk.corpus import stopwords\n",
    "nltk.download('punkt')\n",
    "nltk.download('wordnet')\n",
    "nltk.download('omw-1.4')\n",
    "from nltk.stem.wordnet import WordNetLemmatizer\n",
    "lemmatizer = WordNetLemmatizer()\n",
    "nltk.download('stopwords')\n",
    "stop_words_en = set(stopwords.words('english'))\n",
    "import spacy\n",
    "nlp = spacy.load('en_core_web_lg')"
   ]
  },
  {
   "cell_type": "code",
   "execution_count": 8,
   "metadata": {},
   "outputs": [],
   "source": [
    "def clean(text):\n",
    "    text = str(text)\n",
    "    text = text.lower()\n",
    "    text = text.strip()\n",
    "    text = text.replace('\\n', '')\n",
    "    text = text.replace('\\t', '')\n",
    "    text = re.sub(r'[^\\w\\s]','',text)\n",
    "    text = word_tokenize(text)\n",
    "    text = [palabra for palabra in text if palabra not in stop_words_en]\n",
    "    text = [lemmatizer.lemmatize(palabra) for palabra in text]\n",
    "    text = ' '.join(text)\n",
    "    return text"
   ]
  },
  {
   "cell_type": "code",
   "execution_count": 9,
   "metadata": {},
   "outputs": [],
   "source": [
    "df['clean_text'] = df['text'].apply(clean)"
   ]
  },
  {
   "cell_type": "code",
   "execution_count": 10,
   "metadata": {},
   "outputs": [
    {
     "data": {
      "text/plain": [
       "0    mentioned facebook struggling motivation go ru...\n",
       "1    bbc news amazon bos jeff bezos reject claim co...\n",
       "2    microsoft pay word function poorly samsungus c...\n",
       "3    csgo matchmaking full closet hacking truly awf...\n",
       "4    president slapping american face really commit...\n",
       "Name: clean_text, dtype: object"
      ]
     },
     "execution_count": 10,
     "metadata": {},
     "output_type": "execute_result"
    }
   ],
   "source": [
    "df['clean_text'].head()"
   ]
  },
  {
   "cell_type": "code",
   "execution_count": 11,
   "metadata": {},
   "outputs": [],
   "source": [
    "def vectorize(text):\n",
    "    vector = nlp(text).vector\n",
    "    return vector"
   ]
  },
  {
   "cell_type": "code",
   "execution_count": 12,
   "metadata": {},
   "outputs": [],
   "source": [
    "df['vector'] = df['clean_text'].apply(vectorize)"
   ]
  },
  {
   "cell_type": "code",
   "execution_count": 13,
   "metadata": {},
   "outputs": [],
   "source": [
    "X = df['vector']"
   ]
  },
  {
   "cell_type": "code",
   "execution_count": 14,
   "metadata": {},
   "outputs": [],
   "source": [
    "X = np.concatenate(X).reshape(-1,300)"
   ]
  },
  {
   "cell_type": "code",
   "execution_count": 15,
   "metadata": {},
   "outputs": [],
   "source": [
    "import tensorflow as tf\n",
    "import numpy as np\n",
    "import tensorflow.keras as keras\n",
    "from tensorflow.keras.preprocessing.text import Tokenizer\n",
    "from tensorflow.keras.utils import to_categorical\n",
    "from tensorflow.keras.models import Sequential\n",
    "from tensorflow.keras.layers import Dense, LSTM, Embedding, Dropout, Conv1D, MaxPooling1D, Flatten\n",
    "from tensorflow.keras.regularizers import l1, l2\n",
    "from tensorflow.keras.preprocessing.sequence import pad_sequences\n",
    "from tensorflow.keras.optimizers.legacy import Adam\n",
    "from tensorflow.keras.callbacks import EarlyStopping\n",
    "from sklearn.model_selection import train_test_split\n",
    "import seaborn as sns"
   ]
  },
  {
   "cell_type": "code",
   "execution_count": 16,
   "metadata": {},
   "outputs": [],
   "source": [
    "early_stopping = EarlyStopping(monitor='val_loss', patience=5, verbose=1, mode='min')"
   ]
  },
  {
   "cell_type": "code",
   "execution_count": 17,
   "metadata": {},
   "outputs": [],
   "source": [
    "y = df['emotion']\n",
    "X_train, X_test, y_train, y_test = train_test_split(X, y, test_size=0.2, random_state=42, stratify=y)"
   ]
  },
  {
   "cell_type": "code",
   "execution_count": 18,
   "metadata": {},
   "outputs": [],
   "source": [
    "mapper_y = {'Irrelevant':0, 'Neutral':0, 'Negative':1, 'Positive':2}\n",
    "y_train = y_train.map(mapper_y)\n",
    "y_test = y_test.map(mapper_y)"
   ]
  },
  {
   "cell_type": "code",
   "execution_count": 19,
   "metadata": {},
   "outputs": [],
   "source": [
    "y_train = to_categorical(y_train,3)\n",
    "y_test = to_categorical(y_test,3)"
   ]
  },
  {
   "cell_type": "code",
   "execution_count": 20,
   "metadata": {},
   "outputs": [],
   "source": [
    "X_train = X_train.reshape(X_train.shape[0], X_train.shape[1], 1)\n",
    "X_test = X_test.reshape(X_test.shape[0], X_test.shape[1], 1)"
   ]
  },
  {
   "cell_type": "code",
   "execution_count": 21,
   "metadata": {},
   "outputs": [],
   "source": [
    "model = Sequential()"
   ]
  },
  {
   "cell_type": "code",
   "execution_count": 22,
   "metadata": {},
   "outputs": [],
   "source": [
    "model.add(Conv1D(64,5,activation='relu', input_shape=X_train[0].shape))\n",
    "model.add(MaxPooling1D(5))\n",
    "model.add(Flatten())\n",
    "model.add(Dense(64, activation='relu', kernel_regularizer=l2(0.001)))\n",
    "model.add(Dropout(0.6))\n",
    "model.add(Dense(3, activation='softmax'))\n",
    "model.compile(optimizer=Adam(learning_rate=0.00001), loss='categorical_crossentropy', metrics=['accuracy'])"
   ]
  },
  {
   "cell_type": "code",
   "execution_count": 23,
   "metadata": {},
   "outputs": [
    {
     "name": "stdout",
     "output_type": "stream",
     "text": [
      "Epoch 1/300\n",
      "1010/1010 [==============================] - 4s 4ms/step - loss: 1.2138 - accuracy: 0.4123 - val_loss: 1.1723 - val_accuracy: 0.4523\n",
      "Epoch 2/300\n",
      "1010/1010 [==============================] - 4s 3ms/step - loss: 1.1685 - accuracy: 0.4530 - val_loss: 1.1390 - val_accuracy: 0.4740\n",
      "Epoch 3/300\n",
      "1010/1010 [==============================] - 4s 4ms/step - loss: 1.1453 - accuracy: 0.4726 - val_loss: 1.1130 - val_accuracy: 0.5019\n",
      "Epoch 4/300\n",
      "1010/1010 [==============================] - 6s 6ms/step - loss: 1.1225 - accuracy: 0.4891 - val_loss: 1.0936 - val_accuracy: 0.5167\n",
      "Epoch 5/300\n",
      "1010/1010 [==============================] - 4s 4ms/step - loss: 1.1056 - accuracy: 0.5001 - val_loss: 1.0751 - val_accuracy: 0.5395\n",
      "Epoch 6/300\n",
      "1010/1010 [==============================] - 4s 4ms/step - loss: 1.0896 - accuracy: 0.5105 - val_loss: 1.0599 - val_accuracy: 0.5450\n",
      "Epoch 7/300\n",
      "1010/1010 [==============================] - 5s 5ms/step - loss: 1.0776 - accuracy: 0.5182 - val_loss: 1.0469 - val_accuracy: 0.5463\n",
      "Epoch 8/300\n",
      "1010/1010 [==============================] - 4s 4ms/step - loss: 1.0661 - accuracy: 0.5235 - val_loss: 1.0372 - val_accuracy: 0.5535\n",
      "Epoch 9/300\n",
      "1010/1010 [==============================] - 4s 4ms/step - loss: 1.0569 - accuracy: 0.5304 - val_loss: 1.0280 - val_accuracy: 0.5510\n",
      "Epoch 10/300\n",
      "1010/1010 [==============================] - 4s 4ms/step - loss: 1.0492 - accuracy: 0.5343 - val_loss: 1.0226 - val_accuracy: 0.5631\n",
      "Epoch 11/300\n",
      "1010/1010 [==============================] - 4s 4ms/step - loss: 1.0434 - accuracy: 0.5386 - val_loss: 1.0167 - val_accuracy: 0.5659\n",
      "Epoch 12/300\n",
      "1010/1010 [==============================] - 4s 4ms/step - loss: 1.0336 - accuracy: 0.5453 - val_loss: 1.0091 - val_accuracy: 0.5701\n",
      "Epoch 13/300\n",
      "1010/1010 [==============================] - 4s 4ms/step - loss: 1.0299 - accuracy: 0.5467 - val_loss: 1.0024 - val_accuracy: 0.5722\n",
      "Epoch 14/300\n",
      "1010/1010 [==============================] - 4s 4ms/step - loss: 1.0247 - accuracy: 0.5493 - val_loss: 0.9985 - val_accuracy: 0.5758\n",
      "Epoch 15/300\n",
      "1010/1010 [==============================] - 4s 4ms/step - loss: 1.0191 - accuracy: 0.5510 - val_loss: 0.9954 - val_accuracy: 0.5751\n",
      "Epoch 16/300\n",
      "1010/1010 [==============================] - 4s 4ms/step - loss: 1.0154 - accuracy: 0.5534 - val_loss: 0.9900 - val_accuracy: 0.5793\n",
      "Epoch 17/300\n",
      "1010/1010 [==============================] - 4s 4ms/step - loss: 1.0107 - accuracy: 0.5586 - val_loss: 0.9883 - val_accuracy: 0.5792\n",
      "Epoch 18/300\n",
      "1010/1010 [==============================] - 5s 5ms/step - loss: 1.0063 - accuracy: 0.5593 - val_loss: 0.9857 - val_accuracy: 0.5820\n",
      "Epoch 19/300\n",
      "1010/1010 [==============================] - 5s 5ms/step - loss: 1.0037 - accuracy: 0.5622 - val_loss: 0.9807 - val_accuracy: 0.5849\n",
      "Epoch 20/300\n",
      "1010/1010 [==============================] - 5s 5ms/step - loss: 1.0011 - accuracy: 0.5656 - val_loss: 0.9788 - val_accuracy: 0.5814\n",
      "Epoch 21/300\n",
      "1010/1010 [==============================] - 4s 4ms/step - loss: 0.9967 - accuracy: 0.5648 - val_loss: 0.9744 - val_accuracy: 0.5830\n",
      "Epoch 22/300\n",
      "1010/1010 [==============================] - 5s 5ms/step - loss: 0.9935 - accuracy: 0.5670 - val_loss: 0.9714 - val_accuracy: 0.5803\n",
      "Epoch 23/300\n",
      "1010/1010 [==============================] - 5s 4ms/step - loss: 0.9901 - accuracy: 0.5682 - val_loss: 0.9691 - val_accuracy: 0.5878\n",
      "Epoch 24/300\n",
      "1010/1010 [==============================] - 5s 5ms/step - loss: 0.9877 - accuracy: 0.5705 - val_loss: 0.9664 - val_accuracy: 0.5877\n",
      "Epoch 25/300\n",
      "1010/1010 [==============================] - 5s 5ms/step - loss: 0.9843 - accuracy: 0.5725 - val_loss: 0.9645 - val_accuracy: 0.5904\n",
      "Epoch 26/300\n",
      "1010/1010 [==============================] - 4s 4ms/step - loss: 0.9824 - accuracy: 0.5749 - val_loss: 0.9619 - val_accuracy: 0.5909\n",
      "Epoch 27/300\n",
      "1010/1010 [==============================] - 4s 4ms/step - loss: 0.9817 - accuracy: 0.5750 - val_loss: 0.9608 - val_accuracy: 0.5934\n",
      "Epoch 28/300\n",
      "1010/1010 [==============================] - 4s 4ms/step - loss: 0.9767 - accuracy: 0.5775 - val_loss: 0.9571 - val_accuracy: 0.5948\n",
      "Epoch 29/300\n",
      "1010/1010 [==============================] - 4s 4ms/step - loss: 0.9738 - accuracy: 0.5812 - val_loss: 0.9553 - val_accuracy: 0.5944\n",
      "Epoch 30/300\n",
      "1010/1010 [==============================] - 4s 4ms/step - loss: 0.9730 - accuracy: 0.5806 - val_loss: 0.9543 - val_accuracy: 0.5938\n",
      "Epoch 31/300\n",
      "1010/1010 [==============================] - 5s 5ms/step - loss: 0.9710 - accuracy: 0.5806 - val_loss: 0.9508 - val_accuracy: 0.5964\n",
      "Epoch 32/300\n",
      "1010/1010 [==============================] - 4s 4ms/step - loss: 0.9689 - accuracy: 0.5820 - val_loss: 0.9506 - val_accuracy: 0.5938\n",
      "Epoch 33/300\n",
      "1010/1010 [==============================] - 4s 4ms/step - loss: 0.9674 - accuracy: 0.5847 - val_loss: 0.9476 - val_accuracy: 0.5999\n",
      "Epoch 34/300\n",
      "1010/1010 [==============================] - 4s 4ms/step - loss: 0.9619 - accuracy: 0.5860 - val_loss: 0.9457 - val_accuracy: 0.5984\n",
      "Epoch 35/300\n",
      "1010/1010 [==============================] - 4s 4ms/step - loss: 0.9617 - accuracy: 0.5862 - val_loss: 0.9451 - val_accuracy: 0.6020\n",
      "Epoch 36/300\n",
      "1010/1010 [==============================] - 4s 4ms/step - loss: 0.9606 - accuracy: 0.5872 - val_loss: 0.9437 - val_accuracy: 0.5977\n",
      "Epoch 37/300\n",
      "1010/1010 [==============================] - 4s 4ms/step - loss: 0.9590 - accuracy: 0.5877 - val_loss: 0.9443 - val_accuracy: 0.6019\n",
      "Epoch 38/300\n",
      "1010/1010 [==============================] - 4s 4ms/step - loss: 0.9569 - accuracy: 0.5892 - val_loss: 0.9411 - val_accuracy: 0.6016\n",
      "Epoch 39/300\n",
      "1010/1010 [==============================] - 4s 4ms/step - loss: 0.9548 - accuracy: 0.5908 - val_loss: 0.9374 - val_accuracy: 0.6035\n",
      "Epoch 40/300\n",
      "1010/1010 [==============================] - 5s 5ms/step - loss: 0.9517 - accuracy: 0.5915 - val_loss: 0.9370 - val_accuracy: 0.6069\n",
      "Epoch 41/300\n",
      "1010/1010 [==============================] - 4s 4ms/step - loss: 0.9512 - accuracy: 0.5930 - val_loss: 0.9353 - val_accuracy: 0.6087\n",
      "Epoch 42/300\n",
      "1010/1010 [==============================] - 5s 5ms/step - loss: 0.9499 - accuracy: 0.5929 - val_loss: 0.9333 - val_accuracy: 0.6057\n",
      "Epoch 43/300\n",
      "1010/1010 [==============================] - 5s 4ms/step - loss: 0.9484 - accuracy: 0.5955 - val_loss: 0.9324 - val_accuracy: 0.6073\n",
      "Epoch 44/300\n",
      "1010/1010 [==============================] - 5s 4ms/step - loss: 0.9455 - accuracy: 0.5965 - val_loss: 0.9285 - val_accuracy: 0.6065\n",
      "Epoch 45/300\n",
      "1010/1010 [==============================] - 4s 4ms/step - loss: 0.9448 - accuracy: 0.5968 - val_loss: 0.9287 - val_accuracy: 0.6069\n",
      "Epoch 46/300\n",
      "1010/1010 [==============================] - 4s 4ms/step - loss: 0.9425 - accuracy: 0.5968 - val_loss: 0.9284 - val_accuracy: 0.6049\n",
      "Epoch 47/300\n",
      "1010/1010 [==============================] - 4s 4ms/step - loss: 0.9421 - accuracy: 0.5961 - val_loss: 0.9283 - val_accuracy: 0.6078\n",
      "Epoch 48/300\n",
      "1010/1010 [==============================] - 5s 4ms/step - loss: 0.9390 - accuracy: 0.5999 - val_loss: 0.9237 - val_accuracy: 0.6110\n",
      "Epoch 49/300\n",
      "1010/1010 [==============================] - 4s 4ms/step - loss: 0.9380 - accuracy: 0.5995 - val_loss: 0.9232 - val_accuracy: 0.6112\n",
      "Epoch 50/300\n",
      "1010/1010 [==============================] - 5s 5ms/step - loss: 0.9376 - accuracy: 0.5974 - val_loss: 0.9233 - val_accuracy: 0.6126\n",
      "Epoch 51/300\n",
      "1010/1010 [==============================] - 4s 4ms/step - loss: 0.9351 - accuracy: 0.6019 - val_loss: 0.9203 - val_accuracy: 0.6112\n",
      "Epoch 52/300\n",
      "1010/1010 [==============================] - 5s 5ms/step - loss: 0.9344 - accuracy: 0.6018 - val_loss: 0.9198 - val_accuracy: 0.6132\n",
      "Epoch 53/300\n",
      "1010/1010 [==============================] - 4s 4ms/step - loss: 0.9312 - accuracy: 0.6025 - val_loss: 0.9184 - val_accuracy: 0.6121\n",
      "Epoch 54/300\n",
      "1010/1010 [==============================] - 5s 5ms/step - loss: 0.9295 - accuracy: 0.6032 - val_loss: 0.9157 - val_accuracy: 0.6146\n",
      "Epoch 55/300\n",
      "1010/1010 [==============================] - 4s 4ms/step - loss: 0.9289 - accuracy: 0.6037 - val_loss: 0.9151 - val_accuracy: 0.6140\n",
      "Epoch 56/300\n",
      "1010/1010 [==============================] - 4s 4ms/step - loss: 0.9273 - accuracy: 0.6062 - val_loss: 0.9140 - val_accuracy: 0.6180\n",
      "Epoch 57/300\n",
      "1010/1010 [==============================] - 4s 4ms/step - loss: 0.9267 - accuracy: 0.6027 - val_loss: 0.9135 - val_accuracy: 0.6139\n",
      "Epoch 58/300\n",
      "1010/1010 [==============================] - 5s 4ms/step - loss: 0.9251 - accuracy: 0.6056 - val_loss: 0.9103 - val_accuracy: 0.6154\n",
      "Epoch 59/300\n",
      "1010/1010 [==============================] - 5s 5ms/step - loss: 0.9231 - accuracy: 0.6078 - val_loss: 0.9144 - val_accuracy: 0.6192\n",
      "Epoch 60/300\n",
      "1010/1010 [==============================] - 4s 4ms/step - loss: 0.9235 - accuracy: 0.6069 - val_loss: 0.9095 - val_accuracy: 0.6189\n",
      "Epoch 61/300\n",
      "1010/1010 [==============================] - 4s 4ms/step - loss: 0.9212 - accuracy: 0.6086 - val_loss: 0.9099 - val_accuracy: 0.6164\n",
      "Epoch 62/300\n",
      "1010/1010 [==============================] - 5s 4ms/step - loss: 0.9206 - accuracy: 0.6078 - val_loss: 0.9100 - val_accuracy: 0.6154\n",
      "Epoch 63/300\n",
      "1010/1010 [==============================] - 4s 4ms/step - loss: 0.9188 - accuracy: 0.6084 - val_loss: 0.9058 - val_accuracy: 0.6192\n",
      "Epoch 64/300\n",
      "1010/1010 [==============================] - 4s 4ms/step - loss: 0.9159 - accuracy: 0.6112 - val_loss: 0.9038 - val_accuracy: 0.6203\n",
      "Epoch 65/300\n",
      "1010/1010 [==============================] - 4s 4ms/step - loss: 0.9168 - accuracy: 0.6115 - val_loss: 0.9059 - val_accuracy: 0.6207\n",
      "Epoch 66/300\n",
      "1010/1010 [==============================] - 5s 5ms/step - loss: 0.9141 - accuracy: 0.6110 - val_loss: 0.9026 - val_accuracy: 0.6218\n",
      "Epoch 67/300\n",
      "1010/1010 [==============================] - 5s 5ms/step - loss: 0.9134 - accuracy: 0.6123 - val_loss: 0.9018 - val_accuracy: 0.6234\n",
      "Epoch 68/300\n",
      "1010/1010 [==============================] - 4s 4ms/step - loss: 0.9130 - accuracy: 0.6124 - val_loss: 0.9014 - val_accuracy: 0.6180\n",
      "Epoch 69/300\n",
      "1010/1010 [==============================] - 5s 5ms/step - loss: 0.9099 - accuracy: 0.6138 - val_loss: 0.9002 - val_accuracy: 0.6191\n",
      "Epoch 70/300\n",
      "1010/1010 [==============================] - 5s 5ms/step - loss: 0.9100 - accuracy: 0.6136 - val_loss: 0.8991 - val_accuracy: 0.6232\n",
      "Epoch 71/300\n",
      "1010/1010 [==============================] - 4s 4ms/step - loss: 0.9083 - accuracy: 0.6149 - val_loss: 0.8976 - val_accuracy: 0.6222\n",
      "Epoch 72/300\n",
      "1010/1010 [==============================] - 4s 4ms/step - loss: 0.9060 - accuracy: 0.6153 - val_loss: 0.8968 - val_accuracy: 0.6228\n",
      "Epoch 73/300\n",
      "1010/1010 [==============================] - 4s 4ms/step - loss: 0.9055 - accuracy: 0.6153 - val_loss: 0.8967 - val_accuracy: 0.6236\n",
      "Epoch 74/300\n",
      "1010/1010 [==============================] - 5s 4ms/step - loss: 0.9032 - accuracy: 0.6177 - val_loss: 0.8953 - val_accuracy: 0.6254\n",
      "Epoch 75/300\n",
      "1010/1010 [==============================] - 4s 4ms/step - loss: 0.9026 - accuracy: 0.6179 - val_loss: 0.8929 - val_accuracy: 0.6230\n",
      "Epoch 76/300\n",
      "1010/1010 [==============================] - 4s 4ms/step - loss: 0.9024 - accuracy: 0.6180 - val_loss: 0.8922 - val_accuracy: 0.6259\n",
      "Epoch 77/300\n",
      "1010/1010 [==============================] - 4s 4ms/step - loss: 0.9015 - accuracy: 0.6171 - val_loss: 0.8915 - val_accuracy: 0.6250\n",
      "Epoch 78/300\n",
      "1010/1010 [==============================] - 4s 4ms/step - loss: 0.9019 - accuracy: 0.6184 - val_loss: 0.8916 - val_accuracy: 0.6292\n",
      "Epoch 79/300\n",
      "1010/1010 [==============================] - 4s 4ms/step - loss: 0.8995 - accuracy: 0.6200 - val_loss: 0.8883 - val_accuracy: 0.6276\n",
      "Epoch 80/300\n",
      "1010/1010 [==============================] - 4s 4ms/step - loss: 0.8978 - accuracy: 0.6194 - val_loss: 0.8902 - val_accuracy: 0.6267\n",
      "Epoch 81/300\n",
      "1010/1010 [==============================] - 5s 5ms/step - loss: 0.8984 - accuracy: 0.6198 - val_loss: 0.8874 - val_accuracy: 0.6283\n",
      "Epoch 82/300\n",
      "1010/1010 [==============================] - 5s 5ms/step - loss: 0.8957 - accuracy: 0.6210 - val_loss: 0.8852 - val_accuracy: 0.6279\n",
      "Epoch 83/300\n",
      "1010/1010 [==============================] - 5s 5ms/step - loss: 0.8937 - accuracy: 0.6201 - val_loss: 0.8864 - val_accuracy: 0.6270\n",
      "Epoch 84/300\n",
      "1010/1010 [==============================] - 4s 4ms/step - loss: 0.8933 - accuracy: 0.6237 - val_loss: 0.8861 - val_accuracy: 0.6272\n",
      "Epoch 85/300\n",
      "1010/1010 [==============================] - 4s 4ms/step - loss: 0.8921 - accuracy: 0.6222 - val_loss: 0.8822 - val_accuracy: 0.6277\n",
      "Epoch 86/300\n",
      "1010/1010 [==============================] - 5s 4ms/step - loss: 0.8910 - accuracy: 0.6218 - val_loss: 0.8829 - val_accuracy: 0.6316\n",
      "Epoch 87/300\n",
      "1010/1010 [==============================] - 5s 5ms/step - loss: 0.8892 - accuracy: 0.6233 - val_loss: 0.8826 - val_accuracy: 0.6321\n",
      "Epoch 88/300\n",
      "1010/1010 [==============================] - 4s 4ms/step - loss: 0.8879 - accuracy: 0.6271 - val_loss: 0.8838 - val_accuracy: 0.6295\n",
      "Epoch 89/300\n",
      "1010/1010 [==============================] - 4s 4ms/step - loss: 0.8872 - accuracy: 0.6271 - val_loss: 0.8819 - val_accuracy: 0.6255\n",
      "Epoch 90/300\n",
      "1010/1010 [==============================] - 4s 4ms/step - loss: 0.8868 - accuracy: 0.6251 - val_loss: 0.8806 - val_accuracy: 0.6310\n",
      "Epoch 91/300\n",
      "1010/1010 [==============================] - 4s 4ms/step - loss: 0.8856 - accuracy: 0.6265 - val_loss: 0.8781 - val_accuracy: 0.6310\n",
      "Epoch 92/300\n",
      "1010/1010 [==============================] - 4s 4ms/step - loss: 0.8840 - accuracy: 0.6260 - val_loss: 0.8766 - val_accuracy: 0.6302\n",
      "Epoch 93/300\n",
      "1010/1010 [==============================] - 4s 4ms/step - loss: 0.8828 - accuracy: 0.6286 - val_loss: 0.8781 - val_accuracy: 0.6313\n",
      "Epoch 94/300\n",
      "1010/1010 [==============================] - 4s 4ms/step - loss: 0.8837 - accuracy: 0.6276 - val_loss: 0.8740 - val_accuracy: 0.6312\n",
      "Epoch 95/300\n",
      "1010/1010 [==============================] - 4s 4ms/step - loss: 0.8820 - accuracy: 0.6279 - val_loss: 0.8756 - val_accuracy: 0.6331\n",
      "Epoch 96/300\n",
      "1010/1010 [==============================] - 5s 5ms/step - loss: 0.8795 - accuracy: 0.6294 - val_loss: 0.8738 - val_accuracy: 0.6316\n",
      "Epoch 97/300\n",
      "1010/1010 [==============================] - 4s 4ms/step - loss: 0.8796 - accuracy: 0.6294 - val_loss: 0.8733 - val_accuracy: 0.6345\n",
      "Epoch 98/300\n",
      "1010/1010 [==============================] - 4s 4ms/step - loss: 0.8775 - accuracy: 0.6294 - val_loss: 0.8702 - val_accuracy: 0.6361\n",
      "Epoch 99/300\n",
      "1010/1010 [==============================] - 4s 4ms/step - loss: 0.8754 - accuracy: 0.6299 - val_loss: 0.8710 - val_accuracy: 0.6337\n",
      "Epoch 100/300\n",
      "1010/1010 [==============================] - 5s 5ms/step - loss: 0.8754 - accuracy: 0.6319 - val_loss: 0.8707 - val_accuracy: 0.6355\n",
      "Epoch 101/300\n",
      "1010/1010 [==============================] - 4s 4ms/step - loss: 0.8750 - accuracy: 0.6349 - val_loss: 0.8735 - val_accuracy: 0.6314\n",
      "Epoch 102/300\n",
      "1010/1010 [==============================] - 5s 4ms/step - loss: 0.8756 - accuracy: 0.6337 - val_loss: 0.8687 - val_accuracy: 0.6334\n",
      "Epoch 103/300\n",
      "1010/1010 [==============================] - 5s 4ms/step - loss: 0.8728 - accuracy: 0.6318 - val_loss: 0.8673 - val_accuracy: 0.6380\n",
      "Epoch 104/300\n",
      "1010/1010 [==============================] - 4s 4ms/step - loss: 0.8738 - accuracy: 0.6335 - val_loss: 0.8682 - val_accuracy: 0.6384\n",
      "Epoch 105/300\n",
      "1010/1010 [==============================] - 4s 4ms/step - loss: 0.8709 - accuracy: 0.6355 - val_loss: 0.8667 - val_accuracy: 0.6384\n",
      "Epoch 106/300\n",
      "1010/1010 [==============================] - 4s 4ms/step - loss: 0.8698 - accuracy: 0.6340 - val_loss: 0.8649 - val_accuracy: 0.6386\n",
      "Epoch 107/300\n",
      "1010/1010 [==============================] - 4s 4ms/step - loss: 0.8695 - accuracy: 0.6344 - val_loss: 0.8659 - val_accuracy: 0.6409\n",
      "Epoch 108/300\n",
      "1010/1010 [==============================] - 5s 5ms/step - loss: 0.8670 - accuracy: 0.6364 - val_loss: 0.8632 - val_accuracy: 0.6376\n",
      "Epoch 109/300\n",
      "1010/1010 [==============================] - 4s 4ms/step - loss: 0.8660 - accuracy: 0.6367 - val_loss: 0.8619 - val_accuracy: 0.6388\n",
      "Epoch 110/300\n",
      "1010/1010 [==============================] - 4s 4ms/step - loss: 0.8657 - accuracy: 0.6370 - val_loss: 0.8625 - val_accuracy: 0.6388\n",
      "Epoch 111/300\n",
      "1010/1010 [==============================] - 6s 6ms/step - loss: 0.8648 - accuracy: 0.6372 - val_loss: 0.8629 - val_accuracy: 0.6382\n",
      "Epoch 112/300\n",
      "1010/1010 [==============================] - 4s 4ms/step - loss: 0.8636 - accuracy: 0.6375 - val_loss: 0.8621 - val_accuracy: 0.6404\n",
      "Epoch 113/300\n",
      "1010/1010 [==============================] - 4s 4ms/step - loss: 0.8628 - accuracy: 0.6400 - val_loss: 0.8619 - val_accuracy: 0.6420\n",
      "Epoch 114/300\n",
      "1010/1010 [==============================] - 4s 4ms/step - loss: 0.8630 - accuracy: 0.6381 - val_loss: 0.8595 - val_accuracy: 0.6423\n",
      "Epoch 115/300\n",
      "1010/1010 [==============================] - 5s 5ms/step - loss: 0.8607 - accuracy: 0.6408 - val_loss: 0.8576 - val_accuracy: 0.6421\n",
      "Epoch 116/300\n",
      "1010/1010 [==============================] - 5s 5ms/step - loss: 0.8597 - accuracy: 0.6394 - val_loss: 0.8598 - val_accuracy: 0.6423\n",
      "Epoch 117/300\n",
      "1010/1010 [==============================] - 5s 5ms/step - loss: 0.8600 - accuracy: 0.6405 - val_loss: 0.8577 - val_accuracy: 0.6429\n",
      "Epoch 118/300\n",
      "1010/1010 [==============================] - 5s 4ms/step - loss: 0.8590 - accuracy: 0.6408 - val_loss: 0.8575 - val_accuracy: 0.6455\n",
      "Epoch 119/300\n",
      "1010/1010 [==============================] - 5s 5ms/step - loss: 0.8569 - accuracy: 0.6408 - val_loss: 0.8567 - val_accuracy: 0.6425\n",
      "Epoch 120/300\n",
      "1010/1010 [==============================] - 5s 5ms/step - loss: 0.8555 - accuracy: 0.6432 - val_loss: 0.8547 - val_accuracy: 0.6434\n",
      "Epoch 121/300\n",
      "1010/1010 [==============================] - 4s 4ms/step - loss: 0.8558 - accuracy: 0.6429 - val_loss: 0.8544 - val_accuracy: 0.6458\n",
      "Epoch 122/300\n",
      "1010/1010 [==============================] - 5s 4ms/step - loss: 0.8542 - accuracy: 0.6425 - val_loss: 0.8524 - val_accuracy: 0.6478\n",
      "Epoch 123/300\n",
      "1010/1010 [==============================] - 4s 4ms/step - loss: 0.8542 - accuracy: 0.6442 - val_loss: 0.8522 - val_accuracy: 0.6445\n",
      "Epoch 124/300\n",
      "1010/1010 [==============================] - 4s 4ms/step - loss: 0.8528 - accuracy: 0.6419 - val_loss: 0.8517 - val_accuracy: 0.6449\n",
      "Epoch 125/300\n",
      "1010/1010 [==============================] - 4s 4ms/step - loss: 0.8511 - accuracy: 0.6431 - val_loss: 0.8521 - val_accuracy: 0.6454\n",
      "Epoch 126/300\n",
      "1010/1010 [==============================] - 4s 4ms/step - loss: 0.8499 - accuracy: 0.6453 - val_loss: 0.8506 - val_accuracy: 0.6466\n",
      "Epoch 127/300\n",
      "1010/1010 [==============================] - 5s 5ms/step - loss: 0.8484 - accuracy: 0.6457 - val_loss: 0.8514 - val_accuracy: 0.6491\n",
      "Epoch 128/300\n",
      "1010/1010 [==============================] - 5s 5ms/step - loss: 0.8472 - accuracy: 0.6468 - val_loss: 0.8487 - val_accuracy: 0.6491\n",
      "Epoch 129/300\n",
      "1010/1010 [==============================] - 5s 5ms/step - loss: 0.8475 - accuracy: 0.6459 - val_loss: 0.8493 - val_accuracy: 0.6484\n",
      "Epoch 130/300\n",
      "1010/1010 [==============================] - 5s 5ms/step - loss: 0.8464 - accuracy: 0.6450 - val_loss: 0.8475 - val_accuracy: 0.6485\n",
      "Epoch 131/300\n",
      "1010/1010 [==============================] - 5s 5ms/step - loss: 0.8465 - accuracy: 0.6461 - val_loss: 0.8456 - val_accuracy: 0.6485\n",
      "Epoch 132/300\n",
      "1010/1010 [==============================] - 5s 5ms/step - loss: 0.8464 - accuracy: 0.6465 - val_loss: 0.8489 - val_accuracy: 0.6458\n",
      "Epoch 133/300\n",
      "1010/1010 [==============================] - 5s 5ms/step - loss: 0.8431 - accuracy: 0.6485 - val_loss: 0.8452 - val_accuracy: 0.6498\n",
      "Epoch 134/300\n",
      "1010/1010 [==============================] - 5s 5ms/step - loss: 0.8426 - accuracy: 0.6488 - val_loss: 0.8478 - val_accuracy: 0.6472\n",
      "Epoch 135/300\n",
      "1010/1010 [==============================] - 5s 5ms/step - loss: 0.8427 - accuracy: 0.6490 - val_loss: 0.8422 - val_accuracy: 0.6501\n",
      "Epoch 136/300\n",
      "1010/1010 [==============================] - 5s 5ms/step - loss: 0.8404 - accuracy: 0.6495 - val_loss: 0.8438 - val_accuracy: 0.6509\n",
      "Epoch 137/300\n",
      "1010/1010 [==============================] - 5s 5ms/step - loss: 0.8415 - accuracy: 0.6495 - val_loss: 0.8450 - val_accuracy: 0.6485\n",
      "Epoch 138/300\n",
      "1010/1010 [==============================] - 5s 5ms/step - loss: 0.8392 - accuracy: 0.6509 - val_loss: 0.8428 - val_accuracy: 0.6460\n",
      "Epoch 139/300\n",
      "1010/1010 [==============================] - 5s 5ms/step - loss: 0.8402 - accuracy: 0.6503 - val_loss: 0.8407 - val_accuracy: 0.6538\n",
      "Epoch 140/300\n",
      "1010/1010 [==============================] - 5s 5ms/step - loss: 0.8391 - accuracy: 0.6509 - val_loss: 0.8398 - val_accuracy: 0.6500\n",
      "Epoch 141/300\n",
      "1010/1010 [==============================] - 5s 5ms/step - loss: 0.8366 - accuracy: 0.6519 - val_loss: 0.8398 - val_accuracy: 0.6498\n",
      "Epoch 142/300\n",
      "1010/1010 [==============================] - 5s 5ms/step - loss: 0.8371 - accuracy: 0.6497 - val_loss: 0.8394 - val_accuracy: 0.6550\n",
      "Epoch 143/300\n",
      "1010/1010 [==============================] - 5s 5ms/step - loss: 0.8364 - accuracy: 0.6526 - val_loss: 0.8399 - val_accuracy: 0.6501\n",
      "Epoch 144/300\n",
      "1010/1010 [==============================] - 5s 5ms/step - loss: 0.8362 - accuracy: 0.6523 - val_loss: 0.8362 - val_accuracy: 0.6520\n",
      "Epoch 145/300\n",
      "1010/1010 [==============================] - 5s 5ms/step - loss: 0.8350 - accuracy: 0.6531 - val_loss: 0.8373 - val_accuracy: 0.6534\n",
      "Epoch 146/300\n",
      "1010/1010 [==============================] - 5s 4ms/step - loss: 0.8341 - accuracy: 0.6523 - val_loss: 0.8357 - val_accuracy: 0.6530\n",
      "Epoch 147/300\n",
      "1010/1010 [==============================] - 5s 4ms/step - loss: 0.8308 - accuracy: 0.6556 - val_loss: 0.8348 - val_accuracy: 0.6538\n",
      "Epoch 148/300\n",
      "1010/1010 [==============================] - 5s 5ms/step - loss: 0.8312 - accuracy: 0.6559 - val_loss: 0.8330 - val_accuracy: 0.6576\n",
      "Epoch 149/300\n",
      "1010/1010 [==============================] - 5s 5ms/step - loss: 0.8314 - accuracy: 0.6550 - val_loss: 0.8341 - val_accuracy: 0.6572\n",
      "Epoch 150/300\n",
      "1010/1010 [==============================] - 4s 4ms/step - loss: 0.8275 - accuracy: 0.6567 - val_loss: 0.8337 - val_accuracy: 0.6563\n",
      "Epoch 151/300\n",
      "1010/1010 [==============================] - 4s 4ms/step - loss: 0.8292 - accuracy: 0.6551 - val_loss: 0.8332 - val_accuracy: 0.6558\n",
      "Epoch 152/300\n",
      "1010/1010 [==============================] - 4s 4ms/step - loss: 0.8271 - accuracy: 0.6546 - val_loss: 0.8337 - val_accuracy: 0.6563\n",
      "Epoch 153/300\n",
      "1010/1010 [==============================] - 5s 5ms/step - loss: 0.8263 - accuracy: 0.6577 - val_loss: 0.8320 - val_accuracy: 0.6570\n",
      "Epoch 154/300\n",
      "1010/1010 [==============================] - 4s 4ms/step - loss: 0.8268 - accuracy: 0.6561 - val_loss: 0.8300 - val_accuracy: 0.6564\n",
      "Epoch 155/300\n",
      "1010/1010 [==============================] - 5s 5ms/step - loss: 0.8258 - accuracy: 0.6578 - val_loss: 0.8322 - val_accuracy: 0.6591\n",
      "Epoch 156/300\n",
      "1010/1010 [==============================] - 5s 5ms/step - loss: 0.8246 - accuracy: 0.6581 - val_loss: 0.8284 - val_accuracy: 0.6565\n",
      "Epoch 157/300\n",
      "1010/1010 [==============================] - 5s 5ms/step - loss: 0.8239 - accuracy: 0.6594 - val_loss: 0.8285 - val_accuracy: 0.6564\n",
      "Epoch 158/300\n",
      "1010/1010 [==============================] - 5s 5ms/step - loss: 0.8259 - accuracy: 0.6556 - val_loss: 0.8273 - val_accuracy: 0.6612\n",
      "Epoch 159/300\n",
      "1010/1010 [==============================] - 5s 5ms/step - loss: 0.8227 - accuracy: 0.6587 - val_loss: 0.8295 - val_accuracy: 0.6565\n",
      "Epoch 160/300\n",
      "1010/1010 [==============================] - 5s 5ms/step - loss: 0.8223 - accuracy: 0.6589 - val_loss: 0.8255 - val_accuracy: 0.6592\n",
      "Epoch 161/300\n",
      "1010/1010 [==============================] - 4s 4ms/step - loss: 0.8211 - accuracy: 0.6599 - val_loss: 0.8268 - val_accuracy: 0.6567\n",
      "Epoch 162/300\n",
      "1010/1010 [==============================] - 5s 5ms/step - loss: 0.8204 - accuracy: 0.6595 - val_loss: 0.8255 - val_accuracy: 0.6632\n",
      "Epoch 163/300\n",
      "1010/1010 [==============================] - 4s 4ms/step - loss: 0.8182 - accuracy: 0.6633 - val_loss: 0.8244 - val_accuracy: 0.6587\n",
      "Epoch 164/300\n",
      "1010/1010 [==============================] - 4s 4ms/step - loss: 0.8190 - accuracy: 0.6625 - val_loss: 0.8237 - val_accuracy: 0.6602\n",
      "Epoch 165/300\n",
      "1010/1010 [==============================] - 4s 4ms/step - loss: 0.8176 - accuracy: 0.6618 - val_loss: 0.8254 - val_accuracy: 0.6608\n",
      "Epoch 166/300\n",
      "1010/1010 [==============================] - 5s 5ms/step - loss: 0.8180 - accuracy: 0.6613 - val_loss: 0.8227 - val_accuracy: 0.6588\n",
      "Epoch 167/300\n",
      "1010/1010 [==============================] - 5s 5ms/step - loss: 0.8163 - accuracy: 0.6615 - val_loss: 0.8226 - val_accuracy: 0.6631\n",
      "Epoch 168/300\n",
      "1010/1010 [==============================] - 5s 5ms/step - loss: 0.8150 - accuracy: 0.6615 - val_loss: 0.8277 - val_accuracy: 0.6539\n",
      "Epoch 169/300\n",
      "1010/1010 [==============================] - 5s 5ms/step - loss: 0.8158 - accuracy: 0.6633 - val_loss: 0.8222 - val_accuracy: 0.6639\n",
      "Epoch 170/300\n",
      "1010/1010 [==============================] - 4s 4ms/step - loss: 0.8140 - accuracy: 0.6624 - val_loss: 0.8217 - val_accuracy: 0.6634\n",
      "Epoch 171/300\n",
      "1010/1010 [==============================] - 4s 4ms/step - loss: 0.8143 - accuracy: 0.6615 - val_loss: 0.8191 - val_accuracy: 0.6614\n",
      "Epoch 172/300\n",
      "1010/1010 [==============================] - 4s 4ms/step - loss: 0.8124 - accuracy: 0.6653 - val_loss: 0.8201 - val_accuracy: 0.6655\n",
      "Epoch 173/300\n",
      "1010/1010 [==============================] - 4s 4ms/step - loss: 0.8105 - accuracy: 0.6654 - val_loss: 0.8188 - val_accuracy: 0.6622\n",
      "Epoch 174/300\n",
      "1010/1010 [==============================] - 5s 5ms/step - loss: 0.8095 - accuracy: 0.6660 - val_loss: 0.8194 - val_accuracy: 0.6645\n",
      "Epoch 175/300\n",
      "1010/1010 [==============================] - 4s 4ms/step - loss: 0.8115 - accuracy: 0.6652 - val_loss: 0.8182 - val_accuracy: 0.6647\n",
      "Epoch 176/300\n",
      "1010/1010 [==============================] - 5s 5ms/step - loss: 0.8088 - accuracy: 0.6657 - val_loss: 0.8158 - val_accuracy: 0.6639\n",
      "Epoch 177/300\n",
      "1010/1010 [==============================] - 5s 4ms/step - loss: 0.8088 - accuracy: 0.6626 - val_loss: 0.8157 - val_accuracy: 0.6663\n",
      "Epoch 178/300\n",
      "1010/1010 [==============================] - 5s 5ms/step - loss: 0.8066 - accuracy: 0.6658 - val_loss: 0.8161 - val_accuracy: 0.6635\n",
      "Epoch 179/300\n",
      "1010/1010 [==============================] - 4s 4ms/step - loss: 0.8051 - accuracy: 0.6680 - val_loss: 0.8132 - val_accuracy: 0.6670\n",
      "Epoch 180/300\n",
      "1010/1010 [==============================] - 4s 4ms/step - loss: 0.8063 - accuracy: 0.6661 - val_loss: 0.8149 - val_accuracy: 0.6678\n",
      "Epoch 181/300\n",
      "1010/1010 [==============================] - 5s 5ms/step - loss: 0.8053 - accuracy: 0.6684 - val_loss: 0.8137 - val_accuracy: 0.6662\n",
      "Epoch 182/300\n",
      "1010/1010 [==============================] - 5s 5ms/step - loss: 0.8057 - accuracy: 0.6679 - val_loss: 0.8123 - val_accuracy: 0.6669\n",
      "Epoch 183/300\n",
      "1010/1010 [==============================] - 5s 5ms/step - loss: 0.8043 - accuracy: 0.6662 - val_loss: 0.8142 - val_accuracy: 0.6680\n",
      "Epoch 184/300\n",
      "1010/1010 [==============================] - 4s 4ms/step - loss: 0.8002 - accuracy: 0.6727 - val_loss: 0.8130 - val_accuracy: 0.6664\n",
      "Epoch 185/300\n",
      "1010/1010 [==============================] - 4s 4ms/step - loss: 0.8037 - accuracy: 0.6682 - val_loss: 0.8110 - val_accuracy: 0.6674\n",
      "Epoch 186/300\n",
      "1010/1010 [==============================] - 4s 4ms/step - loss: 0.8011 - accuracy: 0.6697 - val_loss: 0.8114 - val_accuracy: 0.6693\n",
      "Epoch 187/300\n",
      "1010/1010 [==============================] - 5s 4ms/step - loss: 0.8007 - accuracy: 0.6700 - val_loss: 0.8142 - val_accuracy: 0.6628\n",
      "Epoch 188/300\n",
      "1010/1010 [==============================] - 4s 4ms/step - loss: 0.7989 - accuracy: 0.6715 - val_loss: 0.8117 - val_accuracy: 0.6661\n",
      "Epoch 189/300\n",
      "1010/1010 [==============================] - 4s 4ms/step - loss: 0.7995 - accuracy: 0.6686 - val_loss: 0.8079 - val_accuracy: 0.6680\n",
      "Epoch 190/300\n",
      "1010/1010 [==============================] - 4s 4ms/step - loss: 0.7992 - accuracy: 0.6723 - val_loss: 0.8098 - val_accuracy: 0.6686\n",
      "Epoch 191/300\n",
      "1010/1010 [==============================] - 5s 4ms/step - loss: 0.7971 - accuracy: 0.6697 - val_loss: 0.8079 - val_accuracy: 0.6709\n",
      "Epoch 192/300\n",
      "1010/1010 [==============================] - 5s 5ms/step - loss: 0.7971 - accuracy: 0.6726 - val_loss: 0.8072 - val_accuracy: 0.6703\n",
      "Epoch 193/300\n",
      "1010/1010 [==============================] - 5s 5ms/step - loss: 0.7957 - accuracy: 0.6725 - val_loss: 0.8078 - val_accuracy: 0.6727\n",
      "Epoch 194/300\n",
      "1010/1010 [==============================] - 5s 5ms/step - loss: 0.7960 - accuracy: 0.6718 - val_loss: 0.8093 - val_accuracy: 0.6662\n",
      "Epoch 195/300\n",
      "1010/1010 [==============================] - 5s 5ms/step - loss: 0.7934 - accuracy: 0.6732 - val_loss: 0.8088 - val_accuracy: 0.6679\n",
      "Epoch 196/300\n",
      "1010/1010 [==============================] - 4s 4ms/step - loss: 0.7938 - accuracy: 0.6728 - val_loss: 0.8049 - val_accuracy: 0.6707\n",
      "Epoch 197/300\n",
      "1010/1010 [==============================] - 4s 4ms/step - loss: 0.7952 - accuracy: 0.6732 - val_loss: 0.8055 - val_accuracy: 0.6691\n",
      "Epoch 198/300\n",
      "1010/1010 [==============================] - 4s 4ms/step - loss: 0.7940 - accuracy: 0.6722 - val_loss: 0.8053 - val_accuracy: 0.6736\n",
      "Epoch 199/300\n",
      "1010/1010 [==============================] - 4s 4ms/step - loss: 0.7931 - accuracy: 0.6738 - val_loss: 0.8064 - val_accuracy: 0.6676\n",
      "Epoch 200/300\n",
      "1010/1010 [==============================] - 5s 5ms/step - loss: 0.7890 - accuracy: 0.6755 - val_loss: 0.8027 - val_accuracy: 0.6734\n",
      "Epoch 201/300\n",
      "1010/1010 [==============================] - 4s 4ms/step - loss: 0.7907 - accuracy: 0.6754 - val_loss: 0.8059 - val_accuracy: 0.6711\n",
      "Epoch 202/300\n",
      "1010/1010 [==============================] - 4s 4ms/step - loss: 0.7901 - accuracy: 0.6728 - val_loss: 0.8015 - val_accuracy: 0.6732\n",
      "Epoch 203/300\n",
      "1010/1010 [==============================] - 4s 4ms/step - loss: 0.7891 - accuracy: 0.6765 - val_loss: 0.8034 - val_accuracy: 0.6699\n",
      "Epoch 204/300\n",
      "1010/1010 [==============================] - 4s 4ms/step - loss: 0.7864 - accuracy: 0.6755 - val_loss: 0.8017 - val_accuracy: 0.6715\n",
      "Epoch 205/300\n",
      "1010/1010 [==============================] - 4s 4ms/step - loss: 0.7870 - accuracy: 0.6785 - val_loss: 0.8029 - val_accuracy: 0.6690\n",
      "Epoch 206/300\n",
      "1010/1010 [==============================] - 4s 4ms/step - loss: 0.7869 - accuracy: 0.6752 - val_loss: 0.7985 - val_accuracy: 0.6737\n",
      "Epoch 207/300\n",
      "1010/1010 [==============================] - 4s 4ms/step - loss: 0.7855 - accuracy: 0.6769 - val_loss: 0.8001 - val_accuracy: 0.6750\n",
      "Epoch 208/300\n",
      "1010/1010 [==============================] - 4s 4ms/step - loss: 0.7849 - accuracy: 0.6764 - val_loss: 0.8003 - val_accuracy: 0.6731\n",
      "Epoch 209/300\n",
      "1010/1010 [==============================] - 4s 4ms/step - loss: 0.7856 - accuracy: 0.6780 - val_loss: 0.7977 - val_accuracy: 0.6735\n",
      "Epoch 210/300\n",
      "1010/1010 [==============================] - 4s 4ms/step - loss: 0.7838 - accuracy: 0.6778 - val_loss: 0.7992 - val_accuracy: 0.6701\n",
      "Epoch 211/300\n",
      "1010/1010 [==============================] - 4s 4ms/step - loss: 0.7833 - accuracy: 0.6776 - val_loss: 0.7989 - val_accuracy: 0.6727\n",
      "Epoch 212/300\n",
      "1010/1010 [==============================] - 5s 5ms/step - loss: 0.7824 - accuracy: 0.6794 - val_loss: 0.7956 - val_accuracy: 0.6760\n",
      "Epoch 213/300\n",
      "1010/1010 [==============================] - 5s 5ms/step - loss: 0.7822 - accuracy: 0.6781 - val_loss: 0.7970 - val_accuracy: 0.6752\n",
      "Epoch 214/300\n",
      "1010/1010 [==============================] - 4s 4ms/step - loss: 0.7817 - accuracy: 0.6790 - val_loss: 0.7963 - val_accuracy: 0.6766\n",
      "Epoch 215/300\n",
      "1010/1010 [==============================] - 4s 4ms/step - loss: 0.7808 - accuracy: 0.6816 - val_loss: 0.7954 - val_accuracy: 0.6768\n",
      "Epoch 216/300\n",
      "1010/1010 [==============================] - 4s 4ms/step - loss: 0.7786 - accuracy: 0.6803 - val_loss: 0.7928 - val_accuracy: 0.6768\n",
      "Epoch 217/300\n",
      "1010/1010 [==============================] - 4s 4ms/step - loss: 0.7800 - accuracy: 0.6791 - val_loss: 0.7941 - val_accuracy: 0.6779\n",
      "Epoch 218/300\n",
      "1010/1010 [==============================] - 4s 4ms/step - loss: 0.7785 - accuracy: 0.6780 - val_loss: 0.7921 - val_accuracy: 0.6781\n",
      "Epoch 219/300\n",
      "1010/1010 [==============================] - 4s 4ms/step - loss: 0.7777 - accuracy: 0.6823 - val_loss: 0.7944 - val_accuracy: 0.6768\n",
      "Epoch 220/300\n",
      "1010/1010 [==============================] - 4s 4ms/step - loss: 0.7771 - accuracy: 0.6827 - val_loss: 0.7947 - val_accuracy: 0.6721\n",
      "Epoch 221/300\n",
      "1010/1010 [==============================] - 4s 4ms/step - loss: 0.7777 - accuracy: 0.6824 - val_loss: 0.7907 - val_accuracy: 0.6786\n",
      "Epoch 222/300\n",
      "1010/1010 [==============================] - 4s 4ms/step - loss: 0.7757 - accuracy: 0.6822 - val_loss: 0.7919 - val_accuracy: 0.6793\n",
      "Epoch 223/300\n",
      "1010/1010 [==============================] - 4s 4ms/step - loss: 0.7750 - accuracy: 0.6819 - val_loss: 0.7915 - val_accuracy: 0.6789\n",
      "Epoch 224/300\n",
      "1010/1010 [==============================] - 4s 4ms/step - loss: 0.7738 - accuracy: 0.6838 - val_loss: 0.7898 - val_accuracy: 0.6775\n",
      "Epoch 225/300\n",
      "1010/1010 [==============================] - 4s 4ms/step - loss: 0.7723 - accuracy: 0.6843 - val_loss: 0.7907 - val_accuracy: 0.6794\n",
      "Epoch 226/300\n",
      "1010/1010 [==============================] - 4s 4ms/step - loss: 0.7712 - accuracy: 0.6851 - val_loss: 0.7884 - val_accuracy: 0.6805\n",
      "Epoch 227/300\n",
      "1010/1010 [==============================] - 5s 5ms/step - loss: 0.7702 - accuracy: 0.6856 - val_loss: 0.7884 - val_accuracy: 0.6815\n",
      "Epoch 228/300\n",
      "1010/1010 [==============================] - 4s 4ms/step - loss: 0.7728 - accuracy: 0.6833 - val_loss: 0.7890 - val_accuracy: 0.6814\n",
      "Epoch 229/300\n",
      "1010/1010 [==============================] - 5s 5ms/step - loss: 0.7715 - accuracy: 0.6832 - val_loss: 0.7884 - val_accuracy: 0.6834\n",
      "Epoch 230/300\n",
      "1010/1010 [==============================] - 5s 5ms/step - loss: 0.7674 - accuracy: 0.6871 - val_loss: 0.7863 - val_accuracy: 0.6786\n",
      "Epoch 231/300\n",
      "1010/1010 [==============================] - 4s 4ms/step - loss: 0.7681 - accuracy: 0.6862 - val_loss: 0.7855 - val_accuracy: 0.6811\n",
      "Epoch 232/300\n",
      "1010/1010 [==============================] - 4s 4ms/step - loss: 0.7690 - accuracy: 0.6860 - val_loss: 0.7854 - val_accuracy: 0.6808\n",
      "Epoch 233/300\n",
      "1010/1010 [==============================] - 4s 4ms/step - loss: 0.7689 - accuracy: 0.6877 - val_loss: 0.7862 - val_accuracy: 0.6824\n",
      "Epoch 234/300\n",
      "1010/1010 [==============================] - 4s 4ms/step - loss: 0.7687 - accuracy: 0.6859 - val_loss: 0.7847 - val_accuracy: 0.6798\n",
      "Epoch 235/300\n",
      "1010/1010 [==============================] - 4s 4ms/step - loss: 0.7666 - accuracy: 0.6854 - val_loss: 0.7836 - val_accuracy: 0.6824\n",
      "Epoch 236/300\n",
      "1010/1010 [==============================] - 5s 5ms/step - loss: 0.7646 - accuracy: 0.6869 - val_loss: 0.7834 - val_accuracy: 0.6856\n",
      "Epoch 237/300\n",
      "1010/1010 [==============================] - 5s 5ms/step - loss: 0.7651 - accuracy: 0.6872 - val_loss: 0.7846 - val_accuracy: 0.6859\n",
      "Epoch 238/300\n",
      "1010/1010 [==============================] - 5s 5ms/step - loss: 0.7653 - accuracy: 0.6880 - val_loss: 0.7841 - val_accuracy: 0.6838\n",
      "Epoch 239/300\n",
      "1010/1010 [==============================] - 5s 5ms/step - loss: 0.7643 - accuracy: 0.6892 - val_loss: 0.7820 - val_accuracy: 0.6891\n",
      "Epoch 240/300\n",
      "1010/1010 [==============================] - 5s 5ms/step - loss: 0.7636 - accuracy: 0.6889 - val_loss: 0.7810 - val_accuracy: 0.6847\n",
      "Epoch 241/300\n",
      "1010/1010 [==============================] - 5s 5ms/step - loss: 0.7634 - accuracy: 0.6895 - val_loss: 0.7803 - val_accuracy: 0.6822\n",
      "Epoch 242/300\n",
      "1010/1010 [==============================] - 5s 5ms/step - loss: 0.7608 - accuracy: 0.6913 - val_loss: 0.7791 - val_accuracy: 0.6876\n",
      "Epoch 243/300\n",
      "1010/1010 [==============================] - 5s 5ms/step - loss: 0.7615 - accuracy: 0.6884 - val_loss: 0.7832 - val_accuracy: 0.6820\n",
      "Epoch 244/300\n",
      "1010/1010 [==============================] - 5s 5ms/step - loss: 0.7599 - accuracy: 0.6917 - val_loss: 0.7821 - val_accuracy: 0.6867\n",
      "Epoch 245/300\n",
      "1010/1010 [==============================] - 5s 5ms/step - loss: 0.7596 - accuracy: 0.6898 - val_loss: 0.7784 - val_accuracy: 0.6865\n",
      "Epoch 246/300\n",
      "1010/1010 [==============================] - 5s 5ms/step - loss: 0.7616 - accuracy: 0.6892 - val_loss: 0.7786 - val_accuracy: 0.6886\n",
      "Epoch 247/300\n",
      "1010/1010 [==============================] - 5s 5ms/step - loss: 0.7583 - accuracy: 0.6908 - val_loss: 0.7787 - val_accuracy: 0.6865\n",
      "Epoch 248/300\n",
      "1010/1010 [==============================] - 5s 5ms/step - loss: 0.7572 - accuracy: 0.6921 - val_loss: 0.7771 - val_accuracy: 0.6888\n",
      "Epoch 249/300\n",
      "1010/1010 [==============================] - 5s 5ms/step - loss: 0.7558 - accuracy: 0.6922 - val_loss: 0.7784 - val_accuracy: 0.6855\n",
      "Epoch 250/300\n",
      "1010/1010 [==============================] - 5s 5ms/step - loss: 0.7573 - accuracy: 0.6908 - val_loss: 0.7747 - val_accuracy: 0.6908\n",
      "Epoch 251/300\n",
      "1010/1010 [==============================] - 5s 5ms/step - loss: 0.7553 - accuracy: 0.6909 - val_loss: 0.7766 - val_accuracy: 0.6869\n",
      "Epoch 252/300\n",
      "1010/1010 [==============================] - 5s 5ms/step - loss: 0.7547 - accuracy: 0.6926 - val_loss: 0.7765 - val_accuracy: 0.6842\n",
      "Epoch 253/300\n",
      "1010/1010 [==============================] - 5s 5ms/step - loss: 0.7542 - accuracy: 0.6924 - val_loss: 0.7746 - val_accuracy: 0.6904\n",
      "Epoch 254/300\n",
      "1010/1010 [==============================] - 5s 5ms/step - loss: 0.7516 - accuracy: 0.6935 - val_loss: 0.7736 - val_accuracy: 0.6898\n",
      "Epoch 255/300\n",
      "1010/1010 [==============================] - 5s 5ms/step - loss: 0.7517 - accuracy: 0.6935 - val_loss: 0.7738 - val_accuracy: 0.6904\n",
      "Epoch 256/300\n",
      "1010/1010 [==============================] - 5s 5ms/step - loss: 0.7509 - accuracy: 0.6948 - val_loss: 0.7726 - val_accuracy: 0.6865\n",
      "Epoch 257/300\n",
      "1010/1010 [==============================] - 5s 5ms/step - loss: 0.7536 - accuracy: 0.6929 - val_loss: 0.7725 - val_accuracy: 0.6882\n",
      "Epoch 258/300\n",
      "1010/1010 [==============================] - 5s 5ms/step - loss: 0.7511 - accuracy: 0.6949 - val_loss: 0.7712 - val_accuracy: 0.6922\n",
      "Epoch 259/300\n",
      "1010/1010 [==============================] - 5s 5ms/step - loss: 0.7516 - accuracy: 0.6946 - val_loss: 0.7718 - val_accuracy: 0.6918\n",
      "Epoch 260/300\n",
      "1010/1010 [==============================] - 5s 5ms/step - loss: 0.7507 - accuracy: 0.6957 - val_loss: 0.7711 - val_accuracy: 0.6914\n",
      "Epoch 261/300\n",
      "1010/1010 [==============================] - 5s 5ms/step - loss: 0.7494 - accuracy: 0.6955 - val_loss: 0.7723 - val_accuracy: 0.6886\n",
      "Epoch 262/300\n",
      "1010/1010 [==============================] - 5s 5ms/step - loss: 0.7476 - accuracy: 0.6959 - val_loss: 0.7687 - val_accuracy: 0.6919\n",
      "Epoch 263/300\n",
      "1010/1010 [==============================] - 5s 5ms/step - loss: 0.7481 - accuracy: 0.6966 - val_loss: 0.7714 - val_accuracy: 0.6886\n",
      "Epoch 264/300\n",
      "1010/1010 [==============================] - 5s 5ms/step - loss: 0.7474 - accuracy: 0.6967 - val_loss: 0.7683 - val_accuracy: 0.6926\n",
      "Epoch 265/300\n",
      "1010/1010 [==============================] - 5s 5ms/step - loss: 0.7461 - accuracy: 0.6959 - val_loss: 0.7695 - val_accuracy: 0.6922\n",
      "Epoch 266/300\n",
      "1010/1010 [==============================] - 5s 5ms/step - loss: 0.7466 - accuracy: 0.6983 - val_loss: 0.7667 - val_accuracy: 0.6935\n",
      "Epoch 267/300\n",
      "1010/1010 [==============================] - 5s 5ms/step - loss: 0.7441 - accuracy: 0.6991 - val_loss: 0.7680 - val_accuracy: 0.6931\n",
      "Epoch 268/300\n",
      "1010/1010 [==============================] - 5s 5ms/step - loss: 0.7471 - accuracy: 0.6971 - val_loss: 0.7699 - val_accuracy: 0.6931\n",
      "Epoch 269/300\n",
      "1010/1010 [==============================] - 5s 5ms/step - loss: 0.7464 - accuracy: 0.6984 - val_loss: 0.7671 - val_accuracy: 0.6976\n",
      "Epoch 270/300\n",
      "1010/1010 [==============================] - 6s 5ms/step - loss: 0.7440 - accuracy: 0.6973 - val_loss: 0.7673 - val_accuracy: 0.6952\n",
      "Epoch 271/300\n",
      "1010/1010 [==============================] - 6s 5ms/step - loss: 0.7417 - accuracy: 0.6982 - val_loss: 0.7666 - val_accuracy: 0.6902\n",
      "Epoch 272/300\n",
      "1010/1010 [==============================] - 5s 5ms/step - loss: 0.7425 - accuracy: 0.6988 - val_loss: 0.7704 - val_accuracy: 0.6888\n",
      "Epoch 273/300\n",
      "1010/1010 [==============================] - 5s 5ms/step - loss: 0.7424 - accuracy: 0.6991 - val_loss: 0.7681 - val_accuracy: 0.6895\n",
      "Epoch 274/300\n",
      "1010/1010 [==============================] - 5s 5ms/step - loss: 0.7423 - accuracy: 0.6990 - val_loss: 0.7670 - val_accuracy: 0.6905\n",
      "Epoch 275/300\n",
      "1010/1010 [==============================] - 5s 5ms/step - loss: 0.7366 - accuracy: 0.7024 - val_loss: 0.7621 - val_accuracy: 0.6941\n",
      "Epoch 276/300\n",
      "1010/1010 [==============================] - 5s 5ms/step - loss: 0.7393 - accuracy: 0.6999 - val_loss: 0.7637 - val_accuracy: 0.6919\n",
      "Epoch 277/300\n",
      "1010/1010 [==============================] - 5s 5ms/step - loss: 0.7395 - accuracy: 0.6982 - val_loss: 0.7622 - val_accuracy: 0.6956\n",
      "Epoch 278/300\n",
      "1010/1010 [==============================] - 5s 5ms/step - loss: 0.7355 - accuracy: 0.7012 - val_loss: 0.7667 - val_accuracy: 0.6906\n",
      "Epoch 279/300\n",
      "1010/1010 [==============================] - 5s 5ms/step - loss: 0.7374 - accuracy: 0.7009 - val_loss: 0.7617 - val_accuracy: 0.6956\n",
      "Epoch 280/300\n",
      "1010/1010 [==============================] - 5s 5ms/step - loss: 0.7386 - accuracy: 0.7006 - val_loss: 0.7621 - val_accuracy: 0.6977\n",
      "Epoch 281/300\n",
      "1010/1010 [==============================] - 5s 5ms/step - loss: 0.7348 - accuracy: 0.7018 - val_loss: 0.7646 - val_accuracy: 0.6921\n",
      "Epoch 282/300\n",
      "1010/1010 [==============================] - 5s 5ms/step - loss: 0.7361 - accuracy: 0.7023 - val_loss: 0.7627 - val_accuracy: 0.6922\n",
      "Epoch 283/300\n",
      "1010/1010 [==============================] - 5s 5ms/step - loss: 0.7351 - accuracy: 0.7038 - val_loss: 0.7610 - val_accuracy: 0.6958\n",
      "Epoch 284/300\n",
      "1010/1010 [==============================] - 5s 5ms/step - loss: 0.7374 - accuracy: 0.7001 - val_loss: 0.7607 - val_accuracy: 0.6969\n",
      "Epoch 285/300\n",
      "1010/1010 [==============================] - 5s 5ms/step - loss: 0.7362 - accuracy: 0.7014 - val_loss: 0.7598 - val_accuracy: 0.6984\n",
      "Epoch 286/300\n",
      "1010/1010 [==============================] - 5s 5ms/step - loss: 0.7334 - accuracy: 0.7017 - val_loss: 0.7590 - val_accuracy: 0.6973\n",
      "Epoch 287/300\n",
      "1010/1010 [==============================] - 5s 5ms/step - loss: 0.7343 - accuracy: 0.7034 - val_loss: 0.7580 - val_accuracy: 0.6982\n",
      "Epoch 288/300\n",
      "1010/1010 [==============================] - 5s 5ms/step - loss: 0.7302 - accuracy: 0.7027 - val_loss: 0.7616 - val_accuracy: 0.6952\n",
      "Epoch 289/300\n",
      "1010/1010 [==============================] - 5s 5ms/step - loss: 0.7299 - accuracy: 0.7045 - val_loss: 0.7592 - val_accuracy: 0.6976\n",
      "Epoch 290/300\n",
      "1010/1010 [==============================] - 5s 5ms/step - loss: 0.7331 - accuracy: 0.7016 - val_loss: 0.7582 - val_accuracy: 0.6985\n",
      "Epoch 291/300\n",
      "1010/1010 [==============================] - 5s 5ms/step - loss: 0.7308 - accuracy: 0.7037 - val_loss: 0.7574 - val_accuracy: 0.6999\n",
      "Epoch 292/300\n",
      "1010/1010 [==============================] - 5s 5ms/step - loss: 0.7291 - accuracy: 0.7059 - val_loss: 0.7542 - val_accuracy: 0.7023\n",
      "Epoch 293/300\n",
      "1010/1010 [==============================] - 5s 5ms/step - loss: 0.7311 - accuracy: 0.7035 - val_loss: 0.7565 - val_accuracy: 0.6974\n",
      "Epoch 294/300\n",
      "1010/1010 [==============================] - 5s 5ms/step - loss: 0.7254 - accuracy: 0.7064 - val_loss: 0.7548 - val_accuracy: 0.6993\n",
      "Epoch 295/300\n",
      "1010/1010 [==============================] - 5s 5ms/step - loss: 0.7287 - accuracy: 0.7048 - val_loss: 0.7559 - val_accuracy: 0.7017\n",
      "Epoch 296/300\n",
      "1010/1010 [==============================] - 5s 5ms/step - loss: 0.7279 - accuracy: 0.7061 - val_loss: 0.7538 - val_accuracy: 0.7011\n",
      "Epoch 297/300\n",
      "1010/1010 [==============================] - 5s 5ms/step - loss: 0.7253 - accuracy: 0.7068 - val_loss: 0.7526 - val_accuracy: 0.7021\n",
      "Epoch 298/300\n",
      "1010/1010 [==============================] - 5s 5ms/step - loss: 0.7247 - accuracy: 0.7061 - val_loss: 0.7530 - val_accuracy: 0.6991\n",
      "Epoch 299/300\n",
      "1010/1010 [==============================] - 5s 5ms/step - loss: 0.7241 - accuracy: 0.7066 - val_loss: 0.7548 - val_accuracy: 0.7017\n",
      "Epoch 300/300\n",
      "1010/1010 [==============================] - 5s 5ms/step - loss: 0.7238 - accuracy: 0.7070 - val_loss: 0.7513 - val_accuracy: 0.7022\n"
     ]
    }
   ],
   "source": [
    "history = model.fit(X_train, y_train, epochs=300, batch_size=60, validation_data=[X_test,y_test], callbacks=[early_stopping])"
   ]
  },
  {
   "cell_type": "code",
   "execution_count": 24,
   "metadata": {},
   "outputs": [],
   "source": [
    "history_df = pd.DataFrame(history.history)"
   ]
  },
  {
   "cell_type": "code",
   "execution_count": 25,
   "metadata": {},
   "outputs": [
    {
     "data": {
      "text/plain": [
       "<Axes: >"
      ]
     },
     "execution_count": 25,
     "metadata": {},
     "output_type": "execute_result"
    },
    {
     "data": {
      "image/png": "[encoded data removed]",
      "text/plain": [
       "<Figure size 640x480 with 1 Axes>"
      ]
     },
     "metadata": {},
     "output_type": "display_data"
    }
   ],
   "source": [
    "sns.lineplot(data=history_df[['accuracy', 'val_accuracy']])"
   ]
  },
  {
   "cell_type": "code",
   "execution_count": 26,
   "metadata": {},
   "outputs": [
    {
     "data": {
      "text/plain": [
       "<Axes: >"
      ]
     },
     "execution_count": 26,
     "metadata": {},
     "output_type": "execute_result"
    },
    {
     "data": {
      "image/png": "[encoded data removed]",
      "text/plain": [
       "<Figure size 640x480 with 1 Axes>"
      ]
     },
     "metadata": {},
     "output_type": "display_data"
    }
   ],
   "source": [
    "sns.lineplot(data=history_df[['loss', 'val_loss']])"
   ]
  },
  {
   "cell_type": "code",
   "execution_count": 27,
   "metadata": {},
   "outputs": [
    {
     "name": "stdout",
     "output_type": "stream",
     "text": [
      "474/474 [==============================] - 1s 1ms/step - loss: 0.7513 - accuracy: 0.7022\n"
     ]
    },
    {
     "data": {
      "text/plain": [
       "[0.7512656450271606, 0.7021867036819458]"
      ]
     },
     "execution_count": 27,
     "metadata": {},
     "output_type": "execute_result"
    }
   ],
   "source": [
    "model.evaluate(X_test, y_test)"
   ]
  },
  {
   "cell_type": "code",
   "execution_count": 28,
   "metadata": {},
   "outputs": [],
   "source": [
    "from sklearn.metrics import classification_report"
   ]
  },
  {
   "cell_type": "code",
   "execution_count": 29,
   "metadata": {},
   "outputs": [
    {
     "name": "stdout",
     "output_type": "stream",
     "text": [
      "474/474 [==============================] - 1s 1ms/step\n"
     ]
    }
   ],
   "source": [
    "y_pred = np.argmax(model.predict(X_test), axis=-1)"
   ]
  },
  {
   "cell_type": "code",
   "execution_count": 30,
   "metadata": {},
   "outputs": [],
   "source": [
    "y_test = np.argmax(y_test, axis=-1)"
   ]
  },
  {
   "cell_type": "code",
   "execution_count": 31,
   "metadata": {},
   "outputs": [
    {
     "name": "stdout",
     "output_type": "stream",
     "text": [
      "              precision    recall  f1-score   support\n",
      "\n",
      "           0       0.68      0.75      0.72      6353\n",
      "           1       0.72      0.69      0.71      4562\n",
      "           2       0.71      0.63      0.67      4222\n",
      "\n",
      "    accuracy                           0.70     15137\n",
      "   macro avg       0.71      0.69      0.70     15137\n",
      "weighted avg       0.70      0.70      0.70     15137\n",
      "\n"
     ]
    }
   ],
   "source": [
    "print(classification_report(y_test, y_pred))"
   ]
  },
  {
   "cell_type": "code",
   "execution_count": 32,
   "metadata": {},
   "outputs": [],
   "source": [
    "def clasifica_texto(texto):\n",
    "    texto = clean(texto)\n",
    "    vector = vectorize(texto)\n",
    "    vector = vector.reshape(1,300,1)\n",
    "    return np.argmax(model.predict(vector), axis=-1)"
   ]
  },
  {
   "cell_type": "code",
   "execution_count": 33,
   "metadata": {},
   "outputs": [
    {
     "name": "stdout",
     "output_type": "stream",
     "text": [
      "1/1 [==============================] - 0s 12ms/step\n"
     ]
    },
    {
     "data": {
      "text/plain": [
       "array([1])"
      ]
     },
     "execution_count": 33,
     "metadata": {},
     "output_type": "execute_result"
    }
   ],
   "source": [
    "clasifica_texto('''Grok Actually surpasses all A.I and completely outperforms them by a mile..''')"
   ]
  },
  {
   "cell_type": "markdown",
   "metadata": {},
   "source": [
    "Creamos el pipeline para exportarlo"
   ]
  },
  {
   "cell_type": "code",
   "execution_count": 34,
   "metadata": {},
   "outputs": [],
   "source": [
    "from sklearn.pipeline import Pipeline\n",
    "from sklearn.preprocessing import FunctionTransformer"
   ]
  },
  {
   "cell_type": "code",
   "execution_count": 35,
   "metadata": {},
   "outputs": [],
   "source": [
    "def clean_vectorize(text):\n",
    "    text = clean(text)\n",
    "    vector = vectorize(text)\n",
    "    vector = vector.reshape(1,300,1)\n",
    "    return vector\n",
    "\n",
    "transformer = FunctionTransformer(clean_vectorize)"
   ]
  },
  {
   "cell_type": "code",
   "execution_count": 36,
   "metadata": {},
   "outputs": [],
   "source": [
    "pipeline_exportacion = Pipeline([\n",
    "    ('preprocessing', transformer),\n",
    "    ('model', model)\n",
    "])"
   ]
  },
  {
   "cell_type": "code",
   "execution_count": 37,
   "metadata": {},
   "outputs": [
    {
     "name": "stdout",
     "output_type": "stream",
     "text": [
      "1/1 [==============================] - 0s 9ms/step\n"
     ]
    }
   ],
   "source": [
    "res = pipeline_exportacion.predict('''I think the world is going to be a better place because of you.''')"
   ]
  },
  {
   "cell_type": "code",
   "execution_count": 44,
   "metadata": {},
   "outputs": [
    {
     "data": {
      "text/plain": [
       "2"
      ]
     },
     "execution_count": 44,
     "metadata": {},
     "output_type": "execute_result"
    }
   ],
   "source": [
    "res.argmax()"
   ]
  },
  {
   "cell_type": "code",
   "execution_count": 45,
   "metadata": {},
   "outputs": [
    {
     "name": "stderr",
     "output_type": "stream",
     "text": [
      "/Users/jyaruhernandez/Library/Python/3.9/lib/python/site-packages/keras/src/engine/training.py:3000: UserWarning: You are saving your model as an HDF5 file via `model.save()`. This file format is considered legacy. We recommend using instead the native Keras format, e.g. `model.save('my_model.keras')`.\n",
      "  saving_api.save_model(\n"
     ]
    }
   ],
   "source": [
    "model.save('sentiment_classifier.h5')"
   ]
  },
  {
   "cell_type": "code",
   "execution_count": 46,
   "metadata": {},
   "outputs": [],
   "source": [
    "from tensorflow.keras.models import load_model"
   ]
  },
  {
   "cell_type": "code",
   "execution_count": 47,
   "metadata": {},
   "outputs": [],
   "source": [
    "modelo_importado = load_model('sentiment_classifier.h5')"
   ]
  }
 ],
 "metadata": {
  "kernelspec": {
   "display_name": "Python 3",
   "language": "python",
   "name": "python3"
  },
  "language_info": {
   "codemirror_mode": {
    "name": "ipython",
    "version": 3
   },
   "file_extension": ".py",
   "mimetype": "text/x-python",
   "name": "python",
   "nbconvert_exporter": "python",
   "pygments_lexer": "ipython3",
   "version": "3.9.6"
  }
 },
 "nbformat": 4,
 "nbformat_minor": 2
}
