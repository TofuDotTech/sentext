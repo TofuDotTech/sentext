{
 "cells": [
  {
   "cell_type": "code",
   "execution_count": 1,
   "metadata": {},
   "outputs": [],
   "source": [
    "import pandas as pd\n",
    "import numpy as np"
   ]
  },
  {
   "cell_type": "code",
   "execution_count": 2,
   "metadata": {},
   "outputs": [],
   "source": [
    "data_set_test = pd.read_csv('twitter_training.csv')\n",
    "data_set_validation = pd.read_csv('twitter_validation.csv')\n",
    "\n",
    "df = pd.concat([data_set_validation, data_set_test], ignore_index=True)"
   ]
  },
  {
   "cell_type": "code",
   "execution_count": 3,
   "metadata": {},
   "outputs": [
    {
     "data": {
      "text/html": [
       "<div>\n",
       "<style scoped>\n",
       "    .dataframe tbody tr th:only-of-type {\n",
       "        vertical-align: middle;\n",
       "    }\n",
       "\n",
       "    .dataframe tbody tr th {\n",
       "        vertical-align: top;\n",
       "    }\n",
       "\n",
       "    .dataframe thead th {\n",
       "        text-align: right;\n",
       "    }\n",
       "</style>\n",
       "<table border=\"1\" class=\"dataframe\">\n",
       "  <thead>\n",
       "    <tr style=\"text-align: right;\">\n",
       "      <th></th>\n",
       "      <th>id</th>\n",
       "      <th>borderland</th>\n",
       "      <th>emotion</th>\n",
       "      <th>text</th>\n",
       "    </tr>\n",
       "  </thead>\n",
       "  <tbody>\n",
       "    <tr>\n",
       "      <th>0</th>\n",
       "      <td>3364</td>\n",
       "      <td>Facebook</td>\n",
       "      <td>Irrelevant</td>\n",
       "      <td>I mentioned on Facebook that I was struggling ...</td>\n",
       "    </tr>\n",
       "    <tr>\n",
       "      <th>1</th>\n",
       "      <td>352</td>\n",
       "      <td>Amazon</td>\n",
       "      <td>Neutral</td>\n",
       "      <td>BBC News - Amazon boss Jeff Bezos rejects clai...</td>\n",
       "    </tr>\n",
       "    <tr>\n",
       "      <th>2</th>\n",
       "      <td>8312</td>\n",
       "      <td>Microsoft</td>\n",
       "      <td>Negative</td>\n",
       "      <td>@Microsoft Why do I pay for WORD when it funct...</td>\n",
       "    </tr>\n",
       "    <tr>\n",
       "      <th>3</th>\n",
       "      <td>4371</td>\n",
       "      <td>CS-GO</td>\n",
       "      <td>Negative</td>\n",
       "      <td>CSGO matchmaking is so full of closet hacking,...</td>\n",
       "    </tr>\n",
       "    <tr>\n",
       "      <th>4</th>\n",
       "      <td>4433</td>\n",
       "      <td>Google</td>\n",
       "      <td>Neutral</td>\n",
       "      <td>Now the President is slapping Americans in the...</td>\n",
       "    </tr>\n",
       "  </tbody>\n",
       "</table>\n",
       "</div>"
      ],
      "text/plain": [
       "     id borderland     emotion   \n",
       "0  3364   Facebook  Irrelevant  \\\n",
       "1   352     Amazon     Neutral   \n",
       "2  8312  Microsoft    Negative   \n",
       "3  4371      CS-GO    Negative   \n",
       "4  4433     Google     Neutral   \n",
       "\n",
       "                                                text  \n",
       "0  I mentioned on Facebook that I was struggling ...  \n",
       "1  BBC News - Amazon boss Jeff Bezos rejects clai...  \n",
       "2  @Microsoft Why do I pay for WORD when it funct...  \n",
       "3  CSGO matchmaking is so full of closet hacking,...  \n",
       "4  Now the President is slapping Americans in the...  "
      ]
     },
     "execution_count": 3,
     "metadata": {},
     "output_type": "execute_result"
    }
   ],
   "source": [
    "df.head()"
   ]
  },
  {
   "cell_type": "code",
   "execution_count": 4,
   "metadata": {},
   "outputs": [
    {
     "name": "stdout",
     "output_type": "stream",
     "text": [
      "<class 'pandas.core.frame.DataFrame'>\n",
      "RangeIndex: 75682 entries, 0 to 75681\n",
      "Data columns (total 4 columns):\n",
      " #   Column      Non-Null Count  Dtype \n",
      "---  ------      --------------  ----- \n",
      " 0   id          75682 non-null  int64 \n",
      " 1   borderland  75682 non-null  object\n",
      " 2   emotion     75682 non-null  object\n",
      " 3   text        74996 non-null  object\n",
      "dtypes: int64(1), object(3)\n",
      "memory usage: 2.3+ MB\n"
     ]
    }
   ],
   "source": [
    "df.info()"
   ]
  },
  {
   "cell_type": "code",
   "execution_count": 5,
   "metadata": {},
   "outputs": [
    {
     "data": {
      "text/plain": [
       "count        75682\n",
       "unique           4\n",
       "top       Negative\n",
       "freq         22808\n",
       "Name: emotion, dtype: object"
      ]
     },
     "execution_count": 5,
     "metadata": {},
     "output_type": "execute_result"
    }
   ],
   "source": [
    "df['emotion'].describe()"
   ]
  },
  {
   "cell_type": "code",
   "execution_count": 6,
   "metadata": {},
   "outputs": [
    {
     "data": {
      "text/plain": [
       "<Axes: xlabel='emotion'>"
      ]
     },
     "execution_count": 6,
     "metadata": {},
     "output_type": "execute_result"
    },
    {
     "data": {
      "image/png": "[encoded data removed]",
      "text/plain": [
       "<Figure size 640x480 with 1 Axes>"
      ]
     },
     "metadata": {},
     "output_type": "display_data"
    }
   ],
   "source": [
    "df['emotion'].value_counts().plot(kind='bar')"
   ]
  },
  {
   "cell_type": "markdown",
   "metadata": {},
   "source": [
    "Hay un desbalance pero no es preocupante"
   ]
  },
  {
   "cell_type": "code",
   "execution_count": 7,
   "metadata": {},
   "outputs": [
    {
     "name": "stderr",
     "output_type": "stream",
     "text": [
      "[nltk_data] Downloading package punkt to\n",
      "[nltk_data]     /Users/jyaruhernandez/nltk_data...\n",
      "[nltk_data]   Package punkt is already up-to-date!\n",
      "[nltk_data] Downloading package wordnet to\n",
      "[nltk_data]     /Users/jyaruhernandez/nltk_data...\n",
      "[nltk_data]   Package wordnet is already up-to-date!\n",
      "[nltk_data] Downloading package omw-1.4 to\n",
      "[nltk_data]     /Users/jyaruhernandez/nltk_data...\n",
      "[nltk_data]   Package omw-1.4 is already up-to-date!\n",
      "[nltk_data] Downloading package stopwords to\n",
      "[nltk_data]     /Users/jyaruhernandez/nltk_data...\n",
      "[nltk_data]   Package stopwords is already up-to-date!\n"
     ]
    }
   ],
   "source": [
    "import re\n",
    "import nltk\n",
    "from wordcloud import WordCloud\n",
    "from nltk import word_tokenize\n",
    "from nltk.corpus import stopwords\n",
    "nltk.download('punkt')\n",
    "nltk.download('wordnet')\n",
    "nltk.download('omw-1.4')\n",
    "from nltk.stem.wordnet import WordNetLemmatizer\n",
    "lemmatizer = WordNetLemmatizer()\n",
    "nltk.download('stopwords')\n",
    "stop_words_en = set(stopwords.words('english'))\n",
    "import matplotlib.pyplot as plt\n",
    "from sklearn.manifold import TSNE\n",
    "import plotly_express as px\n",
    "import spacy\n",
    "nlp = spacy.load('en_core_web_lg')"
   ]
  },
  {
   "cell_type": "code",
   "execution_count": 8,
   "metadata": {},
   "outputs": [],
   "source": [
    "def clean(text):\n",
    "    text = str(text)\n",
    "    text = text.lower()\n",
    "    text = text.strip()\n",
    "    text = text.replace('\\n', '')\n",
    "    text = text.replace('\\t', '')\n",
    "    text = re.sub(r'[^\\w\\s]','',text)\n",
    "    text = word_tokenize(text)\n",
    "    text = [palabra for palabra in text if palabra not in stop_words_en]\n",
    "    text = [lemmatizer.lemmatize(palabra) for palabra in text]\n",
    "    text = ' '.join(text)\n",
    "    return text"
   ]
  },
  {
   "cell_type": "code",
   "execution_count": 9,
   "metadata": {},
   "outputs": [],
   "source": [
    "df['clean_text'] = df['text'].apply(clean)"
   ]
  },
  {
   "cell_type": "code",
   "execution_count": 88,
   "metadata": {},
   "outputs": [
    {
     "data": {
      "text/plain": [
       "0    mentioned facebook struggling motivation go ru...\n",
       "1    bbc news amazon bos jeff bezos reject claim co...\n",
       "2    microsoft pay word function poorly samsungus c...\n",
       "3    csgo matchmaking full closet hacking truly awf...\n",
       "4    president slapping american face really commit...\n",
       "Name: clean_text, dtype: object"
      ]
     },
     "execution_count": 88,
     "metadata": {},
     "output_type": "execute_result"
    }
   ],
   "source": [
    "df['clean_text'].head()"
   ]
  },
  {
   "cell_type": "code",
   "execution_count": 11,
   "metadata": {},
   "outputs": [],
   "source": [
    "def vectorize(text):\n",
    "    vector = nlp(text).vector\n",
    "    return vector"
   ]
  },
  {
   "cell_type": "code",
   "execution_count": 12,
   "metadata": {},
   "outputs": [],
   "source": [
    "df['vector'] = df['clean_text'].apply(vectorize)"
   ]
  },
  {
   "cell_type": "code",
   "execution_count": 118,
   "metadata": {},
   "outputs": [],
   "source": [
    "X = df['vector']"
   ]
  },
  {
   "cell_type": "code",
   "execution_count": 119,
   "metadata": {},
   "outputs": [],
   "source": [
    "X = np.concatenate(X).reshape(-1,300)"
   ]
  },
  {
   "cell_type": "code",
   "execution_count": 120,
   "metadata": {},
   "outputs": [],
   "source": [
    "import tensorflow as tf\n",
    "import numpy as np\n",
    "import tensorflow.keras as keras\n",
    "from tensorflow.keras.preprocessing.text import Tokenizer\n",
    "from tensorflow.keras.utils import to_categorical\n",
    "from tensorflow.keras.models import Sequential\n",
    "from tensorflow.keras.layers import Dense, LSTM, Embedding, Dropout, Conv1D, MaxPooling1D, Flatten\n",
    "from tensorflow.keras.regularizers import l1, l2\n",
    "from tensorflow.keras.preprocessing.sequence import pad_sequences\n",
    "from tensorflow.keras.optimizers.legacy import Adam\n",
    "from tensorflow.keras.callbacks import EarlyStopping\n",
    "from sklearn.model_selection import train_test_split\n",
    "import seaborn as sns"
   ]
  },
  {
   "cell_type": "code",
   "execution_count": 160,
   "metadata": {},
   "outputs": [],
   "source": [
    "early_stopping = EarlyStopping(monitor='val_loss', patience=5, verbose=1, mode='min')"
   ]
  },
  {
   "cell_type": "code",
   "execution_count": 161,
   "metadata": {},
   "outputs": [],
   "source": [
    "y = df['emotion']\n",
    "X_train, X_test, y_train, y_test = train_test_split(X, y, test_size=0.2, random_state=42, stratify=y)"
   ]
  },
  {
   "cell_type": "code",
   "execution_count": 162,
   "metadata": {},
   "outputs": [],
   "source": [
    "mapper_y = {'Irrelevant':0, 'Neutral':0, 'Negative':1, 'Positive':2}\n",
    "y_train = y_train.map(mapper_y)\n",
    "y_test = y_test.map(mapper_y)"
   ]
  },
  {
   "cell_type": "code",
   "execution_count": 163,
   "metadata": {},
   "outputs": [],
   "source": [
    "y_train = to_categorical(y_train,3)\n",
    "y_test = to_categorical(y_test,3)"
   ]
  },
  {
   "cell_type": "code",
   "execution_count": 164,
   "metadata": {},
   "outputs": [],
   "source": [
    "X_train = X_train.reshape(X_train.shape[0], X_train.shape[1], 1)\n",
    "X_test = X_test.reshape(X_test.shape[0], X_test.shape[1], 1)"
   ]
  },
  {
   "cell_type": "code",
   "execution_count": 165,
   "metadata": {},
   "outputs": [],
   "source": [
    "model = Sequential()"
   ]
  },
  {
   "cell_type": "code",
   "execution_count": 166,
   "metadata": {},
   "outputs": [],
   "source": [
    "model.add(Conv1D(64,5,activation='relu', input_shape=X_train[0].shape))\n",
    "model.add(MaxPooling1D(5))\n",
    "model.add(Flatten())\n",
    "model.add(Dense(64, activation='relu', kernel_regularizer=l2(0.001)))\n",
    "model.add(Dropout(0.6))\n",
    "model.add(Dense(3, activation='softmax'))\n",
    "model.compile(optimizer=Adam(learning_rate=0.00001), loss='categorical_crossentropy', metrics=['accuracy'])"
   ]
  },
  {
   "cell_type": "code",
   "execution_count": 167,
   "metadata": {},
   "outputs": [
    {
     "name": "stdout",
     "output_type": "stream",
     "text": [
      "Epoch 1/300\n",
      "1010/1010 [==============================] - 4s 4ms/step - loss: 1.1977 - accuracy: 0.4205 - val_loss: 1.1563 - val_accuracy: 0.4727\n",
      "Epoch 2/300\n",
      "1010/1010 [==============================] - 4s 4ms/step - loss: 1.1553 - accuracy: 0.4623 - val_loss: 1.1239 - val_accuracy: 0.4946\n",
      "Epoch 3/300\n",
      "1010/1010 [==============================] - 4s 4ms/step - loss: 1.1309 - accuracy: 0.4807 - val_loss: 1.1003 - val_accuracy: 0.5156\n",
      "Epoch 4/300\n",
      "1010/1010 [==============================] - 4s 4ms/step - loss: 1.1113 - accuracy: 0.4961 - val_loss: 1.0807 - val_accuracy: 0.5324\n",
      "Epoch 5/300\n",
      "1010/1010 [==============================] - 4s 4ms/step - loss: 1.0945 - accuracy: 0.5088 - val_loss: 1.0662 - val_accuracy: 0.5376\n",
      "Epoch 6/300\n",
      "1010/1010 [==============================] - 4s 4ms/step - loss: 1.0812 - accuracy: 0.5179 - val_loss: 1.0520 - val_accuracy: 0.5474\n",
      "Epoch 7/300\n",
      "1010/1010 [==============================] - 4s 4ms/step - loss: 1.0725 - accuracy: 0.5246 - val_loss: 1.0415 - val_accuracy: 0.5537\n",
      "Epoch 8/300\n",
      "1010/1010 [==============================] - 4s 4ms/step - loss: 1.0623 - accuracy: 0.5297 - val_loss: 1.0350 - val_accuracy: 0.5542\n",
      "Epoch 9/300\n",
      "1010/1010 [==============================] - 4s 4ms/step - loss: 1.0539 - accuracy: 0.5356 - val_loss: 1.0248 - val_accuracy: 0.5602\n",
      "Epoch 10/300\n",
      "1010/1010 [==============================] - 4s 4ms/step - loss: 1.0459 - accuracy: 0.5398 - val_loss: 1.0219 - val_accuracy: 0.5676\n",
      "Epoch 11/300\n",
      "1010/1010 [==============================] - 4s 4ms/step - loss: 1.0431 - accuracy: 0.5429 - val_loss: 1.0126 - val_accuracy: 0.5697\n",
      "Epoch 12/300\n",
      "1010/1010 [==============================] - 4s 4ms/step - loss: 1.0372 - accuracy: 0.5450 - val_loss: 1.0095 - val_accuracy: 0.5642\n",
      "Epoch 13/300\n",
      "1010/1010 [==============================] - 4s 4ms/step - loss: 1.0294 - accuracy: 0.5513 - val_loss: 1.0056 - val_accuracy: 0.5728\n",
      "Epoch 14/300\n",
      "1010/1010 [==============================] - 4s 4ms/step - loss: 1.0263 - accuracy: 0.5537 - val_loss: 1.0011 - val_accuracy: 0.5724\n",
      "Epoch 15/300\n",
      "1010/1010 [==============================] - 4s 4ms/step - loss: 1.0216 - accuracy: 0.5550 - val_loss: 0.9960 - val_accuracy: 0.5771\n",
      "Epoch 16/300\n",
      "1010/1010 [==============================] - 4s 4ms/step - loss: 1.0183 - accuracy: 0.5586 - val_loss: 0.9917 - val_accuracy: 0.5782\n",
      "Epoch 17/300\n",
      "1010/1010 [==============================] - 4s 4ms/step - loss: 1.0145 - accuracy: 0.5592 - val_loss: 0.9918 - val_accuracy: 0.5766\n",
      "Epoch 18/300\n",
      "1010/1010 [==============================] - 4s 4ms/step - loss: 1.0104 - accuracy: 0.5639 - val_loss: 0.9865 - val_accuracy: 0.5817\n",
      "Epoch 19/300\n",
      "1010/1010 [==============================] - 4s 4ms/step - loss: 1.0052 - accuracy: 0.5665 - val_loss: 0.9825 - val_accuracy: 0.5854\n",
      "Epoch 20/300\n",
      "1010/1010 [==============================] - 4s 4ms/step - loss: 1.0011 - accuracy: 0.5660 - val_loss: 0.9795 - val_accuracy: 0.5857\n",
      "Epoch 21/300\n",
      "1010/1010 [==============================] - 4s 4ms/step - loss: 0.9988 - accuracy: 0.5699 - val_loss: 0.9784 - val_accuracy: 0.5884\n",
      "Epoch 22/300\n",
      "1010/1010 [==============================] - 5s 5ms/step - loss: 0.9975 - accuracy: 0.5682 - val_loss: 0.9749 - val_accuracy: 0.5855\n",
      "Epoch 23/300\n",
      "1010/1010 [==============================] - 5s 5ms/step - loss: 0.9939 - accuracy: 0.5719 - val_loss: 0.9711 - val_accuracy: 0.5883\n",
      "Epoch 24/300\n",
      "1010/1010 [==============================] - 5s 5ms/step - loss: 0.9898 - accuracy: 0.5759 - val_loss: 0.9682 - val_accuracy: 0.5890\n",
      "Epoch 25/300\n",
      "1010/1010 [==============================] - 5s 5ms/step - loss: 0.9885 - accuracy: 0.5749 - val_loss: 0.9679 - val_accuracy: 0.5915\n",
      "Epoch 26/300\n",
      "1010/1010 [==============================] - 4s 4ms/step - loss: 0.9858 - accuracy: 0.5758 - val_loss: 0.9623 - val_accuracy: 0.5930\n",
      "Epoch 27/300\n",
      "1010/1010 [==============================] - 5s 5ms/step - loss: 0.9822 - accuracy: 0.5807 - val_loss: 0.9619 - val_accuracy: 0.5933\n",
      "Epoch 28/300\n",
      "1010/1010 [==============================] - 4s 4ms/step - loss: 0.9798 - accuracy: 0.5806 - val_loss: 0.9613 - val_accuracy: 0.5952\n",
      "Epoch 29/300\n",
      "1010/1010 [==============================] - 4s 4ms/step - loss: 0.9785 - accuracy: 0.5819 - val_loss: 0.9570 - val_accuracy: 0.5964\n",
      "Epoch 30/300\n",
      "1010/1010 [==============================] - 4s 4ms/step - loss: 0.9747 - accuracy: 0.5835 - val_loss: 0.9570 - val_accuracy: 0.5926\n",
      "Epoch 31/300\n",
      "1010/1010 [==============================] - 4s 4ms/step - loss: 0.9737 - accuracy: 0.5812 - val_loss: 0.9536 - val_accuracy: 0.5995\n",
      "Epoch 32/300\n",
      "1010/1010 [==============================] - 4s 4ms/step - loss: 0.9697 - accuracy: 0.5852 - val_loss: 0.9540 - val_accuracy: 0.5985\n",
      "Epoch 33/300\n",
      "1010/1010 [==============================] - 5s 5ms/step - loss: 0.9682 - accuracy: 0.5874 - val_loss: 0.9502 - val_accuracy: 0.6000\n",
      "Epoch 34/300\n",
      "1010/1010 [==============================] - 5s 5ms/step - loss: 0.9663 - accuracy: 0.5876 - val_loss: 0.9499 - val_accuracy: 0.5948\n",
      "Epoch 35/300\n",
      "1010/1010 [==============================] - 5s 5ms/step - loss: 0.9631 - accuracy: 0.5888 - val_loss: 0.9455 - val_accuracy: 0.6015\n",
      "Epoch 36/300\n",
      "1010/1010 [==============================] - 4s 4ms/step - loss: 0.9624 - accuracy: 0.5915 - val_loss: 0.9458 - val_accuracy: 0.6028\n",
      "Epoch 37/300\n",
      "1010/1010 [==============================] - 5s 4ms/step - loss: 0.9597 - accuracy: 0.5913 - val_loss: 0.9429 - val_accuracy: 0.6024\n",
      "Epoch 38/300\n",
      "1010/1010 [==============================] - 5s 5ms/step - loss: 0.9589 - accuracy: 0.5910 - val_loss: 0.9409 - val_accuracy: 0.6044\n",
      "Epoch 39/300\n",
      "1010/1010 [==============================] - 5s 5ms/step - loss: 0.9565 - accuracy: 0.5957 - val_loss: 0.9405 - val_accuracy: 0.6047\n",
      "Epoch 40/300\n",
      "1010/1010 [==============================] - 4s 4ms/step - loss: 0.9541 - accuracy: 0.5969 - val_loss: 0.9376 - val_accuracy: 0.6028\n",
      "Epoch 41/300\n",
      "1010/1010 [==============================] - 4s 4ms/step - loss: 0.9525 - accuracy: 0.5955 - val_loss: 0.9338 - val_accuracy: 0.6076\n",
      "Epoch 42/300\n",
      "1010/1010 [==============================] - 4s 4ms/step - loss: 0.9500 - accuracy: 0.5971 - val_loss: 0.9330 - val_accuracy: 0.6077\n",
      "Epoch 43/300\n",
      "1010/1010 [==============================] - 4s 4ms/step - loss: 0.9489 - accuracy: 0.5952 - val_loss: 0.9327 - val_accuracy: 0.6077\n",
      "Epoch 44/300\n",
      "1010/1010 [==============================] - 5s 5ms/step - loss: 0.9477 - accuracy: 0.5987 - val_loss: 0.9315 - val_accuracy: 0.6117\n",
      "Epoch 45/300\n",
      "1010/1010 [==============================] - 5s 5ms/step - loss: 0.9452 - accuracy: 0.5990 - val_loss: 0.9326 - val_accuracy: 0.6124\n",
      "Epoch 46/300\n",
      "1010/1010 [==============================] - 5s 5ms/step - loss: 0.9467 - accuracy: 0.5984 - val_loss: 0.9274 - val_accuracy: 0.6108\n",
      "Epoch 47/300\n",
      "1010/1010 [==============================] - 5s 5ms/step - loss: 0.9425 - accuracy: 0.6010 - val_loss: 0.9281 - val_accuracy: 0.6103\n",
      "Epoch 48/300\n",
      "1010/1010 [==============================] - 5s 4ms/step - loss: 0.9402 - accuracy: 0.6025 - val_loss: 0.9252 - val_accuracy: 0.6127\n",
      "Epoch 49/300\n",
      "1010/1010 [==============================] - 5s 5ms/step - loss: 0.9384 - accuracy: 0.6011 - val_loss: 0.9240 - val_accuracy: 0.6151\n",
      "Epoch 50/300\n",
      "1010/1010 [==============================] - 5s 5ms/step - loss: 0.9380 - accuracy: 0.6040 - val_loss: 0.9222 - val_accuracy: 0.6135\n",
      "Epoch 51/300\n",
      "1010/1010 [==============================] - 5s 5ms/step - loss: 0.9360 - accuracy: 0.6036 - val_loss: 0.9212 - val_accuracy: 0.6131\n",
      "Epoch 52/300\n",
      "1010/1010 [==============================] - 5s 5ms/step - loss: 0.9338 - accuracy: 0.6024 - val_loss: 0.9193 - val_accuracy: 0.6160\n",
      "Epoch 53/300\n",
      "1010/1010 [==============================] - 5s 5ms/step - loss: 0.9331 - accuracy: 0.6066 - val_loss: 0.9208 - val_accuracy: 0.6102\n",
      "Epoch 54/300\n",
      "1010/1010 [==============================] - 5s 5ms/step - loss: 0.9299 - accuracy: 0.6067 - val_loss: 0.9169 - val_accuracy: 0.6154\n",
      "Epoch 55/300\n",
      "1010/1010 [==============================] - 5s 5ms/step - loss: 0.9290 - accuracy: 0.6073 - val_loss: 0.9164 - val_accuracy: 0.6157\n",
      "Epoch 56/300\n",
      "1010/1010 [==============================] - 5s 5ms/step - loss: 0.9274 - accuracy: 0.6080 - val_loss: 0.9148 - val_accuracy: 0.6164\n",
      "Epoch 57/300\n",
      "1010/1010 [==============================] - 5s 5ms/step - loss: 0.9262 - accuracy: 0.6089 - val_loss: 0.9131 - val_accuracy: 0.6180\n",
      "Epoch 58/300\n",
      "1010/1010 [==============================] - 5s 5ms/step - loss: 0.9239 - accuracy: 0.6111 - val_loss: 0.9109 - val_accuracy: 0.6164\n",
      "Epoch 59/300\n",
      "1010/1010 [==============================] - 5s 5ms/step - loss: 0.9253 - accuracy: 0.6090 - val_loss: 0.9114 - val_accuracy: 0.6194\n",
      "Epoch 60/300\n",
      "1010/1010 [==============================] - 5s 5ms/step - loss: 0.9226 - accuracy: 0.6097 - val_loss: 0.9088 - val_accuracy: 0.6160\n",
      "Epoch 61/300\n",
      "1010/1010 [==============================] - 5s 5ms/step - loss: 0.9204 - accuracy: 0.6119 - val_loss: 0.9115 - val_accuracy: 0.6213\n",
      "Epoch 62/300\n",
      "1010/1010 [==============================] - 5s 5ms/step - loss: 0.9206 - accuracy: 0.6146 - val_loss: 0.9069 - val_accuracy: 0.6197\n",
      "Epoch 63/300\n",
      "1010/1010 [==============================] - 5s 5ms/step - loss: 0.9181 - accuracy: 0.6128 - val_loss: 0.9052 - val_accuracy: 0.6221\n",
      "Epoch 64/300\n",
      "1010/1010 [==============================] - 5s 5ms/step - loss: 0.9167 - accuracy: 0.6138 - val_loss: 0.9081 - val_accuracy: 0.6199\n",
      "Epoch 65/300\n",
      "1010/1010 [==============================] - 5s 5ms/step - loss: 0.9143 - accuracy: 0.6140 - val_loss: 0.9079 - val_accuracy: 0.6240\n",
      "Epoch 66/300\n",
      "1010/1010 [==============================] - 5s 4ms/step - loss: 0.9130 - accuracy: 0.6169 - val_loss: 0.9054 - val_accuracy: 0.6221\n",
      "Epoch 67/300\n",
      "1010/1010 [==============================] - 4s 4ms/step - loss: 0.9126 - accuracy: 0.6137 - val_loss: 0.9028 - val_accuracy: 0.6245\n",
      "Epoch 68/300\n",
      "1010/1010 [==============================] - 5s 4ms/step - loss: 0.9113 - accuracy: 0.6180 - val_loss: 0.9002 - val_accuracy: 0.6246\n",
      "Epoch 69/300\n",
      "1010/1010 [==============================] - 5s 4ms/step - loss: 0.9099 - accuracy: 0.6162 - val_loss: 0.8994 - val_accuracy: 0.6217\n",
      "Epoch 70/300\n",
      "1010/1010 [==============================] - 4s 4ms/step - loss: 0.9090 - accuracy: 0.6183 - val_loss: 0.8989 - val_accuracy: 0.6274\n",
      "Epoch 71/300\n",
      "1010/1010 [==============================] - 4s 4ms/step - loss: 0.9073 - accuracy: 0.6175 - val_loss: 0.8980 - val_accuracy: 0.6215\n",
      "Epoch 72/300\n",
      "1010/1010 [==============================] - 4s 4ms/step - loss: 0.9052 - accuracy: 0.6196 - val_loss: 0.8975 - val_accuracy: 0.6272\n",
      "Epoch 73/300\n",
      "1010/1010 [==============================] - 4s 4ms/step - loss: 0.9036 - accuracy: 0.6222 - val_loss: 0.8946 - val_accuracy: 0.6221\n",
      "Epoch 74/300\n",
      "1010/1010 [==============================] - 4s 4ms/step - loss: 0.9025 - accuracy: 0.6224 - val_loss: 0.8923 - val_accuracy: 0.6239\n",
      "Epoch 75/300\n",
      "1010/1010 [==============================] - 4s 4ms/step - loss: 0.9005 - accuracy: 0.6235 - val_loss: 0.8934 - val_accuracy: 0.6242\n",
      "Epoch 76/300\n",
      "1010/1010 [==============================] - 5s 4ms/step - loss: 0.9001 - accuracy: 0.6240 - val_loss: 0.8936 - val_accuracy: 0.6228\n",
      "Epoch 77/300\n",
      "1010/1010 [==============================] - 4s 4ms/step - loss: 0.8991 - accuracy: 0.6232 - val_loss: 0.8899 - val_accuracy: 0.6237\n",
      "Epoch 78/300\n",
      "1010/1010 [==============================] - 4s 4ms/step - loss: 0.8984 - accuracy: 0.6236 - val_loss: 0.8912 - val_accuracy: 0.6269\n",
      "Epoch 79/300\n",
      "1010/1010 [==============================] - 5s 4ms/step - loss: 0.8964 - accuracy: 0.6243 - val_loss: 0.8914 - val_accuracy: 0.6236\n",
      "Epoch 80/300\n",
      "1010/1010 [==============================] - 4s 4ms/step - loss: 0.8957 - accuracy: 0.6247 - val_loss: 0.8878 - val_accuracy: 0.6247\n",
      "Epoch 81/300\n",
      "1010/1010 [==============================] - 4s 4ms/step - loss: 0.8941 - accuracy: 0.6255 - val_loss: 0.8848 - val_accuracy: 0.6322\n",
      "Epoch 82/300\n",
      "1010/1010 [==============================] - 4s 4ms/step - loss: 0.8923 - accuracy: 0.6275 - val_loss: 0.8851 - val_accuracy: 0.6321\n",
      "Epoch 83/300\n",
      "1010/1010 [==============================] - 5s 5ms/step - loss: 0.8912 - accuracy: 0.6274 - val_loss: 0.8862 - val_accuracy: 0.6308\n",
      "Epoch 84/300\n",
      "1010/1010 [==============================] - 4s 4ms/step - loss: 0.8899 - accuracy: 0.6268 - val_loss: 0.8836 - val_accuracy: 0.6291\n",
      "Epoch 85/300\n",
      "1010/1010 [==============================] - 5s 4ms/step - loss: 0.8879 - accuracy: 0.6269 - val_loss: 0.8818 - val_accuracy: 0.6322\n",
      "Epoch 86/300\n",
      "1010/1010 [==============================] - 5s 5ms/step - loss: 0.8893 - accuracy: 0.6275 - val_loss: 0.8818 - val_accuracy: 0.6312\n",
      "Epoch 87/300\n",
      "1010/1010 [==============================] - 5s 5ms/step - loss: 0.8859 - accuracy: 0.6306 - val_loss: 0.8806 - val_accuracy: 0.6341\n",
      "Epoch 88/300\n",
      "1010/1010 [==============================] - 5s 5ms/step - loss: 0.8860 - accuracy: 0.6300 - val_loss: 0.8798 - val_accuracy: 0.6365\n",
      "Epoch 89/300\n",
      "1010/1010 [==============================] - 5s 4ms/step - loss: 0.8853 - accuracy: 0.6294 - val_loss: 0.8792 - val_accuracy: 0.6320\n",
      "Epoch 90/300\n",
      "1010/1010 [==============================] - 5s 5ms/step - loss: 0.8820 - accuracy: 0.6314 - val_loss: 0.8773 - val_accuracy: 0.6336\n",
      "Epoch 91/300\n",
      "1010/1010 [==============================] - 5s 5ms/step - loss: 0.8819 - accuracy: 0.6338 - val_loss: 0.8776 - val_accuracy: 0.6363\n",
      "Epoch 92/300\n",
      "1010/1010 [==============================] - 5s 5ms/step - loss: 0.8805 - accuracy: 0.6322 - val_loss: 0.8744 - val_accuracy: 0.6355\n",
      "Epoch 93/300\n",
      "1010/1010 [==============================] - 5s 5ms/step - loss: 0.8789 - accuracy: 0.6336 - val_loss: 0.8771 - val_accuracy: 0.6314\n",
      "Epoch 94/300\n",
      "1010/1010 [==============================] - 4s 4ms/step - loss: 0.8797 - accuracy: 0.6320 - val_loss: 0.8750 - val_accuracy: 0.6335\n",
      "Epoch 95/300\n",
      "1010/1010 [==============================] - 5s 5ms/step - loss: 0.8782 - accuracy: 0.6339 - val_loss: 0.8741 - val_accuracy: 0.6355\n",
      "Epoch 96/300\n",
      "1010/1010 [==============================] - 5s 5ms/step - loss: 0.8789 - accuracy: 0.6330 - val_loss: 0.8713 - val_accuracy: 0.6352\n",
      "Epoch 97/300\n",
      "1010/1010 [==============================] - 5s 5ms/step - loss: 0.8742 - accuracy: 0.6360 - val_loss: 0.8707 - val_accuracy: 0.6349\n",
      "Epoch 98/300\n",
      "1010/1010 [==============================] - 5s 5ms/step - loss: 0.8750 - accuracy: 0.6352 - val_loss: 0.8704 - val_accuracy: 0.6397\n",
      "Epoch 99/300\n",
      "1010/1010 [==============================] - 5s 5ms/step - loss: 0.8729 - accuracy: 0.6361 - val_loss: 0.8692 - val_accuracy: 0.6367\n",
      "Epoch 100/300\n",
      "1010/1010 [==============================] - 5s 5ms/step - loss: 0.8727 - accuracy: 0.6359 - val_loss: 0.8685 - val_accuracy: 0.6388\n",
      "Epoch 101/300\n",
      "1010/1010 [==============================] - 5s 5ms/step - loss: 0.8702 - accuracy: 0.6384 - val_loss: 0.8687 - val_accuracy: 0.6379\n",
      "Epoch 102/300\n",
      "1010/1010 [==============================] - 5s 4ms/step - loss: 0.8684 - accuracy: 0.6362 - val_loss: 0.8664 - val_accuracy: 0.6401\n",
      "Epoch 103/300\n",
      "1010/1010 [==============================] - 5s 5ms/step - loss: 0.8699 - accuracy: 0.6366 - val_loss: 0.8682 - val_accuracy: 0.6390\n",
      "Epoch 104/300\n",
      "1010/1010 [==============================] - 5s 5ms/step - loss: 0.8687 - accuracy: 0.6380 - val_loss: 0.8647 - val_accuracy: 0.6391\n",
      "Epoch 105/300\n",
      "1010/1010 [==============================] - 5s 5ms/step - loss: 0.8671 - accuracy: 0.6404 - val_loss: 0.8630 - val_accuracy: 0.6419\n",
      "Epoch 106/300\n",
      "1010/1010 [==============================] - 5s 5ms/step - loss: 0.8672 - accuracy: 0.6418 - val_loss: 0.8629 - val_accuracy: 0.6407\n",
      "Epoch 107/300\n",
      "1010/1010 [==============================] - 5s 5ms/step - loss: 0.8632 - accuracy: 0.6405 - val_loss: 0.8633 - val_accuracy: 0.6421\n",
      "Epoch 108/300\n",
      "1010/1010 [==============================] - 5s 5ms/step - loss: 0.8643 - accuracy: 0.6406 - val_loss: 0.8616 - val_accuracy: 0.6429\n",
      "Epoch 109/300\n",
      "1010/1010 [==============================] - 5s 5ms/step - loss: 0.8641 - accuracy: 0.6398 - val_loss: 0.8599 - val_accuracy: 0.6408\n",
      "Epoch 110/300\n",
      "1010/1010 [==============================] - 5s 5ms/step - loss: 0.8636 - accuracy: 0.6402 - val_loss: 0.8595 - val_accuracy: 0.6413\n",
      "Epoch 111/300\n",
      "1010/1010 [==============================] - 4s 4ms/step - loss: 0.8615 - accuracy: 0.6415 - val_loss: 0.8599 - val_accuracy: 0.6448\n",
      "Epoch 112/300\n",
      "1010/1010 [==============================] - 4s 4ms/step - loss: 0.8601 - accuracy: 0.6426 - val_loss: 0.8592 - val_accuracy: 0.6435\n",
      "Epoch 113/300\n",
      "1010/1010 [==============================] - 4s 4ms/step - loss: 0.8591 - accuracy: 0.6456 - val_loss: 0.8568 - val_accuracy: 0.6450\n",
      "Epoch 114/300\n",
      "1010/1010 [==============================] - 4s 4ms/step - loss: 0.8586 - accuracy: 0.6447 - val_loss: 0.8567 - val_accuracy: 0.6472\n",
      "Epoch 115/300\n",
      "1010/1010 [==============================] - 4s 4ms/step - loss: 0.8563 - accuracy: 0.6428 - val_loss: 0.8579 - val_accuracy: 0.6472\n",
      "Epoch 116/300\n",
      "1010/1010 [==============================] - 4s 4ms/step - loss: 0.8565 - accuracy: 0.6446 - val_loss: 0.8577 - val_accuracy: 0.6396\n",
      "Epoch 117/300\n",
      "1010/1010 [==============================] - 4s 4ms/step - loss: 0.8541 - accuracy: 0.6458 - val_loss: 0.8547 - val_accuracy: 0.6451\n",
      "Epoch 118/300\n",
      "1010/1010 [==============================] - 4s 4ms/step - loss: 0.8543 - accuracy: 0.6465 - val_loss: 0.8541 - val_accuracy: 0.6477\n",
      "Epoch 119/300\n",
      "1010/1010 [==============================] - 4s 4ms/step - loss: 0.8530 - accuracy: 0.6444 - val_loss: 0.8522 - val_accuracy: 0.6470\n",
      "Epoch 120/300\n",
      "1010/1010 [==============================] - 4s 4ms/step - loss: 0.8517 - accuracy: 0.6480 - val_loss: 0.8515 - val_accuracy: 0.6484\n",
      "Epoch 121/300\n",
      "1010/1010 [==============================] - 5s 5ms/step - loss: 0.8502 - accuracy: 0.6485 - val_loss: 0.8528 - val_accuracy: 0.6519\n",
      "Epoch 122/300\n",
      "1010/1010 [==============================] - 5s 5ms/step - loss: 0.8486 - accuracy: 0.6482 - val_loss: 0.8519 - val_accuracy: 0.6474\n",
      "Epoch 123/300\n",
      "1010/1010 [==============================] - 5s 5ms/step - loss: 0.8490 - accuracy: 0.6484 - val_loss: 0.8498 - val_accuracy: 0.6507\n",
      "Epoch 124/300\n",
      "1010/1010 [==============================] - 4s 4ms/step - loss: 0.8480 - accuracy: 0.6494 - val_loss: 0.8501 - val_accuracy: 0.6468\n",
      "Epoch 125/300\n",
      "1010/1010 [==============================] - 4s 4ms/step - loss: 0.8477 - accuracy: 0.6490 - val_loss: 0.8492 - val_accuracy: 0.6500\n",
      "Epoch 126/300\n",
      "1010/1010 [==============================] - 5s 5ms/step - loss: 0.8462 - accuracy: 0.6497 - val_loss: 0.8476 - val_accuracy: 0.6475\n",
      "Epoch 127/300\n",
      "1010/1010 [==============================] - 5s 5ms/step - loss: 0.8467 - accuracy: 0.6495 - val_loss: 0.8472 - val_accuracy: 0.6523\n",
      "Epoch 128/300\n",
      "1010/1010 [==============================] - 4s 4ms/step - loss: 0.8415 - accuracy: 0.6533 - val_loss: 0.8458 - val_accuracy: 0.6493\n",
      "Epoch 129/300\n",
      "1010/1010 [==============================] - 4s 4ms/step - loss: 0.8420 - accuracy: 0.6519 - val_loss: 0.8461 - val_accuracy: 0.6502\n",
      "Epoch 130/300\n",
      "1010/1010 [==============================] - 4s 4ms/step - loss: 0.8404 - accuracy: 0.6534 - val_loss: 0.8436 - val_accuracy: 0.6520\n",
      "Epoch 131/300\n",
      "1010/1010 [==============================] - 5s 5ms/step - loss: 0.8414 - accuracy: 0.6522 - val_loss: 0.8462 - val_accuracy: 0.6460\n",
      "Epoch 132/300\n",
      "1010/1010 [==============================] - 5s 4ms/step - loss: 0.8399 - accuracy: 0.6523 - val_loss: 0.8452 - val_accuracy: 0.6502\n",
      "Epoch 133/300\n",
      "1010/1010 [==============================] - 4s 4ms/step - loss: 0.8387 - accuracy: 0.6531 - val_loss: 0.8434 - val_accuracy: 0.6526\n",
      "Epoch 134/300\n",
      "1010/1010 [==============================] - 5s 4ms/step - loss: 0.8391 - accuracy: 0.6536 - val_loss: 0.8412 - val_accuracy: 0.6522\n",
      "Epoch 135/300\n",
      "1010/1010 [==============================] - 5s 4ms/step - loss: 0.8380 - accuracy: 0.6538 - val_loss: 0.8425 - val_accuracy: 0.6490\n",
      "Epoch 136/300\n",
      "1010/1010 [==============================] - 5s 5ms/step - loss: 0.8378 - accuracy: 0.6556 - val_loss: 0.8415 - val_accuracy: 0.6516\n",
      "Epoch 137/300\n",
      "1010/1010 [==============================] - 4s 4ms/step - loss: 0.8365 - accuracy: 0.6517 - val_loss: 0.8397 - val_accuracy: 0.6522\n",
      "Epoch 138/300\n",
      "1010/1010 [==============================] - 4s 4ms/step - loss: 0.8342 - accuracy: 0.6562 - val_loss: 0.8395 - val_accuracy: 0.6540\n",
      "Epoch 139/300\n",
      "1010/1010 [==============================] - 5s 4ms/step - loss: 0.8342 - accuracy: 0.6536 - val_loss: 0.8371 - val_accuracy: 0.6559\n",
      "Epoch 140/300\n",
      "1010/1010 [==============================] - 4s 4ms/step - loss: 0.8332 - accuracy: 0.6561 - val_loss: 0.8359 - val_accuracy: 0.6555\n",
      "Epoch 141/300\n",
      "1010/1010 [==============================] - 4s 4ms/step - loss: 0.8310 - accuracy: 0.6569 - val_loss: 0.8364 - val_accuracy: 0.6561\n",
      "Epoch 142/300\n",
      "1010/1010 [==============================] - 4s 4ms/step - loss: 0.8303 - accuracy: 0.6563 - val_loss: 0.8364 - val_accuracy: 0.6547\n",
      "Epoch 143/300\n",
      "1010/1010 [==============================] - 4s 4ms/step - loss: 0.8305 - accuracy: 0.6591 - val_loss: 0.8340 - val_accuracy: 0.6537\n",
      "Epoch 144/300\n",
      "1010/1010 [==============================] - 5s 4ms/step - loss: 0.8280 - accuracy: 0.6589 - val_loss: 0.8331 - val_accuracy: 0.6568\n",
      "Epoch 145/300\n",
      "1010/1010 [==============================] - 4s 4ms/step - loss: 0.8279 - accuracy: 0.6566 - val_loss: 0.8350 - val_accuracy: 0.6553\n",
      "Epoch 146/300\n",
      "1010/1010 [==============================] - 4s 4ms/step - loss: 0.8274 - accuracy: 0.6595 - val_loss: 0.8315 - val_accuracy: 0.6568\n",
      "Epoch 147/300\n",
      "1010/1010 [==============================] - 4s 4ms/step - loss: 0.8266 - accuracy: 0.6608 - val_loss: 0.8327 - val_accuracy: 0.6587\n",
      "Epoch 148/300\n",
      "1010/1010 [==============================] - 4s 4ms/step - loss: 0.8235 - accuracy: 0.6618 - val_loss: 0.8307 - val_accuracy: 0.6589\n",
      "Epoch 149/300\n",
      "1010/1010 [==============================] - 4s 4ms/step - loss: 0.8233 - accuracy: 0.6624 - val_loss: 0.8318 - val_accuracy: 0.6592\n",
      "Epoch 150/300\n",
      "1010/1010 [==============================] - 4s 4ms/step - loss: 0.8239 - accuracy: 0.6615 - val_loss: 0.8338 - val_accuracy: 0.6556\n",
      "Epoch 151/300\n",
      "1010/1010 [==============================] - 4s 4ms/step - loss: 0.8218 - accuracy: 0.6618 - val_loss: 0.8287 - val_accuracy: 0.6580\n",
      "Epoch 152/300\n",
      "1010/1010 [==============================] - 4s 4ms/step - loss: 0.8206 - accuracy: 0.6628 - val_loss: 0.8298 - val_accuracy: 0.6587\n",
      "Epoch 153/300\n",
      "1010/1010 [==============================] - 4s 4ms/step - loss: 0.8204 - accuracy: 0.6638 - val_loss: 0.8275 - val_accuracy: 0.6611\n",
      "Epoch 154/300\n",
      "1010/1010 [==============================] - 4s 4ms/step - loss: 0.8212 - accuracy: 0.6601 - val_loss: 0.8261 - val_accuracy: 0.6622\n",
      "Epoch 155/300\n",
      "1010/1010 [==============================] - 4s 4ms/step - loss: 0.8186 - accuracy: 0.6637 - val_loss: 0.8269 - val_accuracy: 0.6607\n",
      "Epoch 156/300\n",
      "1010/1010 [==============================] - 4s 4ms/step - loss: 0.8187 - accuracy: 0.6654 - val_loss: 0.8263 - val_accuracy: 0.6594\n",
      "Epoch 157/300\n",
      "1010/1010 [==============================] - 4s 4ms/step - loss: 0.8188 - accuracy: 0.6656 - val_loss: 0.8243 - val_accuracy: 0.6614\n",
      "Epoch 158/300\n",
      "1010/1010 [==============================] - 4s 4ms/step - loss: 0.8161 - accuracy: 0.6664 - val_loss: 0.8258 - val_accuracy: 0.6617\n",
      "Epoch 159/300\n",
      "1010/1010 [==============================] - 4s 4ms/step - loss: 0.8150 - accuracy: 0.6658 - val_loss: 0.8216 - val_accuracy: 0.6618\n",
      "Epoch 160/300\n",
      "1010/1010 [==============================] - 4s 4ms/step - loss: 0.8162 - accuracy: 0.6667 - val_loss: 0.8237 - val_accuracy: 0.6618\n",
      "Epoch 161/300\n",
      "1010/1010 [==============================] - 4s 4ms/step - loss: 0.8138 - accuracy: 0.6678 - val_loss: 0.8250 - val_accuracy: 0.6583\n",
      "Epoch 162/300\n",
      "1010/1010 [==============================] - 4s 4ms/step - loss: 0.8152 - accuracy: 0.6664 - val_loss: 0.8204 - val_accuracy: 0.6638\n",
      "Epoch 163/300\n",
      "1010/1010 [==============================] - 4s 4ms/step - loss: 0.8133 - accuracy: 0.6676 - val_loss: 0.8211 - val_accuracy: 0.6618\n",
      "Epoch 164/300\n",
      "1010/1010 [==============================] - 5s 5ms/step - loss: 0.8102 - accuracy: 0.6668 - val_loss: 0.8205 - val_accuracy: 0.6613\n",
      "Epoch 165/300\n",
      "1010/1010 [==============================] - 4s 4ms/step - loss: 0.8105 - accuracy: 0.6669 - val_loss: 0.8196 - val_accuracy: 0.6664\n",
      "Epoch 166/300\n",
      "1010/1010 [==============================] - 4s 4ms/step - loss: 0.8092 - accuracy: 0.6698 - val_loss: 0.8181 - val_accuracy: 0.6646\n",
      "Epoch 167/300\n",
      "1010/1010 [==============================] - 4s 4ms/step - loss: 0.8053 - accuracy: 0.6704 - val_loss: 0.8193 - val_accuracy: 0.6649\n",
      "Epoch 168/300\n",
      "1010/1010 [==============================] - 4s 4ms/step - loss: 0.8081 - accuracy: 0.6689 - val_loss: 0.8163 - val_accuracy: 0.6642\n",
      "Epoch 169/300\n",
      "1010/1010 [==============================] - 4s 4ms/step - loss: 0.8059 - accuracy: 0.6699 - val_loss: 0.8175 - val_accuracy: 0.6651\n",
      "Epoch 170/300\n",
      "1010/1010 [==============================] - 4s 4ms/step - loss: 0.8073 - accuracy: 0.6688 - val_loss: 0.8163 - val_accuracy: 0.6669\n",
      "Epoch 171/300\n",
      "1010/1010 [==============================] - 4s 4ms/step - loss: 0.8055 - accuracy: 0.6707 - val_loss: 0.8147 - val_accuracy: 0.6652\n",
      "Epoch 172/300\n",
      "1010/1010 [==============================] - 4s 4ms/step - loss: 0.8053 - accuracy: 0.6708 - val_loss: 0.8136 - val_accuracy: 0.6678\n",
      "Epoch 173/300\n",
      "1010/1010 [==============================] - 4s 4ms/step - loss: 0.8057 - accuracy: 0.6711 - val_loss: 0.8131 - val_accuracy: 0.6654\n",
      "Epoch 174/300\n",
      "1010/1010 [==============================] - 4s 4ms/step - loss: 0.8021 - accuracy: 0.6728 - val_loss: 0.8151 - val_accuracy: 0.6666\n",
      "Epoch 175/300\n",
      "1010/1010 [==============================] - 4s 4ms/step - loss: 0.8034 - accuracy: 0.6721 - val_loss: 0.8131 - val_accuracy: 0.6655\n",
      "Epoch 176/300\n",
      "1010/1010 [==============================] - 4s 4ms/step - loss: 0.8020 - accuracy: 0.6710 - val_loss: 0.8121 - val_accuracy: 0.6690\n",
      "Epoch 177/300\n",
      "1010/1010 [==============================] - 4s 4ms/step - loss: 0.8007 - accuracy: 0.6723 - val_loss: 0.8129 - val_accuracy: 0.6674\n",
      "Epoch 178/300\n",
      "1010/1010 [==============================] - 5s 4ms/step - loss: 0.8000 - accuracy: 0.6730 - val_loss: 0.8098 - val_accuracy: 0.6675\n",
      "Epoch 179/300\n",
      "1010/1010 [==============================] - 5s 4ms/step - loss: 0.7958 - accuracy: 0.6745 - val_loss: 0.8111 - val_accuracy: 0.6676\n",
      "Epoch 180/300\n",
      "1010/1010 [==============================] - 5s 5ms/step - loss: 0.7961 - accuracy: 0.6756 - val_loss: 0.8111 - val_accuracy: 0.6733\n",
      "Epoch 181/300\n",
      "1010/1010 [==============================] - 5s 5ms/step - loss: 0.7967 - accuracy: 0.6757 - val_loss: 0.8117 - val_accuracy: 0.6670\n",
      "Epoch 182/300\n",
      "1010/1010 [==============================] - 5s 5ms/step - loss: 0.7948 - accuracy: 0.6733 - val_loss: 0.8078 - val_accuracy: 0.6715\n",
      "Epoch 183/300\n",
      "1010/1010 [==============================] - 5s 4ms/step - loss: 0.7938 - accuracy: 0.6753 - val_loss: 0.8102 - val_accuracy: 0.6710\n",
      "Epoch 184/300\n",
      "1010/1010 [==============================] - 5s 5ms/step - loss: 0.7948 - accuracy: 0.6764 - val_loss: 0.8054 - val_accuracy: 0.6707\n",
      "Epoch 185/300\n",
      "1010/1010 [==============================] - 5s 5ms/step - loss: 0.7956 - accuracy: 0.6773 - val_loss: 0.8047 - val_accuracy: 0.6742\n",
      "Epoch 186/300\n",
      "1010/1010 [==============================] - 5s 5ms/step - loss: 0.7925 - accuracy: 0.6758 - val_loss: 0.8050 - val_accuracy: 0.6731\n",
      "Epoch 187/300\n",
      "1010/1010 [==============================] - 5s 5ms/step - loss: 0.7934 - accuracy: 0.6765 - val_loss: 0.8046 - val_accuracy: 0.6722\n",
      "Epoch 188/300\n",
      "1010/1010 [==============================] - 5s 5ms/step - loss: 0.7920 - accuracy: 0.6774 - val_loss: 0.8045 - val_accuracy: 0.6729\n",
      "Epoch 189/300\n",
      "1010/1010 [==============================] - 5s 5ms/step - loss: 0.7906 - accuracy: 0.6776 - val_loss: 0.8031 - val_accuracy: 0.6762\n",
      "Epoch 190/300\n",
      "1010/1010 [==============================] - 5s 5ms/step - loss: 0.7898 - accuracy: 0.6800 - val_loss: 0.8035 - val_accuracy: 0.6719\n",
      "Epoch 191/300\n",
      "1010/1010 [==============================] - 5s 5ms/step - loss: 0.7886 - accuracy: 0.6785 - val_loss: 0.8061 - val_accuracy: 0.6703\n",
      "Epoch 192/300\n",
      "1010/1010 [==============================] - 5s 5ms/step - loss: 0.7885 - accuracy: 0.6809 - val_loss: 0.8014 - val_accuracy: 0.6754\n",
      "Epoch 193/300\n",
      "1010/1010 [==============================] - 5s 5ms/step - loss: 0.7888 - accuracy: 0.6789 - val_loss: 0.8031 - val_accuracy: 0.6775\n",
      "Epoch 194/300\n",
      "1010/1010 [==============================] - 5s 5ms/step - loss: 0.7844 - accuracy: 0.6802 - val_loss: 0.8059 - val_accuracy: 0.6742\n",
      "Epoch 195/300\n",
      "1010/1010 [==============================] - 5s 5ms/step - loss: 0.7860 - accuracy: 0.6810 - val_loss: 0.7992 - val_accuracy: 0.6751\n",
      "Epoch 196/300\n",
      "1010/1010 [==============================] - 5s 5ms/step - loss: 0.7864 - accuracy: 0.6805 - val_loss: 0.8019 - val_accuracy: 0.6731\n",
      "Epoch 197/300\n",
      "1010/1010 [==============================] - 5s 5ms/step - loss: 0.7851 - accuracy: 0.6794 - val_loss: 0.7988 - val_accuracy: 0.6748\n",
      "Epoch 198/300\n",
      "1010/1010 [==============================] - 5s 5ms/step - loss: 0.7834 - accuracy: 0.6815 - val_loss: 0.7999 - val_accuracy: 0.6736\n",
      "Epoch 199/300\n",
      "1010/1010 [==============================] - 5s 5ms/step - loss: 0.7822 - accuracy: 0.6809 - val_loss: 0.7963 - val_accuracy: 0.6766\n",
      "Epoch 200/300\n",
      "1010/1010 [==============================] - 5s 5ms/step - loss: 0.7815 - accuracy: 0.6851 - val_loss: 0.7966 - val_accuracy: 0.6756\n",
      "Epoch 201/300\n",
      "1010/1010 [==============================] - 5s 5ms/step - loss: 0.7828 - accuracy: 0.6829 - val_loss: 0.8009 - val_accuracy: 0.6775\n",
      "Epoch 202/300\n",
      "1010/1010 [==============================] - 5s 5ms/step - loss: 0.7814 - accuracy: 0.6808 - val_loss: 0.7967 - val_accuracy: 0.6765\n",
      "Epoch 203/300\n",
      "1010/1010 [==============================] - 5s 5ms/step - loss: 0.7782 - accuracy: 0.6843 - val_loss: 0.7945 - val_accuracy: 0.6768\n",
      "Epoch 204/300\n",
      "1010/1010 [==============================] - 5s 4ms/step - loss: 0.7782 - accuracy: 0.6834 - val_loss: 0.7957 - val_accuracy: 0.6762\n",
      "Epoch 205/300\n",
      "1010/1010 [==============================] - 4s 4ms/step - loss: 0.7768 - accuracy: 0.6853 - val_loss: 0.7927 - val_accuracy: 0.6787\n",
      "Epoch 206/300\n",
      "1010/1010 [==============================] - 5s 5ms/step - loss: 0.7756 - accuracy: 0.6848 - val_loss: 0.7926 - val_accuracy: 0.6789\n",
      "Epoch 207/300\n",
      "1010/1010 [==============================] - 5s 4ms/step - loss: 0.7752 - accuracy: 0.6858 - val_loss: 0.7916 - val_accuracy: 0.6810\n",
      "Epoch 208/300\n",
      "1010/1010 [==============================] - 4s 4ms/step - loss: 0.7744 - accuracy: 0.6864 - val_loss: 0.7939 - val_accuracy: 0.6771\n",
      "Epoch 209/300\n",
      "1010/1010 [==============================] - 4s 4ms/step - loss: 0.7734 - accuracy: 0.6866 - val_loss: 0.7901 - val_accuracy: 0.6793\n",
      "Epoch 210/300\n",
      "1010/1010 [==============================] - 5s 5ms/step - loss: 0.7765 - accuracy: 0.6858 - val_loss: 0.7924 - val_accuracy: 0.6789\n",
      "Epoch 211/300\n",
      "1010/1010 [==============================] - 5s 5ms/step - loss: 0.7736 - accuracy: 0.6884 - val_loss: 0.7915 - val_accuracy: 0.6789\n",
      "Epoch 212/300\n",
      "1010/1010 [==============================] - 5s 5ms/step - loss: 0.7722 - accuracy: 0.6879 - val_loss: 0.7949 - val_accuracy: 0.6760\n",
      "Epoch 213/300\n",
      "1010/1010 [==============================] - 5s 5ms/step - loss: 0.7704 - accuracy: 0.6863 - val_loss: 0.7912 - val_accuracy: 0.6781\n",
      "Epoch 214/300\n",
      "1010/1010 [==============================] - 4s 4ms/step - loss: 0.7709 - accuracy: 0.6875 - val_loss: 0.7856 - val_accuracy: 0.6818\n",
      "Epoch 215/300\n",
      "1010/1010 [==============================] - 4s 4ms/step - loss: 0.7702 - accuracy: 0.6860 - val_loss: 0.7877 - val_accuracy: 0.6808\n",
      "Epoch 216/300\n",
      "1010/1010 [==============================] - 5s 4ms/step - loss: 0.7703 - accuracy: 0.6887 - val_loss: 0.7890 - val_accuracy: 0.6840\n",
      "Epoch 217/300\n",
      "1010/1010 [==============================] - 5s 4ms/step - loss: 0.7694 - accuracy: 0.6892 - val_loss: 0.7876 - val_accuracy: 0.6823\n",
      "Epoch 218/300\n",
      "1010/1010 [==============================] - 5s 5ms/step - loss: 0.7700 - accuracy: 0.6911 - val_loss: 0.7854 - val_accuracy: 0.6835\n",
      "Epoch 219/300\n",
      "1010/1010 [==============================] - 5s 5ms/step - loss: 0.7639 - accuracy: 0.6918 - val_loss: 0.7877 - val_accuracy: 0.6808\n",
      "Epoch 220/300\n",
      "1010/1010 [==============================] - 5s 5ms/step - loss: 0.7673 - accuracy: 0.6900 - val_loss: 0.7835 - val_accuracy: 0.6819\n",
      "Epoch 221/300\n",
      "1010/1010 [==============================] - 5s 5ms/step - loss: 0.7652 - accuracy: 0.6926 - val_loss: 0.7835 - val_accuracy: 0.6851\n",
      "Epoch 222/300\n",
      "1010/1010 [==============================] - 5s 5ms/step - loss: 0.7630 - accuracy: 0.6925 - val_loss: 0.7818 - val_accuracy: 0.6834\n",
      "Epoch 223/300\n",
      "1010/1010 [==============================] - 5s 5ms/step - loss: 0.7654 - accuracy: 0.6907 - val_loss: 0.7827 - val_accuracy: 0.6857\n",
      "Epoch 224/300\n",
      "1010/1010 [==============================] - 5s 4ms/step - loss: 0.7619 - accuracy: 0.6914 - val_loss: 0.7811 - val_accuracy: 0.6846\n",
      "Epoch 225/300\n",
      "1010/1010 [==============================] - 5s 4ms/step - loss: 0.7622 - accuracy: 0.6911 - val_loss: 0.7836 - val_accuracy: 0.6841\n",
      "Epoch 226/300\n",
      "1010/1010 [==============================] - 5s 5ms/step - loss: 0.7630 - accuracy: 0.6909 - val_loss: 0.7818 - val_accuracy: 0.6822\n",
      "Epoch 227/300\n",
      "1010/1010 [==============================] - 4s 4ms/step - loss: 0.7606 - accuracy: 0.6912 - val_loss: 0.7826 - val_accuracy: 0.6844\n",
      "Epoch 228/300\n",
      "1010/1010 [==============================] - 5s 5ms/step - loss: 0.7594 - accuracy: 0.6921 - val_loss: 0.7799 - val_accuracy: 0.6860\n",
      "Epoch 229/300\n",
      "1010/1010 [==============================] - 5s 5ms/step - loss: 0.7598 - accuracy: 0.6937 - val_loss: 0.7795 - val_accuracy: 0.6877\n",
      "Epoch 230/300\n",
      "1010/1010 [==============================] - 5s 4ms/step - loss: 0.7574 - accuracy: 0.6951 - val_loss: 0.7782 - val_accuracy: 0.6900\n",
      "Epoch 231/300\n",
      "1010/1010 [==============================] - 5s 5ms/step - loss: 0.7586 - accuracy: 0.6944 - val_loss: 0.7790 - val_accuracy: 0.6865\n",
      "Epoch 232/300\n",
      "1010/1010 [==============================] - 5s 5ms/step - loss: 0.7575 - accuracy: 0.6945 - val_loss: 0.7783 - val_accuracy: 0.6861\n",
      "Epoch 233/300\n",
      "1010/1010 [==============================] - 5s 5ms/step - loss: 0.7568 - accuracy: 0.6952 - val_loss: 0.7773 - val_accuracy: 0.6892\n",
      "Epoch 234/300\n",
      "1010/1010 [==============================] - 5s 4ms/step - loss: 0.7568 - accuracy: 0.6957 - val_loss: 0.7793 - val_accuracy: 0.6889\n",
      "Epoch 235/300\n",
      "1010/1010 [==============================] - 5s 5ms/step - loss: 0.7550 - accuracy: 0.6954 - val_loss: 0.7755 - val_accuracy: 0.6879\n",
      "Epoch 236/300\n",
      "1010/1010 [==============================] - 5s 4ms/step - loss: 0.7539 - accuracy: 0.6984 - val_loss: 0.7745 - val_accuracy: 0.6894\n",
      "Epoch 237/300\n",
      "1010/1010 [==============================] - 5s 5ms/step - loss: 0.7522 - accuracy: 0.6980 - val_loss: 0.7738 - val_accuracy: 0.6904\n",
      "Epoch 238/300\n",
      "1010/1010 [==============================] - 5s 5ms/step - loss: 0.7522 - accuracy: 0.6961 - val_loss: 0.7729 - val_accuracy: 0.6906\n",
      "Epoch 239/300\n",
      "1010/1010 [==============================] - 5s 5ms/step - loss: 0.7533 - accuracy: 0.6967 - val_loss: 0.7745 - val_accuracy: 0.6923\n",
      "Epoch 240/300\n",
      "1010/1010 [==============================] - 4s 4ms/step - loss: 0.7491 - accuracy: 0.6989 - val_loss: 0.7728 - val_accuracy: 0.6912\n",
      "Epoch 241/300\n",
      "1010/1010 [==============================] - 5s 4ms/step - loss: 0.7511 - accuracy: 0.6983 - val_loss: 0.7731 - val_accuracy: 0.6887\n",
      "Epoch 242/300\n",
      "1010/1010 [==============================] - 5s 4ms/step - loss: 0.7481 - accuracy: 0.6974 - val_loss: 0.7706 - val_accuracy: 0.6886\n",
      "Epoch 243/300\n",
      "1010/1010 [==============================] - 5s 5ms/step - loss: 0.7489 - accuracy: 0.6994 - val_loss: 0.7739 - val_accuracy: 0.6894\n",
      "Epoch 244/300\n",
      "1010/1010 [==============================] - 4s 4ms/step - loss: 0.7490 - accuracy: 0.7002 - val_loss: 0.7752 - val_accuracy: 0.6898\n",
      "Epoch 245/300\n",
      "1010/1010 [==============================] - 5s 4ms/step - loss: 0.7460 - accuracy: 0.6999 - val_loss: 0.7707 - val_accuracy: 0.6932\n",
      "Epoch 246/300\n",
      "1010/1010 [==============================] - 5s 5ms/step - loss: 0.7476 - accuracy: 0.7009 - val_loss: 0.7710 - val_accuracy: 0.6936\n",
      "Epoch 247/300\n",
      "1010/1010 [==============================] - 4s 4ms/step - loss: 0.7475 - accuracy: 0.6986 - val_loss: 0.7710 - val_accuracy: 0.6923\n",
      "Epoch 247: early stopping\n"
     ]
    }
   ],
   "source": [
    "history = model.fit(X_train, y_train, epochs=300, batch_size=60, validation_data=[X_test,y_test], callbacks=[early_stopping])"
   ]
  },
  {
   "cell_type": "code",
   "execution_count": 168,
   "metadata": {},
   "outputs": [],
   "source": [
    "history_df = pd.DataFrame(history.history)"
   ]
  },
  {
   "cell_type": "code",
   "execution_count": 169,
   "metadata": {},
   "outputs": [
    {
     "data": {
      "text/plain": [
       "<Axes: >"
      ]
     },
     "execution_count": 169,
     "metadata": {},
     "output_type": "execute_result"
    },
    {
     "data": {
      "image/png": "[encoded data removed]",
      "text/plain": [
       "<Figure size 640x480 with 1 Axes>"
      ]
     },
     "metadata": {},
     "output_type": "display_data"
    }
   ],
   "source": [
    "sns.lineplot(data=history_df[['accuracy', 'val_accuracy']])"
   ]
  },
  {
   "cell_type": "code",
   "execution_count": 170,
   "metadata": {},
   "outputs": [
    {
     "data": {
      "text/plain": [
       "<Axes: >"
      ]
     },
     "execution_count": 170,
     "metadata": {},
     "output_type": "execute_result"
    },
    {
     "data": {
      "image/png": "[encoded data removed]",
      "text/plain": [
       "<Figure size 640x480 with 1 Axes>"
      ]
     },
     "metadata": {},
     "output_type": "display_data"
    }
   ],
   "source": [
    "sns.lineplot(data=history_df[['loss', 'val_loss']])"
   ]
  },
  {
   "cell_type": "code",
   "execution_count": 171,
   "metadata": {},
   "outputs": [
    {
     "name": "stdout",
     "output_type": "stream",
     "text": [
      "474/474 [==============================] - 0s 990us/step - loss: 0.7710 - accuracy: 0.6923\n"
     ]
    },
    {
     "data": {
      "text/plain": [
       "[0.7710309624671936, 0.692277193069458]"
      ]
     },
     "execution_count": 171,
     "metadata": {},
     "output_type": "execute_result"
    }
   ],
   "source": [
    "model.evaluate(X_test, y_test)"
   ]
  },
  {
   "cell_type": "code",
   "execution_count": 172,
   "metadata": {},
   "outputs": [],
   "source": [
    "from sklearn.metrics import classification_report"
   ]
  },
  {
   "cell_type": "code",
   "execution_count": 173,
   "metadata": {},
   "outputs": [
    {
     "name": "stdout",
     "output_type": "stream",
     "text": [
      "474/474 [==============================] - 0s 888us/step\n"
     ]
    }
   ],
   "source": [
    "y_pred = np.argmax(model.predict(X_test), axis=-1)"
   ]
  },
  {
   "cell_type": "code",
   "execution_count": 174,
   "metadata": {},
   "outputs": [],
   "source": [
    "y_test = np.argmax(y_test, axis=-1)"
   ]
  },
  {
   "cell_type": "code",
   "execution_count": 175,
   "metadata": {},
   "outputs": [
    {
     "name": "stdout",
     "output_type": "stream",
     "text": [
      "              precision    recall  f1-score   support\n",
      "\n",
      "           0       0.67      0.76      0.71      6353\n",
      "           1       0.70      0.69      0.70      4562\n",
      "           2       0.74      0.59      0.66      4222\n",
      "\n",
      "    accuracy                           0.69     15137\n",
      "   macro avg       0.70      0.68      0.69     15137\n",
      "weighted avg       0.70      0.69      0.69     15137\n",
      "\n"
     ]
    }
   ],
   "source": [
    "print(classification_report(y_test, y_pred))"
   ]
  },
  {
   "cell_type": "code",
   "execution_count": 176,
   "metadata": {},
   "outputs": [],
   "source": [
    "def clasifica_texto(texto):\n",
    "    texto = clean(texto)\n",
    "    vector = vectorize(texto)\n",
    "    vector = vector.reshape(1,300,1)\n",
    "    return np.argmax(model.predict(vector), axis=-1)"
   ]
  },
  {
   "cell_type": "code",
   "execution_count": 178,
   "metadata": {},
   "outputs": [
    {
     "name": "stdout",
     "output_type": "stream",
     "text": [
      "1/1 [==============================] - 0s 15ms/step\n"
     ]
    },
    {
     "data": {
      "text/plain": [
       "array([1])"
      ]
     },
     "execution_count": 178,
     "metadata": {},
     "output_type": "execute_result"
    }
   ],
   "source": [
    "clasifica_texto('''Grok Actually surpasses all A.I and completely outperforms them by a mile..''')"
   ]
  },
  {
   "cell_type": "markdown",
   "metadata": {},
   "source": [
    "Creamos el pipeline para exportarlo"
   ]
  },
  {
   "cell_type": "code",
   "execution_count": 179,
   "metadata": {},
   "outputs": [],
   "source": [
    "from sklearn.pipeline import Pipeline\n",
    "from sklearn.preprocessing import FunctionTransformer"
   ]
  },
  {
   "cell_type": "code",
   "execution_count": 180,
   "metadata": {},
   "outputs": [],
   "source": [
    "def clean_vectorize(text):\n",
    "    text = clean(text)\n",
    "    vector = vectorize(text)\n",
    "    vector = vector.reshape(1,300,1)\n",
    "    return vector\n",
    "\n",
    "transformer = FunctionTransformer(clean_vectorize)"
   ]
  },
  {
   "cell_type": "code",
   "execution_count": 181,
   "metadata": {},
   "outputs": [],
   "source": [
    "pipeline_exportacion = Pipeline([\n",
    "    ('preprocessing', transformer),\n",
    "    ('model', model)\n",
    "])"
   ]
  },
  {
   "cell_type": "code",
   "execution_count": 194,
   "metadata": {},
   "outputs": [
    {
     "name": "stdout",
     "output_type": "stream",
     "text": [
      "1/1 [==============================] - 0s 10ms/step\n"
     ]
    }
   ],
   "source": [
    "res = pipeline_exportacion.predict('''I think the world is going to be a better place because of you.''')"
   ]
  },
  {
   "cell_type": "code",
   "execution_count": 195,
   "metadata": {},
   "outputs": [
    {
     "data": {
      "text/plain": [
       "2"
      ]
     },
     "execution_count": 195,
     "metadata": {},
     "output_type": "execute_result"
    }
   ],
   "source": [
    "res.argmax()"
   ]
  },
  {
   "cell_type": "code",
   "execution_count": null,
   "metadata": {},
   "outputs": [],
   "source": []
  }
 ],
 "metadata": {
  "kernelspec": {
   "display_name": "Python 3",
   "language": "python",
   "name": "python3"
  },
  "language_info": {
   "codemirror_mode": {
    "name": "ipython",
    "version": 3
   },
   "file_extension": ".py",
   "mimetype": "text/x-python",
   "name": "python",
   "nbconvert_exporter": "python",
   "pygments_lexer": "ipython3",
   "version": "3.9.6"
  }
 },
 "nbformat": 4,
 "nbformat_minor": 2
}
