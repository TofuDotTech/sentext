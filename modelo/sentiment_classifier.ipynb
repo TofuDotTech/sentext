{
 "cells": [
  {
   "cell_type": "code",
   "execution_count": 2,
   "metadata": {},
   "outputs": [],
   "source": [
    "import pandas as pd\n",
    "import numpy as np"
   ]
  },
  {
   "cell_type": "code",
   "execution_count": 3,
   "metadata": {},
   "outputs": [],
   "source": [
    "data_set_test = pd.read_csv('twitter_training.csv')\n",
    "data_set_validation = pd.read_csv('twitter_validation.csv')\n",
    "\n",
    "df = pd.concat([data_set_validation, data_set_test], ignore_index=True)"
   ]
  },
  {
   "cell_type": "code",
   "execution_count": 4,
   "metadata": {},
   "outputs": [
    {
     "data": {
      "text/html": [
       "<div>\n",
       "<style scoped>\n",
       "    .dataframe tbody tr th:only-of-type {\n",
       "        vertical-align: middle;\n",
       "    }\n",
       "\n",
       "    .dataframe tbody tr th {\n",
       "        vertical-align: top;\n",
       "    }\n",
       "\n",
       "    .dataframe thead th {\n",
       "        text-align: right;\n",
       "    }\n",
       "</style>\n",
       "<table border=\"1\" class=\"dataframe\">\n",
       "  <thead>\n",
       "    <tr style=\"text-align: right;\">\n",
       "      <th></th>\n",
       "      <th>id</th>\n",
       "      <th>borderland</th>\n",
       "      <th>emotion</th>\n",
       "      <th>text</th>\n",
       "    </tr>\n",
       "  </thead>\n",
       "  <tbody>\n",
       "    <tr>\n",
       "      <th>0</th>\n",
       "      <td>3364</td>\n",
       "      <td>Facebook</td>\n",
       "      <td>Irrelevant</td>\n",
       "      <td>I mentioned on Facebook that I was struggling ...</td>\n",
       "    </tr>\n",
       "    <tr>\n",
       "      <th>1</th>\n",
       "      <td>352</td>\n",
       "      <td>Amazon</td>\n",
       "      <td>Neutral</td>\n",
       "      <td>BBC News - Amazon boss Jeff Bezos rejects clai...</td>\n",
       "    </tr>\n",
       "    <tr>\n",
       "      <th>2</th>\n",
       "      <td>8312</td>\n",
       "      <td>Microsoft</td>\n",
       "      <td>Negative</td>\n",
       "      <td>@Microsoft Why do I pay for WORD when it funct...</td>\n",
       "    </tr>\n",
       "    <tr>\n",
       "      <th>3</th>\n",
       "      <td>4371</td>\n",
       "      <td>CS-GO</td>\n",
       "      <td>Negative</td>\n",
       "      <td>CSGO matchmaking is so full of closet hacking,...</td>\n",
       "    </tr>\n",
       "    <tr>\n",
       "      <th>4</th>\n",
       "      <td>4433</td>\n",
       "      <td>Google</td>\n",
       "      <td>Neutral</td>\n",
       "      <td>Now the President is slapping Americans in the...</td>\n",
       "    </tr>\n",
       "  </tbody>\n",
       "</table>\n",
       "</div>"
      ],
      "text/plain": [
       "     id borderland     emotion   \n",
       "0  3364   Facebook  Irrelevant  \\\n",
       "1   352     Amazon     Neutral   \n",
       "2  8312  Microsoft    Negative   \n",
       "3  4371      CS-GO    Negative   \n",
       "4  4433     Google     Neutral   \n",
       "\n",
       "                                                text  \n",
       "0  I mentioned on Facebook that I was struggling ...  \n",
       "1  BBC News - Amazon boss Jeff Bezos rejects clai...  \n",
       "2  @Microsoft Why do I pay for WORD when it funct...  \n",
       "3  CSGO matchmaking is so full of closet hacking,...  \n",
       "4  Now the President is slapping Americans in the...  "
      ]
     },
     "execution_count": 4,
     "metadata": {},
     "output_type": "execute_result"
    }
   ],
   "source": [
    "df.head()"
   ]
  },
  {
   "cell_type": "code",
   "execution_count": 5,
   "metadata": {},
   "outputs": [
    {
     "name": "stdout",
     "output_type": "stream",
     "text": [
      "<class 'pandas.core.frame.DataFrame'>\n",
      "RangeIndex: 75682 entries, 0 to 75681\n",
      "Data columns (total 4 columns):\n",
      " #   Column      Non-Null Count  Dtype \n",
      "---  ------      --------------  ----- \n",
      " 0   id          75682 non-null  int64 \n",
      " 1   borderland  75682 non-null  object\n",
      " 2   emotion     75682 non-null  object\n",
      " 3   text        74996 non-null  object\n",
      "dtypes: int64(1), object(3)\n",
      "memory usage: 2.3+ MB\n"
     ]
    }
   ],
   "source": [
    "df.info()"
   ]
  },
  {
   "cell_type": "code",
   "execution_count": 6,
   "metadata": {},
   "outputs": [
    {
     "data": {
      "text/plain": [
       "count        75682\n",
       "unique           4\n",
       "top       Negative\n",
       "freq         22808\n",
       "Name: emotion, dtype: object"
      ]
     },
     "execution_count": 6,
     "metadata": {},
     "output_type": "execute_result"
    }
   ],
   "source": [
    "df['emotion'].describe()"
   ]
  },
  {
   "cell_type": "code",
   "execution_count": 7,
   "metadata": {},
   "outputs": [
    {
     "data": {
      "text/plain": [
       "<Axes: xlabel='emotion'>"
      ]
     },
     "execution_count": 7,
     "metadata": {},
     "output_type": "execute_result"
    },
    {
     "data": {
      "image/png": "[encoded data removed]",
      "text/plain": [
       "<Figure size 640x480 with 1 Axes>"
      ]
     },
     "metadata": {},
     "output_type": "display_data"
    }
   ],
   "source": [
    "df['emotion'].value_counts().plot(kind='bar')"
   ]
  },
  {
   "cell_type": "markdown",
   "metadata": {},
   "source": [
    "Hay un desbalance pero no es preocupante"
   ]
  },
  {
   "cell_type": "code",
   "execution_count": 8,
   "metadata": {},
   "outputs": [
    {
     "name": "stderr",
     "output_type": "stream",
     "text": [
      "[nltk_data] Downloading package punkt to\n",
      "[nltk_data]     /Users/jyaruhernandez/nltk_data...\n",
      "[nltk_data]   Package punkt is already up-to-date!\n",
      "[nltk_data] Downloading package wordnet to\n",
      "[nltk_data]     /Users/jyaruhernandez/nltk_data...\n",
      "[nltk_data]   Package wordnet is already up-to-date!\n",
      "[nltk_data] Downloading package omw-1.4 to\n",
      "[nltk_data]     /Users/jyaruhernandez/nltk_data...\n",
      "[nltk_data]   Package omw-1.4 is already up-to-date!\n",
      "[nltk_data] Downloading package stopwords to\n",
      "[nltk_data]     /Users/jyaruhernandez/nltk_data...\n",
      "[nltk_data]   Package stopwords is already up-to-date!\n"
     ]
    }
   ],
   "source": [
    "import re\n",
    "import nltk\n",
    "from wordcloud import WordCloud\n",
    "from nltk import word_tokenize\n",
    "from nltk.corpus import stopwords\n",
    "nltk.download('punkt')\n",
    "nltk.download('wordnet')\n",
    "nltk.download('omw-1.4')\n",
    "from nltk.stem.wordnet import WordNetLemmatizer\n",
    "lemmatizer = WordNetLemmatizer()\n",
    "nltk.download('stopwords')\n",
    "stop_words_en = set(stopwords.words('english'))\n",
    "import matplotlib.pyplot as plt\n",
    "from sklearn.manifold import TSNE\n",
    "import plotly_express as px\n",
    "import spacy\n",
    "nlp = spacy.load('en_core_web_lg')"
   ]
  },
  {
   "cell_type": "code",
   "execution_count": 9,
   "metadata": {},
   "outputs": [],
   "source": [
    "def clean(text):\n",
    "    text = str(text)\n",
    "    text = text.lower()\n",
    "    text = text.strip()\n",
    "    text = text.replace('\\n', '')\n",
    "    text = text.replace('\\t', '')\n",
    "    text = re.sub(r'[^\\w\\s]','',text)\n",
    "    text = word_tokenize(text)\n",
    "    text = [palabra for palabra in text if palabra not in stop_words_en]\n",
    "    text = [lemmatizer.lemmatize(palabra) for palabra in text]\n",
    "    text = ' '.join(text)\n",
    "    return text"
   ]
  },
  {
   "cell_type": "code",
   "execution_count": 10,
   "metadata": {},
   "outputs": [],
   "source": [
    "df['clean_text'] = df['text'].apply(clean)"
   ]
  },
  {
   "cell_type": "code",
   "execution_count": 11,
   "metadata": {},
   "outputs": [
    {
     "data": {
      "text/plain": [
       "0    mentioned facebook struggling motivation go ru...\n",
       "1    bbc news amazon bos jeff bezos reject claim co...\n",
       "2    microsoft pay word function poorly samsungus c...\n",
       "3    csgo matchmaking full closet hacking truly awf...\n",
       "4    president slapping american face really commit...\n",
       "Name: clean_text, dtype: object"
      ]
     },
     "execution_count": 11,
     "metadata": {},
     "output_type": "execute_result"
    }
   ],
   "source": [
    "df['clean_text'].head()"
   ]
  },
  {
   "cell_type": "code",
   "execution_count": 12,
   "metadata": {},
   "outputs": [],
   "source": [
    "def vectorize(text):\n",
    "    vector = nlp(text).vector\n",
    "    return vector"
   ]
  },
  {
   "cell_type": "code",
   "execution_count": 13,
   "metadata": {},
   "outputs": [],
   "source": [
    "df['vector'] = df['clean_text'].apply(vectorize)"
   ]
  },
  {
   "cell_type": "code",
   "execution_count": 14,
   "metadata": {},
   "outputs": [],
   "source": [
    "X = df['vector']"
   ]
  },
  {
   "cell_type": "code",
   "execution_count": 15,
   "metadata": {},
   "outputs": [],
   "source": [
    "X = np.concatenate(X).reshape(-1,300)"
   ]
  },
  {
   "cell_type": "code",
   "execution_count": 16,
   "metadata": {},
   "outputs": [],
   "source": [
    "import tensorflow as tf\n",
    "import numpy as np\n",
    "import tensorflow.keras as keras\n",
    "from tensorflow.keras.preprocessing.text import Tokenizer\n",
    "from tensorflow.keras.utils import to_categorical\n",
    "from tensorflow.keras.models import Sequential\n",
    "from tensorflow.keras.layers import Dense, LSTM, Embedding, Dropout, Conv1D, MaxPooling1D, Flatten\n",
    "from tensorflow.keras.regularizers import l1, l2\n",
    "from tensorflow.keras.preprocessing.sequence import pad_sequences\n",
    "from tensorflow.keras.optimizers.legacy import Adam\n",
    "from tensorflow.keras.callbacks import EarlyStopping\n",
    "from sklearn.model_selection import train_test_split\n",
    "import seaborn as sns"
   ]
  },
  {
   "cell_type": "code",
   "execution_count": 17,
   "metadata": {},
   "outputs": [],
   "source": [
    "early_stopping = EarlyStopping(monitor='val_loss', patience=5, verbose=1, mode='min')"
   ]
  },
  {
   "cell_type": "code",
   "execution_count": 70,
   "metadata": {},
   "outputs": [],
   "source": [
    "y = df['emotion']\n",
    "X_train, X_test, y_train, y_test = train_test_split(X, y, test_size=0.2, random_state=42, stratify=y)"
   ]
  },
  {
   "cell_type": "code",
   "execution_count": 71,
   "metadata": {},
   "outputs": [],
   "source": [
    "mapper_y = {'Irrelevant':0, 'Neutral':0, 'Negative':1, 'Positive':2}\n",
    "y_train = y_train.map(mapper_y)\n",
    "y_test = y_test.map(mapper_y)"
   ]
  },
  {
   "cell_type": "code",
   "execution_count": 72,
   "metadata": {},
   "outputs": [],
   "source": [
    "y_train = to_categorical(y_train,3)\n",
    "y_test = to_categorical(y_test,3)"
   ]
  },
  {
   "cell_type": "code",
   "execution_count": 73,
   "metadata": {},
   "outputs": [],
   "source": [
    "X_train = X_train.reshape(X_train.shape[0], X_train.shape[1], 1)\n",
    "X_test = X_test.reshape(X_test.shape[0], X_test.shape[1], 1)"
   ]
  },
  {
   "cell_type": "code",
   "execution_count": 74,
   "metadata": {},
   "outputs": [],
   "source": [
    "model = Sequential()"
   ]
  },
  {
   "cell_type": "code",
   "execution_count": 75,
   "metadata": {},
   "outputs": [],
   "source": [
    "model.add(Conv1D(64,5,activation='relu', input_shape=X_train[0].shape))\n",
    "model.add(MaxPooling1D(5))\n",
    "model.add(Flatten())\n",
    "model.add(Dense(64, activation='relu', kernel_regularizer=l2(0.001)))\n",
    "model.add(Dropout(0.6))\n",
    "model.add(Dense(3, activation='softmax'))\n",
    "model.compile(optimizer=Adam(learning_rate=0.00001), loss='categorical_crossentropy', metrics=['accuracy'])"
   ]
  },
  {
   "cell_type": "code",
   "execution_count": 76,
   "metadata": {},
   "outputs": [
    {
     "name": "stdout",
     "output_type": "stream",
     "text": [
      "Epoch 1/300\n",
      "1010/1010 [==============================] - 4s 4ms/step - loss: 1.2055 - accuracy: 0.4124 - val_loss: 1.1626 - val_accuracy: 0.4608\n",
      "Epoch 2/300\n",
      "1010/1010 [==============================] - 4s 4ms/step - loss: 1.1568 - accuracy: 0.4637 - val_loss: 1.1213 - val_accuracy: 0.5044\n",
      "Epoch 3/300\n",
      "1010/1010 [==============================] - 4s 4ms/step - loss: 1.1263 - accuracy: 0.4857 - val_loss: 1.0954 - val_accuracy: 0.5214\n",
      "Epoch 4/300\n",
      "1010/1010 [==============================] - 4s 4ms/step - loss: 1.1063 - accuracy: 0.5026 - val_loss: 1.0762 - val_accuracy: 0.5368\n",
      "Epoch 5/300\n",
      "1010/1010 [==============================] - 4s 4ms/step - loss: 1.0904 - accuracy: 0.5137 - val_loss: 1.0631 - val_accuracy: 0.5459\n",
      "Epoch 6/300\n",
      "1010/1010 [==============================] - 4s 4ms/step - loss: 1.0789 - accuracy: 0.5231 - val_loss: 1.0522 - val_accuracy: 0.5477\n",
      "Epoch 7/300\n",
      "1010/1010 [==============================] - 4s 4ms/step - loss: 1.0697 - accuracy: 0.5293 - val_loss: 1.0428 - val_accuracy: 0.5594\n",
      "Epoch 8/300\n",
      "1010/1010 [==============================] - 4s 4ms/step - loss: 1.0584 - accuracy: 0.5402 - val_loss: 1.0335 - val_accuracy: 0.5615\n",
      "Epoch 9/300\n",
      "1010/1010 [==============================] - 4s 4ms/step - loss: 1.0518 - accuracy: 0.5395 - val_loss: 1.0263 - val_accuracy: 0.5623\n",
      "Epoch 10/300\n",
      "1010/1010 [==============================] - 4s 4ms/step - loss: 1.0459 - accuracy: 0.5435 - val_loss: 1.0212 - val_accuracy: 0.5649\n",
      "Epoch 11/300\n",
      "1010/1010 [==============================] - 4s 4ms/step - loss: 1.0388 - accuracy: 0.5491 - val_loss: 1.0146 - val_accuracy: 0.5683\n",
      "Epoch 12/300\n",
      "1010/1010 [==============================] - 4s 4ms/step - loss: 1.0341 - accuracy: 0.5520 - val_loss: 1.0106 - val_accuracy: 0.5714\n",
      "Epoch 13/300\n",
      "1010/1010 [==============================] - 4s 4ms/step - loss: 1.0291 - accuracy: 0.5544 - val_loss: 1.0076 - val_accuracy: 0.5709\n",
      "Epoch 14/300\n",
      "1010/1010 [==============================] - 4s 4ms/step - loss: 1.0254 - accuracy: 0.5567 - val_loss: 1.0005 - val_accuracy: 0.5773\n",
      "Epoch 15/300\n",
      "1010/1010 [==============================] - 5s 5ms/step - loss: 1.0203 - accuracy: 0.5593 - val_loss: 0.9969 - val_accuracy: 0.5772\n",
      "Epoch 16/300\n",
      "1010/1010 [==============================] - 4s 4ms/step - loss: 1.0159 - accuracy: 0.5610 - val_loss: 0.9950 - val_accuracy: 0.5782\n",
      "Epoch 17/300\n",
      "1010/1010 [==============================] - 4s 4ms/step - loss: 1.0100 - accuracy: 0.5651 - val_loss: 0.9914 - val_accuracy: 0.5755\n",
      "Epoch 18/300\n",
      "1010/1010 [==============================] - 4s 4ms/step - loss: 1.0087 - accuracy: 0.5655 - val_loss: 0.9861 - val_accuracy: 0.5849\n",
      "Epoch 19/300\n",
      "1010/1010 [==============================] - 4s 4ms/step - loss: 1.0041 - accuracy: 0.5696 - val_loss: 0.9827 - val_accuracy: 0.5862\n",
      "Epoch 20/300\n",
      "1010/1010 [==============================] - 4s 4ms/step - loss: 1.0007 - accuracy: 0.5694 - val_loss: 0.9813 - val_accuracy: 0.5886\n",
      "Epoch 21/300\n",
      "1010/1010 [==============================] - 4s 4ms/step - loss: 0.9991 - accuracy: 0.5744 - val_loss: 0.9783 - val_accuracy: 0.5894\n",
      "Epoch 22/300\n",
      "1010/1010 [==============================] - 4s 4ms/step - loss: 0.9949 - accuracy: 0.5747 - val_loss: 0.9740 - val_accuracy: 0.5895\n",
      "Epoch 23/300\n",
      "1010/1010 [==============================] - 4s 4ms/step - loss: 0.9922 - accuracy: 0.5764 - val_loss: 0.9730 - val_accuracy: 0.5925\n",
      "Epoch 24/300\n",
      "1010/1010 [==============================] - 4s 4ms/step - loss: 0.9895 - accuracy: 0.5770 - val_loss: 0.9703 - val_accuracy: 0.5917\n",
      "Epoch 25/300\n",
      "1010/1010 [==============================] - 4s 4ms/step - loss: 0.9852 - accuracy: 0.5792 - val_loss: 0.9693 - val_accuracy: 0.5913\n",
      "Epoch 26/300\n",
      "1010/1010 [==============================] - 4s 4ms/step - loss: 0.9836 - accuracy: 0.5787 - val_loss: 0.9669 - val_accuracy: 0.5950\n",
      "Epoch 27/300\n",
      "1010/1010 [==============================] - 4s 4ms/step - loss: 0.9799 - accuracy: 0.5828 - val_loss: 0.9650 - val_accuracy: 0.5932\n",
      "Epoch 28/300\n",
      "1010/1010 [==============================] - 4s 4ms/step - loss: 0.9781 - accuracy: 0.5834 - val_loss: 0.9603 - val_accuracy: 0.5956\n",
      "Epoch 29/300\n",
      "1010/1010 [==============================] - 4s 4ms/step - loss: 0.9780 - accuracy: 0.5834 - val_loss: 0.9621 - val_accuracy: 0.5981\n",
      "Epoch 30/300\n",
      "1010/1010 [==============================] - 4s 4ms/step - loss: 0.9719 - accuracy: 0.5880 - val_loss: 0.9585 - val_accuracy: 0.5984\n",
      "Epoch 31/300\n",
      "1010/1010 [==============================] - 4s 4ms/step - loss: 0.9726 - accuracy: 0.5876 - val_loss: 0.9551 - val_accuracy: 0.6028\n",
      "Epoch 32/300\n",
      "1010/1010 [==============================] - 4s 4ms/step - loss: 0.9687 - accuracy: 0.5886 - val_loss: 0.9534 - val_accuracy: 0.6005\n",
      "Epoch 33/300\n",
      "1010/1010 [==============================] - 4s 4ms/step - loss: 0.9664 - accuracy: 0.5902 - val_loss: 0.9510 - val_accuracy: 0.6024\n",
      "Epoch 34/300\n",
      "1010/1010 [==============================] - 4s 4ms/step - loss: 0.9655 - accuracy: 0.5909 - val_loss: 0.9490 - val_accuracy: 0.6026\n",
      "Epoch 35/300\n",
      "1010/1010 [==============================] - 4s 4ms/step - loss: 0.9628 - accuracy: 0.5907 - val_loss: 0.9490 - val_accuracy: 0.6044\n",
      "Epoch 36/300\n",
      "1010/1010 [==============================] - 4s 4ms/step - loss: 0.9618 - accuracy: 0.5911 - val_loss: 0.9502 - val_accuracy: 0.5971\n",
      "Epoch 37/300\n",
      "1010/1010 [==============================] - 4s 4ms/step - loss: 0.9589 - accuracy: 0.5938 - val_loss: 0.9468 - val_accuracy: 0.6049\n",
      "Epoch 38/300\n",
      "1010/1010 [==============================] - 4s 4ms/step - loss: 0.9566 - accuracy: 0.5949 - val_loss: 0.9428 - val_accuracy: 0.6070\n",
      "Epoch 39/300\n",
      "1010/1010 [==============================] - 4s 4ms/step - loss: 0.9560 - accuracy: 0.5957 - val_loss: 0.9425 - val_accuracy: 0.6083\n",
      "Epoch 40/300\n",
      "1010/1010 [==============================] - 4s 4ms/step - loss: 0.9530 - accuracy: 0.5977 - val_loss: 0.9374 - val_accuracy: 0.6065\n",
      "Epoch 41/300\n",
      "1010/1010 [==============================] - 4s 4ms/step - loss: 0.9517 - accuracy: 0.5960 - val_loss: 0.9367 - val_accuracy: 0.6063\n",
      "Epoch 42/300\n",
      "1010/1010 [==============================] - 4s 4ms/step - loss: 0.9496 - accuracy: 0.5985 - val_loss: 0.9362 - val_accuracy: 0.6063\n",
      "Epoch 43/300\n",
      "1010/1010 [==============================] - 4s 4ms/step - loss: 0.9473 - accuracy: 0.5993 - val_loss: 0.9353 - val_accuracy: 0.6051\n",
      "Epoch 44/300\n",
      "1010/1010 [==============================] - 4s 4ms/step - loss: 0.9450 - accuracy: 0.6005 - val_loss: 0.9332 - val_accuracy: 0.6108\n",
      "Epoch 45/300\n",
      "1010/1010 [==============================] - 4s 4ms/step - loss: 0.9444 - accuracy: 0.6017 - val_loss: 0.9303 - val_accuracy: 0.6100\n",
      "Epoch 46/300\n",
      "1010/1010 [==============================] - 4s 4ms/step - loss: 0.9429 - accuracy: 0.6019 - val_loss: 0.9317 - val_accuracy: 0.6144\n",
      "Epoch 47/300\n",
      "1010/1010 [==============================] - 4s 4ms/step - loss: 0.9418 - accuracy: 0.6030 - val_loss: 0.9290 - val_accuracy: 0.6129\n",
      "Epoch 48/300\n",
      "1010/1010 [==============================] - 4s 4ms/step - loss: 0.9397 - accuracy: 0.6025 - val_loss: 0.9273 - val_accuracy: 0.6131\n",
      "Epoch 49/300\n",
      "1010/1010 [==============================] - 4s 4ms/step - loss: 0.9378 - accuracy: 0.6033 - val_loss: 0.9258 - val_accuracy: 0.6127\n",
      "Epoch 50/300\n",
      "1010/1010 [==============================] - 4s 4ms/step - loss: 0.9375 - accuracy: 0.6040 - val_loss: 0.9255 - val_accuracy: 0.6156\n",
      "Epoch 51/300\n",
      "1010/1010 [==============================] - 4s 4ms/step - loss: 0.9344 - accuracy: 0.6037 - val_loss: 0.9224 - val_accuracy: 0.6143\n",
      "Epoch 52/300\n",
      "1010/1010 [==============================] - 4s 4ms/step - loss: 0.9338 - accuracy: 0.6052 - val_loss: 0.9225 - val_accuracy: 0.6177\n",
      "Epoch 53/300\n",
      "1010/1010 [==============================] - 4s 4ms/step - loss: 0.9318 - accuracy: 0.6070 - val_loss: 0.9225 - val_accuracy: 0.6185\n",
      "Epoch 54/300\n",
      "1010/1010 [==============================] - 4s 4ms/step - loss: 0.9295 - accuracy: 0.6074 - val_loss: 0.9191 - val_accuracy: 0.6193\n",
      "Epoch 55/300\n",
      "1010/1010 [==============================] - 4s 4ms/step - loss: 0.9290 - accuracy: 0.6084 - val_loss: 0.9199 - val_accuracy: 0.6172\n",
      "Epoch 56/300\n",
      "1010/1010 [==============================] - 4s 4ms/step - loss: 0.9264 - accuracy: 0.6079 - val_loss: 0.9163 - val_accuracy: 0.6176\n",
      "Epoch 57/300\n",
      "1010/1010 [==============================] - 4s 4ms/step - loss: 0.9270 - accuracy: 0.6101 - val_loss: 0.9153 - val_accuracy: 0.6182\n",
      "Epoch 58/300\n",
      "1010/1010 [==============================] - 4s 4ms/step - loss: 0.9236 - accuracy: 0.6084 - val_loss: 0.9129 - val_accuracy: 0.6194\n",
      "Epoch 59/300\n",
      "1010/1010 [==============================] - 4s 4ms/step - loss: 0.9238 - accuracy: 0.6113 - val_loss: 0.9141 - val_accuracy: 0.6152\n",
      "Epoch 60/300\n",
      "1010/1010 [==============================] - 4s 4ms/step - loss: 0.9207 - accuracy: 0.6129 - val_loss: 0.9129 - val_accuracy: 0.6133\n",
      "Epoch 61/300\n",
      "1010/1010 [==============================] - 4s 4ms/step - loss: 0.9193 - accuracy: 0.6132 - val_loss: 0.9100 - val_accuracy: 0.6217\n",
      "Epoch 62/300\n",
      "1010/1010 [==============================] - 4s 4ms/step - loss: 0.9182 - accuracy: 0.6136 - val_loss: 0.9096 - val_accuracy: 0.6242\n",
      "Epoch 63/300\n",
      "1010/1010 [==============================] - 4s 4ms/step - loss: 0.9174 - accuracy: 0.6148 - val_loss: 0.9085 - val_accuracy: 0.6236\n",
      "Epoch 64/300\n",
      "1010/1010 [==============================] - 5s 4ms/step - loss: 0.9137 - accuracy: 0.6141 - val_loss: 0.9088 - val_accuracy: 0.6232\n",
      "Epoch 65/300\n",
      "1010/1010 [==============================] - 4s 4ms/step - loss: 0.9157 - accuracy: 0.6145 - val_loss: 0.9066 - val_accuracy: 0.6254\n",
      "Epoch 66/300\n",
      "1010/1010 [==============================] - 4s 4ms/step - loss: 0.9126 - accuracy: 0.6161 - val_loss: 0.9046 - val_accuracy: 0.6235\n",
      "Epoch 67/300\n",
      "1010/1010 [==============================] - 4s 4ms/step - loss: 0.9142 - accuracy: 0.6161 - val_loss: 0.9025 - val_accuracy: 0.6247\n",
      "Epoch 68/300\n",
      "1010/1010 [==============================] - 4s 4ms/step - loss: 0.9100 - accuracy: 0.6180 - val_loss: 0.9008 - val_accuracy: 0.6248\n",
      "Epoch 69/300\n",
      "1010/1010 [==============================] - 4s 4ms/step - loss: 0.9080 - accuracy: 0.6202 - val_loss: 0.9025 - val_accuracy: 0.6231\n",
      "Epoch 70/300\n",
      "1010/1010 [==============================] - 4s 4ms/step - loss: 0.9070 - accuracy: 0.6192 - val_loss: 0.8992 - val_accuracy: 0.6259\n",
      "Epoch 71/300\n",
      "1010/1010 [==============================] - 4s 4ms/step - loss: 0.9071 - accuracy: 0.6196 - val_loss: 0.8993 - val_accuracy: 0.6264\n",
      "Epoch 72/300\n",
      "1010/1010 [==============================] - 4s 4ms/step - loss: 0.9050 - accuracy: 0.6199 - val_loss: 0.8960 - val_accuracy: 0.6289\n",
      "Epoch 73/300\n",
      "1010/1010 [==============================] - 4s 4ms/step - loss: 0.9028 - accuracy: 0.6217 - val_loss: 0.8962 - val_accuracy: 0.6295\n",
      "Epoch 74/300\n",
      "1010/1010 [==============================] - 4s 4ms/step - loss: 0.9022 - accuracy: 0.6207 - val_loss: 0.8939 - val_accuracy: 0.6287\n",
      "Epoch 75/300\n",
      "1010/1010 [==============================] - 4s 4ms/step - loss: 0.8994 - accuracy: 0.6247 - val_loss: 0.8947 - val_accuracy: 0.6304\n",
      "Epoch 76/300\n",
      "1010/1010 [==============================] - 4s 4ms/step - loss: 0.8970 - accuracy: 0.6246 - val_loss: 0.8918 - val_accuracy: 0.6283\n",
      "Epoch 77/300\n",
      "1010/1010 [==============================] - 4s 4ms/step - loss: 0.8989 - accuracy: 0.6234 - val_loss: 0.8910 - val_accuracy: 0.6306\n",
      "Epoch 78/300\n",
      "1010/1010 [==============================] - 4s 4ms/step - loss: 0.8959 - accuracy: 0.6241 - val_loss: 0.8893 - val_accuracy: 0.6318\n",
      "Epoch 79/300\n",
      "1010/1010 [==============================] - 4s 4ms/step - loss: 0.8972 - accuracy: 0.6243 - val_loss: 0.8892 - val_accuracy: 0.6306\n",
      "Epoch 80/300\n",
      "1010/1010 [==============================] - 4s 4ms/step - loss: 0.8950 - accuracy: 0.6253 - val_loss: 0.8882 - val_accuracy: 0.6315\n",
      "Epoch 81/300\n",
      "1010/1010 [==============================] - 4s 4ms/step - loss: 0.8924 - accuracy: 0.6273 - val_loss: 0.8872 - val_accuracy: 0.6335\n",
      "Epoch 82/300\n",
      "1010/1010 [==============================] - 4s 4ms/step - loss: 0.8914 - accuracy: 0.6275 - val_loss: 0.8866 - val_accuracy: 0.6331\n",
      "Epoch 83/300\n",
      "1010/1010 [==============================] - 4s 4ms/step - loss: 0.8907 - accuracy: 0.6288 - val_loss: 0.8853 - val_accuracy: 0.6347\n",
      "Epoch 84/300\n",
      "1010/1010 [==============================] - 4s 4ms/step - loss: 0.8902 - accuracy: 0.6279 - val_loss: 0.8861 - val_accuracy: 0.6310\n",
      "Epoch 85/300\n",
      "1010/1010 [==============================] - 4s 4ms/step - loss: 0.8874 - accuracy: 0.6281 - val_loss: 0.8839 - val_accuracy: 0.6337\n",
      "Epoch 86/300\n",
      "1010/1010 [==============================] - 4s 4ms/step - loss: 0.8873 - accuracy: 0.6289 - val_loss: 0.8832 - val_accuracy: 0.6347\n",
      "Epoch 87/300\n",
      "1010/1010 [==============================] - 4s 4ms/step - loss: 0.8850 - accuracy: 0.6279 - val_loss: 0.8819 - val_accuracy: 0.6366\n",
      "Epoch 88/300\n",
      "1010/1010 [==============================] - 4s 4ms/step - loss: 0.8861 - accuracy: 0.6314 - val_loss: 0.8839 - val_accuracy: 0.6292\n",
      "Epoch 89/300\n",
      "1010/1010 [==============================] - 4s 4ms/step - loss: 0.8835 - accuracy: 0.6307 - val_loss: 0.8795 - val_accuracy: 0.6372\n",
      "Epoch 90/300\n",
      "1010/1010 [==============================] - 4s 4ms/step - loss: 0.8808 - accuracy: 0.6333 - val_loss: 0.8795 - val_accuracy: 0.6374\n",
      "Epoch 91/300\n",
      "1010/1010 [==============================] - 4s 4ms/step - loss: 0.8812 - accuracy: 0.6332 - val_loss: 0.8771 - val_accuracy: 0.6378\n",
      "Epoch 92/300\n",
      "1010/1010 [==============================] - 4s 4ms/step - loss: 0.8808 - accuracy: 0.6291 - val_loss: 0.8782 - val_accuracy: 0.6359\n",
      "Epoch 93/300\n",
      "1010/1010 [==============================] - 5s 5ms/step - loss: 0.8792 - accuracy: 0.6342 - val_loss: 0.8799 - val_accuracy: 0.6379\n",
      "Epoch 94/300\n",
      "1010/1010 [==============================] - 5s 5ms/step - loss: 0.8772 - accuracy: 0.6350 - val_loss: 0.8769 - val_accuracy: 0.6367\n",
      "Epoch 95/300\n",
      "1010/1010 [==============================] - 4s 4ms/step - loss: 0.8757 - accuracy: 0.6338 - val_loss: 0.8781 - val_accuracy: 0.6362\n",
      "Epoch 96/300\n",
      "1010/1010 [==============================] - 4s 4ms/step - loss: 0.8772 - accuracy: 0.6338 - val_loss: 0.8727 - val_accuracy: 0.6383\n",
      "Epoch 97/300\n",
      "1010/1010 [==============================] - 4s 4ms/step - loss: 0.8755 - accuracy: 0.6354 - val_loss: 0.8702 - val_accuracy: 0.6397\n",
      "Epoch 98/300\n",
      "1010/1010 [==============================] - 4s 4ms/step - loss: 0.8729 - accuracy: 0.6356 - val_loss: 0.8758 - val_accuracy: 0.6398\n",
      "Epoch 99/300\n",
      "1010/1010 [==============================] - 4s 4ms/step - loss: 0.8723 - accuracy: 0.6362 - val_loss: 0.8712 - val_accuracy: 0.6417\n",
      "Epoch 100/300\n",
      "1010/1010 [==============================] - 4s 4ms/step - loss: 0.8708 - accuracy: 0.6365 - val_loss: 0.8682 - val_accuracy: 0.6419\n",
      "Epoch 101/300\n",
      "1010/1010 [==============================] - 4s 4ms/step - loss: 0.8702 - accuracy: 0.6379 - val_loss: 0.8694 - val_accuracy: 0.6427\n",
      "Epoch 102/300\n",
      "1010/1010 [==============================] - 4s 4ms/step - loss: 0.8683 - accuracy: 0.6385 - val_loss: 0.8713 - val_accuracy: 0.6368\n",
      "Epoch 103/300\n",
      "1010/1010 [==============================] - 4s 4ms/step - loss: 0.8679 - accuracy: 0.6397 - val_loss: 0.8681 - val_accuracy: 0.6434\n",
      "Epoch 104/300\n",
      "1010/1010 [==============================] - 4s 4ms/step - loss: 0.8682 - accuracy: 0.6388 - val_loss: 0.8650 - val_accuracy: 0.6435\n",
      "Epoch 105/300\n",
      "1010/1010 [==============================] - 4s 4ms/step - loss: 0.8664 - accuracy: 0.6400 - val_loss: 0.8666 - val_accuracy: 0.6394\n",
      "Epoch 106/300\n",
      "1010/1010 [==============================] - 4s 4ms/step - loss: 0.8649 - accuracy: 0.6405 - val_loss: 0.8650 - val_accuracy: 0.6442\n",
      "Epoch 107/300\n",
      "1010/1010 [==============================] - 4s 4ms/step - loss: 0.8642 - accuracy: 0.6382 - val_loss: 0.8641 - val_accuracy: 0.6427\n",
      "Epoch 108/300\n",
      "1010/1010 [==============================] - 4s 4ms/step - loss: 0.8616 - accuracy: 0.6423 - val_loss: 0.8617 - val_accuracy: 0.6441\n",
      "Epoch 109/300\n",
      "1010/1010 [==============================] - 4s 4ms/step - loss: 0.8600 - accuracy: 0.6431 - val_loss: 0.8609 - val_accuracy: 0.6453\n",
      "Epoch 110/300\n",
      "1010/1010 [==============================] - 4s 4ms/step - loss: 0.8599 - accuracy: 0.6424 - val_loss: 0.8609 - val_accuracy: 0.6446\n",
      "Epoch 111/300\n",
      "1010/1010 [==============================] - 4s 4ms/step - loss: 0.8609 - accuracy: 0.6430 - val_loss: 0.8593 - val_accuracy: 0.6460\n",
      "Epoch 112/300\n",
      "1010/1010 [==============================] - 4s 4ms/step - loss: 0.8585 - accuracy: 0.6433 - val_loss: 0.8587 - val_accuracy: 0.6446\n",
      "Epoch 113/300\n",
      "1010/1010 [==============================] - 4s 4ms/step - loss: 0.8559 - accuracy: 0.6432 - val_loss: 0.8588 - val_accuracy: 0.6430\n",
      "Epoch 114/300\n",
      "1010/1010 [==============================] - 4s 4ms/step - loss: 0.8550 - accuracy: 0.6455 - val_loss: 0.8560 - val_accuracy: 0.6484\n",
      "Epoch 115/300\n",
      "1010/1010 [==============================] - 4s 4ms/step - loss: 0.8560 - accuracy: 0.6459 - val_loss: 0.8566 - val_accuracy: 0.6456\n",
      "Epoch 116/300\n",
      "1010/1010 [==============================] - 4s 4ms/step - loss: 0.8560 - accuracy: 0.6459 - val_loss: 0.8574 - val_accuracy: 0.6451\n",
      "Epoch 117/300\n",
      "1010/1010 [==============================] - 4s 4ms/step - loss: 0.8530 - accuracy: 0.6475 - val_loss: 0.8564 - val_accuracy: 0.6476\n",
      "Epoch 118/300\n",
      "1010/1010 [==============================] - 4s 4ms/step - loss: 0.8537 - accuracy: 0.6464 - val_loss: 0.8544 - val_accuracy: 0.6497\n",
      "Epoch 119/300\n",
      "1010/1010 [==============================] - 4s 4ms/step - loss: 0.8529 - accuracy: 0.6455 - val_loss: 0.8546 - val_accuracy: 0.6462\n",
      "Epoch 120/300\n",
      "1010/1010 [==============================] - 5s 4ms/step - loss: 0.8497 - accuracy: 0.6492 - val_loss: 0.8539 - val_accuracy: 0.6474\n",
      "Epoch 121/300\n",
      "1010/1010 [==============================] - 4s 4ms/step - loss: 0.8483 - accuracy: 0.6480 - val_loss: 0.8515 - val_accuracy: 0.6501\n",
      "Epoch 122/300\n",
      "1010/1010 [==============================] - 4s 4ms/step - loss: 0.8487 - accuracy: 0.6504 - val_loss: 0.8501 - val_accuracy: 0.6493\n",
      "Epoch 123/300\n",
      "1010/1010 [==============================] - 4s 4ms/step - loss: 0.8488 - accuracy: 0.6472 - val_loss: 0.8511 - val_accuracy: 0.6525\n",
      "Epoch 124/300\n",
      "1010/1010 [==============================] - 4s 4ms/step - loss: 0.8470 - accuracy: 0.6511 - val_loss: 0.8507 - val_accuracy: 0.6503\n",
      "Epoch 125/300\n",
      "1010/1010 [==============================] - 4s 4ms/step - loss: 0.8452 - accuracy: 0.6503 - val_loss: 0.8504 - val_accuracy: 0.6517\n",
      "Epoch 126/300\n",
      "1010/1010 [==============================] - 4s 4ms/step - loss: 0.8436 - accuracy: 0.6493 - val_loss: 0.8490 - val_accuracy: 0.6493\n",
      "Epoch 127/300\n",
      "1010/1010 [==============================] - 4s 4ms/step - loss: 0.8426 - accuracy: 0.6520 - val_loss: 0.8471 - val_accuracy: 0.6520\n",
      "Epoch 128/300\n",
      "1010/1010 [==============================] - 4s 4ms/step - loss: 0.8425 - accuracy: 0.6508 - val_loss: 0.8457 - val_accuracy: 0.6522\n",
      "Epoch 129/300\n",
      "1010/1010 [==============================] - 4s 4ms/step - loss: 0.8424 - accuracy: 0.6514 - val_loss: 0.8448 - val_accuracy: 0.6550\n",
      "Epoch 130/300\n",
      "1010/1010 [==============================] - 4s 4ms/step - loss: 0.8398 - accuracy: 0.6526 - val_loss: 0.8458 - val_accuracy: 0.6528\n",
      "Epoch 131/300\n",
      "1010/1010 [==============================] - 4s 4ms/step - loss: 0.8383 - accuracy: 0.6537 - val_loss: 0.8434 - val_accuracy: 0.6503\n",
      "Epoch 132/300\n",
      "1010/1010 [==============================] - 4s 4ms/step - loss: 0.8383 - accuracy: 0.6532 - val_loss: 0.8443 - val_accuracy: 0.6516\n",
      "Epoch 133/300\n",
      "1010/1010 [==============================] - 4s 4ms/step - loss: 0.8375 - accuracy: 0.6532 - val_loss: 0.8429 - val_accuracy: 0.6532\n",
      "Epoch 134/300\n",
      "1010/1010 [==============================] - 5s 4ms/step - loss: 0.8357 - accuracy: 0.6548 - val_loss: 0.8435 - val_accuracy: 0.6513\n",
      "Epoch 135/300\n",
      "1010/1010 [==============================] - 4s 4ms/step - loss: 0.8369 - accuracy: 0.6557 - val_loss: 0.8413 - val_accuracy: 0.6536\n",
      "Epoch 136/300\n",
      "1010/1010 [==============================] - 4s 4ms/step - loss: 0.8336 - accuracy: 0.6577 - val_loss: 0.8452 - val_accuracy: 0.6479\n",
      "Epoch 137/300\n",
      "1010/1010 [==============================] - 4s 4ms/step - loss: 0.8342 - accuracy: 0.6545 - val_loss: 0.8400 - val_accuracy: 0.6542\n",
      "Epoch 138/300\n",
      "1010/1010 [==============================] - 4s 4ms/step - loss: 0.8331 - accuracy: 0.6563 - val_loss: 0.8376 - val_accuracy: 0.6558\n",
      "Epoch 139/300\n",
      "1010/1010 [==============================] - 4s 4ms/step - loss: 0.8300 - accuracy: 0.6592 - val_loss: 0.8384 - val_accuracy: 0.6559\n",
      "Epoch 140/300\n",
      "1010/1010 [==============================] - 4s 4ms/step - loss: 0.8318 - accuracy: 0.6566 - val_loss: 0.8382 - val_accuracy: 0.6549\n",
      "Epoch 141/300\n",
      "1010/1010 [==============================] - 4s 4ms/step - loss: 0.8279 - accuracy: 0.6598 - val_loss: 0.8374 - val_accuracy: 0.6550\n",
      "Epoch 142/300\n",
      "1010/1010 [==============================] - 4s 4ms/step - loss: 0.8296 - accuracy: 0.6581 - val_loss: 0.8365 - val_accuracy: 0.6581\n",
      "Epoch 143/300\n",
      "1010/1010 [==============================] - 4s 4ms/step - loss: 0.8296 - accuracy: 0.6601 - val_loss: 0.8360 - val_accuracy: 0.6557\n",
      "Epoch 144/300\n",
      "1010/1010 [==============================] - 4s 4ms/step - loss: 0.8259 - accuracy: 0.6599 - val_loss: 0.8357 - val_accuracy: 0.6597\n",
      "Epoch 145/300\n",
      "1010/1010 [==============================] - 4s 4ms/step - loss: 0.8270 - accuracy: 0.6601 - val_loss: 0.8339 - val_accuracy: 0.6583\n",
      "Epoch 146/300\n",
      "1010/1010 [==============================] - 4s 4ms/step - loss: 0.8250 - accuracy: 0.6624 - val_loss: 0.8333 - val_accuracy: 0.6572\n",
      "Epoch 147/300\n",
      "1010/1010 [==============================] - 4s 4ms/step - loss: 0.8254 - accuracy: 0.6604 - val_loss: 0.8328 - val_accuracy: 0.6586\n",
      "Epoch 148/300\n",
      "1010/1010 [==============================] - 4s 4ms/step - loss: 0.8244 - accuracy: 0.6587 - val_loss: 0.8307 - val_accuracy: 0.6590\n",
      "Epoch 149/300\n",
      "1010/1010 [==============================] - 5s 5ms/step - loss: 0.8222 - accuracy: 0.6605 - val_loss: 0.8298 - val_accuracy: 0.6607\n",
      "Epoch 150/300\n",
      "1010/1010 [==============================] - 4s 4ms/step - loss: 0.8212 - accuracy: 0.6617 - val_loss: 0.8328 - val_accuracy: 0.6586\n",
      "Epoch 151/300\n",
      "1010/1010 [==============================] - 4s 4ms/step - loss: 0.8209 - accuracy: 0.6638 - val_loss: 0.8329 - val_accuracy: 0.6614\n",
      "Epoch 152/300\n",
      "1010/1010 [==============================] - 5s 5ms/step - loss: 0.8202 - accuracy: 0.6639 - val_loss: 0.8276 - val_accuracy: 0.6596\n",
      "Epoch 153/300\n",
      "1010/1010 [==============================] - 4s 4ms/step - loss: 0.8183 - accuracy: 0.6650 - val_loss: 0.8291 - val_accuracy: 0.6627\n",
      "Epoch 154/300\n",
      "1010/1010 [==============================] - 4s 4ms/step - loss: 0.8189 - accuracy: 0.6625 - val_loss: 0.8299 - val_accuracy: 0.6602\n",
      "Epoch 155/300\n",
      "1010/1010 [==============================] - 4s 4ms/step - loss: 0.8187 - accuracy: 0.6639 - val_loss: 0.8282 - val_accuracy: 0.6627\n",
      "Epoch 156/300\n",
      "1010/1010 [==============================] - 4s 4ms/step - loss: 0.8178 - accuracy: 0.6661 - val_loss: 0.8300 - val_accuracy: 0.6537\n",
      "Epoch 157/300\n",
      "1010/1010 [==============================] - 4s 4ms/step - loss: 0.8147 - accuracy: 0.6655 - val_loss: 0.8255 - val_accuracy: 0.6627\n",
      "Epoch 158/300\n",
      "1010/1010 [==============================] - 4s 4ms/step - loss: 0.8134 - accuracy: 0.6651 - val_loss: 0.8229 - val_accuracy: 0.6641\n",
      "Epoch 159/300\n",
      "1010/1010 [==============================] - 4s 4ms/step - loss: 0.8139 - accuracy: 0.6669 - val_loss: 0.8252 - val_accuracy: 0.6641\n",
      "Epoch 160/300\n",
      "1010/1010 [==============================] - 5s 4ms/step - loss: 0.8139 - accuracy: 0.6654 - val_loss: 0.8223 - val_accuracy: 0.6644\n",
      "Epoch 161/300\n",
      "1010/1010 [==============================] - 4s 4ms/step - loss: 0.8112 - accuracy: 0.6687 - val_loss: 0.8247 - val_accuracy: 0.6639\n",
      "Epoch 162/300\n",
      "1010/1010 [==============================] - 5s 5ms/step - loss: 0.8116 - accuracy: 0.6685 - val_loss: 0.8220 - val_accuracy: 0.6637\n",
      "Epoch 163/300\n",
      "1010/1010 [==============================] - 4s 4ms/step - loss: 0.8114 - accuracy: 0.6669 - val_loss: 0.8214 - val_accuracy: 0.6657\n",
      "Epoch 164/300\n",
      "1010/1010 [==============================] - 4s 4ms/step - loss: 0.8093 - accuracy: 0.6680 - val_loss: 0.8196 - val_accuracy: 0.6644\n",
      "Epoch 165/300\n",
      "1010/1010 [==============================] - 4s 4ms/step - loss: 0.8089 - accuracy: 0.6679 - val_loss: 0.8226 - val_accuracy: 0.6690\n",
      "Epoch 166/300\n",
      "1010/1010 [==============================] - 4s 4ms/step - loss: 0.8090 - accuracy: 0.6703 - val_loss: 0.8206 - val_accuracy: 0.6674\n",
      "Epoch 167/300\n",
      "1010/1010 [==============================] - 4s 4ms/step - loss: 0.8069 - accuracy: 0.6691 - val_loss: 0.8192 - val_accuracy: 0.6678\n",
      "Epoch 168/300\n",
      "1010/1010 [==============================] - 4s 4ms/step - loss: 0.8061 - accuracy: 0.6720 - val_loss: 0.8188 - val_accuracy: 0.6643\n",
      "Epoch 169/300\n",
      "1010/1010 [==============================] - 4s 4ms/step - loss: 0.8052 - accuracy: 0.6712 - val_loss: 0.8194 - val_accuracy: 0.6645\n",
      "Epoch 170/300\n",
      "1010/1010 [==============================] - 4s 4ms/step - loss: 0.8047 - accuracy: 0.6705 - val_loss: 0.8192 - val_accuracy: 0.6682\n",
      "Epoch 171/300\n",
      "1010/1010 [==============================] - 4s 4ms/step - loss: 0.8018 - accuracy: 0.6723 - val_loss: 0.8171 - val_accuracy: 0.6646\n",
      "Epoch 172/300\n",
      "1010/1010 [==============================] - 4s 4ms/step - loss: 0.8020 - accuracy: 0.6732 - val_loss: 0.8161 - val_accuracy: 0.6713\n",
      "Epoch 173/300\n",
      "1010/1010 [==============================] - 4s 4ms/step - loss: 0.8026 - accuracy: 0.6723 - val_loss: 0.8184 - val_accuracy: 0.6655\n",
      "Epoch 174/300\n",
      "1010/1010 [==============================] - 4s 4ms/step - loss: 0.8014 - accuracy: 0.6730 - val_loss: 0.8136 - val_accuracy: 0.6708\n",
      "Epoch 175/300\n",
      "1010/1010 [==============================] - 4s 4ms/step - loss: 0.7996 - accuracy: 0.6707 - val_loss: 0.8129 - val_accuracy: 0.6679\n",
      "Epoch 176/300\n",
      "1010/1010 [==============================] - 4s 4ms/step - loss: 0.7999 - accuracy: 0.6737 - val_loss: 0.8137 - val_accuracy: 0.6713\n",
      "Epoch 177/300\n",
      "1010/1010 [==============================] - 4s 4ms/step - loss: 0.7984 - accuracy: 0.6736 - val_loss: 0.8117 - val_accuracy: 0.6718\n",
      "Epoch 178/300\n",
      "1010/1010 [==============================] - 4s 4ms/step - loss: 0.7989 - accuracy: 0.6715 - val_loss: 0.8114 - val_accuracy: 0.6707\n",
      "Epoch 179/300\n",
      "1010/1010 [==============================] - 4s 4ms/step - loss: 0.7980 - accuracy: 0.6737 - val_loss: 0.8099 - val_accuracy: 0.6696\n",
      "Epoch 180/300\n",
      "1010/1010 [==============================] - 4s 4ms/step - loss: 0.7983 - accuracy: 0.6738 - val_loss: 0.8115 - val_accuracy: 0.6701\n",
      "Epoch 181/300\n",
      "1010/1010 [==============================] - 4s 4ms/step - loss: 0.7949 - accuracy: 0.6758 - val_loss: 0.8108 - val_accuracy: 0.6707\n",
      "Epoch 182/300\n",
      "1010/1010 [==============================] - 4s 4ms/step - loss: 0.7933 - accuracy: 0.6754 - val_loss: 0.8147 - val_accuracy: 0.6639\n",
      "Epoch 183/300\n",
      "1010/1010 [==============================] - 4s 4ms/step - loss: 0.7950 - accuracy: 0.6772 - val_loss: 0.8062 - val_accuracy: 0.6720\n",
      "Epoch 184/300\n",
      "1010/1010 [==============================] - 4s 4ms/step - loss: 0.7943 - accuracy: 0.6767 - val_loss: 0.8059 - val_accuracy: 0.6747\n",
      "Epoch 185/300\n",
      "1010/1010 [==============================] - 4s 4ms/step - loss: 0.7939 - accuracy: 0.6774 - val_loss: 0.8061 - val_accuracy: 0.6773\n",
      "Epoch 186/300\n",
      "1010/1010 [==============================] - 4s 4ms/step - loss: 0.7912 - accuracy: 0.6778 - val_loss: 0.8101 - val_accuracy: 0.6694\n",
      "Epoch 187/300\n",
      "1010/1010 [==============================] - 4s 4ms/step - loss: 0.7898 - accuracy: 0.6793 - val_loss: 0.8060 - val_accuracy: 0.6760\n",
      "Epoch 188/300\n",
      "1010/1010 [==============================] - 4s 4ms/step - loss: 0.7897 - accuracy: 0.6780 - val_loss: 0.8057 - val_accuracy: 0.6727\n",
      "Epoch 189/300\n",
      "1010/1010 [==============================] - 4s 4ms/step - loss: 0.7886 - accuracy: 0.6778 - val_loss: 0.8040 - val_accuracy: 0.6736\n",
      "Epoch 190/300\n",
      "1010/1010 [==============================] - 4s 4ms/step - loss: 0.7902 - accuracy: 0.6780 - val_loss: 0.8045 - val_accuracy: 0.6734\n",
      "Epoch 191/300\n",
      "1010/1010 [==============================] - 4s 4ms/step - loss: 0.7891 - accuracy: 0.6801 - val_loss: 0.8048 - val_accuracy: 0.6748\n",
      "Epoch 192/300\n",
      "1010/1010 [==============================] - 4s 4ms/step - loss: 0.7861 - accuracy: 0.6816 - val_loss: 0.8041 - val_accuracy: 0.6756\n",
      "Epoch 193/300\n",
      "1010/1010 [==============================] - 4s 4ms/step - loss: 0.7851 - accuracy: 0.6789 - val_loss: 0.8037 - val_accuracy: 0.6771\n",
      "Epoch 194/300\n",
      "1010/1010 [==============================] - 4s 4ms/step - loss: 0.7844 - accuracy: 0.6793 - val_loss: 0.8004 - val_accuracy: 0.6781\n",
      "Epoch 195/300\n",
      "1010/1010 [==============================] - 5s 5ms/step - loss: 0.7834 - accuracy: 0.6804 - val_loss: 0.7990 - val_accuracy: 0.6778\n",
      "Epoch 196/300\n",
      "1010/1010 [==============================] - 4s 4ms/step - loss: 0.7826 - accuracy: 0.6811 - val_loss: 0.8035 - val_accuracy: 0.6746\n",
      "Epoch 197/300\n",
      "1010/1010 [==============================] - 4s 4ms/step - loss: 0.7820 - accuracy: 0.6815 - val_loss: 0.8007 - val_accuracy: 0.6755\n",
      "Epoch 198/300\n",
      "1010/1010 [==============================] - 4s 4ms/step - loss: 0.7816 - accuracy: 0.6829 - val_loss: 0.8002 - val_accuracy: 0.6747\n",
      "Epoch 199/300\n",
      "1010/1010 [==============================] - 4s 4ms/step - loss: 0.7809 - accuracy: 0.6847 - val_loss: 0.7982 - val_accuracy: 0.6779\n",
      "Epoch 200/300\n",
      "1010/1010 [==============================] - 4s 4ms/step - loss: 0.7818 - accuracy: 0.6835 - val_loss: 0.8004 - val_accuracy: 0.6764\n",
      "Epoch 201/300\n",
      "1010/1010 [==============================] - 4s 4ms/step - loss: 0.7799 - accuracy: 0.6839 - val_loss: 0.7962 - val_accuracy: 0.6789\n",
      "Epoch 202/300\n",
      "1010/1010 [==============================] - 4s 4ms/step - loss: 0.7794 - accuracy: 0.6843 - val_loss: 0.7991 - val_accuracy: 0.6762\n",
      "Epoch 203/300\n",
      "1010/1010 [==============================] - 4s 4ms/step - loss: 0.7785 - accuracy: 0.6844 - val_loss: 0.7961 - val_accuracy: 0.6762\n",
      "Epoch 204/300\n",
      "1010/1010 [==============================] - 4s 4ms/step - loss: 0.7770 - accuracy: 0.6841 - val_loss: 0.7951 - val_accuracy: 0.6782\n",
      "Epoch 205/300\n",
      "1010/1010 [==============================] - 4s 4ms/step - loss: 0.7770 - accuracy: 0.6858 - val_loss: 0.7989 - val_accuracy: 0.6738\n",
      "Epoch 206/300\n",
      "1010/1010 [==============================] - 4s 4ms/step - loss: 0.7759 - accuracy: 0.6845 - val_loss: 0.7943 - val_accuracy: 0.6791\n",
      "Epoch 207/300\n",
      "1010/1010 [==============================] - 4s 4ms/step - loss: 0.7757 - accuracy: 0.6857 - val_loss: 0.7947 - val_accuracy: 0.6779\n",
      "Epoch 208/300\n",
      "1010/1010 [==============================] - 5s 4ms/step - loss: 0.7731 - accuracy: 0.6854 - val_loss: 0.7981 - val_accuracy: 0.6758\n",
      "Epoch 209/300\n",
      "1010/1010 [==============================] - 4s 4ms/step - loss: 0.7729 - accuracy: 0.6853 - val_loss: 0.7943 - val_accuracy: 0.6764\n",
      "Epoch 210/300\n",
      "1010/1010 [==============================] - 4s 4ms/step - loss: 0.7717 - accuracy: 0.6875 - val_loss: 0.7929 - val_accuracy: 0.6797\n",
      "Epoch 211/300\n",
      "1010/1010 [==============================] - 4s 4ms/step - loss: 0.7728 - accuracy: 0.6876 - val_loss: 0.7930 - val_accuracy: 0.6822\n",
      "Epoch 212/300\n",
      "1010/1010 [==============================] - 4s 4ms/step - loss: 0.7724 - accuracy: 0.6870 - val_loss: 0.7913 - val_accuracy: 0.6784\n",
      "Epoch 213/300\n",
      "1010/1010 [==============================] - 4s 4ms/step - loss: 0.7732 - accuracy: 0.6872 - val_loss: 0.7890 - val_accuracy: 0.6830\n",
      "Epoch 214/300\n",
      "1010/1010 [==============================] - 4s 4ms/step - loss: 0.7685 - accuracy: 0.6890 - val_loss: 0.7913 - val_accuracy: 0.6804\n",
      "Epoch 215/300\n",
      "1010/1010 [==============================] - 4s 4ms/step - loss: 0.7687 - accuracy: 0.6890 - val_loss: 0.7881 - val_accuracy: 0.6821\n",
      "Epoch 216/300\n",
      "1010/1010 [==============================] - 4s 4ms/step - loss: 0.7691 - accuracy: 0.6875 - val_loss: 0.7889 - val_accuracy: 0.6814\n",
      "Epoch 217/300\n",
      "1010/1010 [==============================] - 4s 4ms/step - loss: 0.7679 - accuracy: 0.6892 - val_loss: 0.7869 - val_accuracy: 0.6816\n",
      "Epoch 218/300\n",
      "1010/1010 [==============================] - 4s 4ms/step - loss: 0.7679 - accuracy: 0.6911 - val_loss: 0.7897 - val_accuracy: 0.6824\n",
      "Epoch 219/300\n",
      "1010/1010 [==============================] - 4s 4ms/step - loss: 0.7656 - accuracy: 0.6898 - val_loss: 0.7849 - val_accuracy: 0.6848\n",
      "Epoch 220/300\n",
      "1010/1010 [==============================] - 4s 4ms/step - loss: 0.7649 - accuracy: 0.6903 - val_loss: 0.7844 - val_accuracy: 0.6842\n",
      "Epoch 221/300\n",
      "1010/1010 [==============================] - 4s 4ms/step - loss: 0.7627 - accuracy: 0.6926 - val_loss: 0.7841 - val_accuracy: 0.6833\n",
      "Epoch 222/300\n",
      "1010/1010 [==============================] - 4s 4ms/step - loss: 0.7657 - accuracy: 0.6911 - val_loss: 0.7841 - val_accuracy: 0.6833\n",
      "Epoch 223/300\n",
      "1010/1010 [==============================] - 4s 4ms/step - loss: 0.7622 - accuracy: 0.6914 - val_loss: 0.7839 - val_accuracy: 0.6848\n",
      "Epoch 224/300\n",
      "1010/1010 [==============================] - 4s 4ms/step - loss: 0.7614 - accuracy: 0.6922 - val_loss: 0.7854 - val_accuracy: 0.6829\n",
      "Epoch 225/300\n",
      "1010/1010 [==============================] - 4s 4ms/step - loss: 0.7609 - accuracy: 0.6924 - val_loss: 0.7850 - val_accuracy: 0.6822\n",
      "Epoch 226/300\n",
      "1010/1010 [==============================] - 4s 4ms/step - loss: 0.7610 - accuracy: 0.6925 - val_loss: 0.7825 - val_accuracy: 0.6882\n",
      "Epoch 227/300\n",
      "1010/1010 [==============================] - 4s 4ms/step - loss: 0.7582 - accuracy: 0.6960 - val_loss: 0.7832 - val_accuracy: 0.6857\n",
      "Epoch 228/300\n",
      "1010/1010 [==============================] - 4s 4ms/step - loss: 0.7576 - accuracy: 0.6930 - val_loss: 0.7808 - val_accuracy: 0.6855\n",
      "Epoch 229/300\n",
      "1010/1010 [==============================] - 4s 4ms/step - loss: 0.7598 - accuracy: 0.6944 - val_loss: 0.7803 - val_accuracy: 0.6871\n",
      "Epoch 230/300\n",
      "1010/1010 [==============================] - 4s 4ms/step - loss: 0.7564 - accuracy: 0.6939 - val_loss: 0.7815 - val_accuracy: 0.6894\n",
      "Epoch 231/300\n",
      "1010/1010 [==============================] - 4s 4ms/step - loss: 0.7577 - accuracy: 0.6945 - val_loss: 0.7828 - val_accuracy: 0.6833\n",
      "Epoch 232/300\n",
      "1010/1010 [==============================] - 4s 4ms/step - loss: 0.7543 - accuracy: 0.6942 - val_loss: 0.7831 - val_accuracy: 0.6848\n",
      "Epoch 233/300\n",
      "1010/1010 [==============================] - 4s 4ms/step - loss: 0.7559 - accuracy: 0.6939 - val_loss: 0.7788 - val_accuracy: 0.6855\n",
      "Epoch 234/300\n",
      "1010/1010 [==============================] - 4s 4ms/step - loss: 0.7548 - accuracy: 0.6949 - val_loss: 0.7789 - val_accuracy: 0.6863\n",
      "Epoch 235/300\n",
      "1010/1010 [==============================] - 4s 4ms/step - loss: 0.7543 - accuracy: 0.6959 - val_loss: 0.7777 - val_accuracy: 0.6855\n",
      "Epoch 236/300\n",
      "1010/1010 [==============================] - 4s 4ms/step - loss: 0.7551 - accuracy: 0.6955 - val_loss: 0.7766 - val_accuracy: 0.6896\n",
      "Epoch 237/300\n",
      "1010/1010 [==============================] - 4s 4ms/step - loss: 0.7533 - accuracy: 0.6971 - val_loss: 0.7791 - val_accuracy: 0.6906\n",
      "Epoch 238/300\n",
      "1010/1010 [==============================] - 4s 4ms/step - loss: 0.7528 - accuracy: 0.6964 - val_loss: 0.7789 - val_accuracy: 0.6858\n",
      "Epoch 239/300\n",
      "1010/1010 [==============================] - 4s 4ms/step - loss: 0.7516 - accuracy: 0.6963 - val_loss: 0.7753 - val_accuracy: 0.6912\n",
      "Epoch 240/300\n",
      "1010/1010 [==============================] - 4s 4ms/step - loss: 0.7487 - accuracy: 0.7002 - val_loss: 0.7756 - val_accuracy: 0.6917\n",
      "Epoch 241/300\n",
      "1010/1010 [==============================] - 4s 4ms/step - loss: 0.7489 - accuracy: 0.6997 - val_loss: 0.7757 - val_accuracy: 0.6880\n",
      "Epoch 242/300\n",
      "1010/1010 [==============================] - 4s 4ms/step - loss: 0.7468 - accuracy: 0.6994 - val_loss: 0.7731 - val_accuracy: 0.6886\n",
      "Epoch 243/300\n",
      "1010/1010 [==============================] - 4s 4ms/step - loss: 0.7502 - accuracy: 0.6980 - val_loss: 0.7737 - val_accuracy: 0.6897\n",
      "Epoch 244/300\n",
      "1010/1010 [==============================] - 4s 4ms/step - loss: 0.7484 - accuracy: 0.6998 - val_loss: 0.7732 - val_accuracy: 0.6905\n",
      "Epoch 245/300\n",
      "1010/1010 [==============================] - 4s 4ms/step - loss: 0.7440 - accuracy: 0.6996 - val_loss: 0.7728 - val_accuracy: 0.6937\n",
      "Epoch 246/300\n",
      "1010/1010 [==============================] - 4s 4ms/step - loss: 0.7447 - accuracy: 0.7037 - val_loss: 0.7725 - val_accuracy: 0.6938\n",
      "Epoch 247/300\n",
      "1010/1010 [==============================] - 4s 4ms/step - loss: 0.7450 - accuracy: 0.7008 - val_loss: 0.7718 - val_accuracy: 0.6922\n",
      "Epoch 248/300\n",
      "1010/1010 [==============================] - 4s 4ms/step - loss: 0.7451 - accuracy: 0.7018 - val_loss: 0.7707 - val_accuracy: 0.6929\n",
      "Epoch 249/300\n",
      "1010/1010 [==============================] - 4s 4ms/step - loss: 0.7425 - accuracy: 0.7020 - val_loss: 0.7695 - val_accuracy: 0.6928\n",
      "Epoch 250/300\n",
      "1010/1010 [==============================] - 4s 4ms/step - loss: 0.7428 - accuracy: 0.7004 - val_loss: 0.7677 - val_accuracy: 0.6939\n",
      "Epoch 251/300\n",
      "1010/1010 [==============================] - 4s 4ms/step - loss: 0.7429 - accuracy: 0.7016 - val_loss: 0.7674 - val_accuracy: 0.6953\n",
      "Epoch 252/300\n",
      "1010/1010 [==============================] - 4s 4ms/step - loss: 0.7432 - accuracy: 0.7001 - val_loss: 0.7676 - val_accuracy: 0.6937\n",
      "Epoch 253/300\n",
      "1010/1010 [==============================] - 4s 4ms/step - loss: 0.7403 - accuracy: 0.7048 - val_loss: 0.7697 - val_accuracy: 0.6931\n",
      "Epoch 254/300\n",
      "1010/1010 [==============================] - 4s 4ms/step - loss: 0.7386 - accuracy: 0.7046 - val_loss: 0.7673 - val_accuracy: 0.6946\n",
      "Epoch 255/300\n",
      "1010/1010 [==============================] - 4s 4ms/step - loss: 0.7396 - accuracy: 0.7028 - val_loss: 0.7678 - val_accuracy: 0.6919\n",
      "Epoch 256/300\n",
      "1010/1010 [==============================] - 4s 4ms/step - loss: 0.7398 - accuracy: 0.7035 - val_loss: 0.7664 - val_accuracy: 0.6941\n",
      "Epoch 257/300\n",
      "1010/1010 [==============================] - 4s 4ms/step - loss: 0.7390 - accuracy: 0.7042 - val_loss: 0.7659 - val_accuracy: 0.6939\n",
      "Epoch 258/300\n",
      "1010/1010 [==============================] - 4s 4ms/step - loss: 0.7390 - accuracy: 0.7039 - val_loss: 0.7648 - val_accuracy: 0.6937\n",
      "Epoch 259/300\n",
      "1010/1010 [==============================] - 4s 4ms/step - loss: 0.7371 - accuracy: 0.7036 - val_loss: 0.7646 - val_accuracy: 0.6963\n",
      "Epoch 260/300\n",
      "1010/1010 [==============================] - 4s 4ms/step - loss: 0.7350 - accuracy: 0.7058 - val_loss: 0.7625 - val_accuracy: 0.6958\n",
      "Epoch 261/300\n",
      "1010/1010 [==============================] - 4s 4ms/step - loss: 0.7341 - accuracy: 0.7058 - val_loss: 0.7637 - val_accuracy: 0.6960\n",
      "Epoch 262/300\n",
      "1010/1010 [==============================] - 4s 4ms/step - loss: 0.7349 - accuracy: 0.7071 - val_loss: 0.7638 - val_accuracy: 0.6976\n",
      "Epoch 263/300\n",
      "1010/1010 [==============================] - 4s 4ms/step - loss: 0.7348 - accuracy: 0.7060 - val_loss: 0.7662 - val_accuracy: 0.6951\n",
      "Epoch 264/300\n",
      "1010/1010 [==============================] - 4s 4ms/step - loss: 0.7351 - accuracy: 0.7072 - val_loss: 0.7603 - val_accuracy: 0.6980\n",
      "Epoch 265/300\n",
      "1010/1010 [==============================] - 4s 4ms/step - loss: 0.7333 - accuracy: 0.7058 - val_loss: 0.7583 - val_accuracy: 0.6996\n",
      "Epoch 266/300\n",
      "1010/1010 [==============================] - 4s 4ms/step - loss: 0.7299 - accuracy: 0.7074 - val_loss: 0.7621 - val_accuracy: 0.6983\n",
      "Epoch 267/300\n",
      "1010/1010 [==============================] - 4s 4ms/step - loss: 0.7292 - accuracy: 0.7089 - val_loss: 0.7592 - val_accuracy: 0.7005\n",
      "Epoch 268/300\n",
      "1010/1010 [==============================] - 4s 4ms/step - loss: 0.7309 - accuracy: 0.7085 - val_loss: 0.7589 - val_accuracy: 0.7003\n",
      "Epoch 269/300\n",
      "1010/1010 [==============================] - 4s 4ms/step - loss: 0.7299 - accuracy: 0.7076 - val_loss: 0.7577 - val_accuracy: 0.7021\n",
      "Epoch 270/300\n",
      "1010/1010 [==============================] - 4s 4ms/step - loss: 0.7274 - accuracy: 0.7095 - val_loss: 0.7593 - val_accuracy: 0.7012\n",
      "Epoch 271/300\n",
      "1010/1010 [==============================] - 4s 4ms/step - loss: 0.7272 - accuracy: 0.7101 - val_loss: 0.7595 - val_accuracy: 0.7005\n",
      "Epoch 272/300\n",
      "1010/1010 [==============================] - 4s 4ms/step - loss: 0.7291 - accuracy: 0.7092 - val_loss: 0.7571 - val_accuracy: 0.7026\n",
      "Epoch 273/300\n",
      "1010/1010 [==============================] - 4s 4ms/step - loss: 0.7277 - accuracy: 0.7094 - val_loss: 0.7577 - val_accuracy: 0.6999\n",
      "Epoch 274/300\n",
      "1010/1010 [==============================] - 4s 4ms/step - loss: 0.7279 - accuracy: 0.7100 - val_loss: 0.7567 - val_accuracy: 0.7011\n",
      "Epoch 275/300\n",
      "1010/1010 [==============================] - 4s 4ms/step - loss: 0.7257 - accuracy: 0.7103 - val_loss: 0.7572 - val_accuracy: 0.7003\n",
      "Epoch 276/300\n",
      "1010/1010 [==============================] - 4s 4ms/step - loss: 0.7249 - accuracy: 0.7090 - val_loss: 0.7553 - val_accuracy: 0.7043\n",
      "Epoch 277/300\n",
      "1010/1010 [==============================] - 4s 4ms/step - loss: 0.7256 - accuracy: 0.7122 - val_loss: 0.7547 - val_accuracy: 0.7011\n",
      "Epoch 278/300\n",
      "1010/1010 [==============================] - 4s 4ms/step - loss: 0.7249 - accuracy: 0.7106 - val_loss: 0.7544 - val_accuracy: 0.7017\n",
      "Epoch 279/300\n",
      "1010/1010 [==============================] - 4s 4ms/step - loss: 0.7237 - accuracy: 0.7108 - val_loss: 0.7558 - val_accuracy: 0.7006\n",
      "Epoch 280/300\n",
      "1010/1010 [==============================] - 4s 4ms/step - loss: 0.7221 - accuracy: 0.7133 - val_loss: 0.7529 - val_accuracy: 0.7031\n",
      "Epoch 281/300\n",
      "1010/1010 [==============================] - 4s 4ms/step - loss: 0.7228 - accuracy: 0.7122 - val_loss: 0.7530 - val_accuracy: 0.7021\n",
      "Epoch 282/300\n",
      "1010/1010 [==============================] - 4s 4ms/step - loss: 0.7213 - accuracy: 0.7122 - val_loss: 0.7532 - val_accuracy: 0.7037\n",
      "Epoch 283/300\n",
      "1010/1010 [==============================] - 4s 4ms/step - loss: 0.7200 - accuracy: 0.7134 - val_loss: 0.7518 - val_accuracy: 0.7023\n",
      "Epoch 284/300\n",
      "1010/1010 [==============================] - 4s 4ms/step - loss: 0.7190 - accuracy: 0.7147 - val_loss: 0.7522 - val_accuracy: 0.7026\n",
      "Epoch 285/300\n",
      "1010/1010 [==============================] - 4s 4ms/step - loss: 0.7178 - accuracy: 0.7139 - val_loss: 0.7529 - val_accuracy: 0.7033\n",
      "Epoch 286/300\n",
      "1010/1010 [==============================] - 4s 4ms/step - loss: 0.7176 - accuracy: 0.7149 - val_loss: 0.7507 - val_accuracy: 0.7026\n",
      "Epoch 287/300\n",
      "1010/1010 [==============================] - 4s 4ms/step - loss: 0.7176 - accuracy: 0.7142 - val_loss: 0.7496 - val_accuracy: 0.7071\n",
      "Epoch 288/300\n",
      "1010/1010 [==============================] - 4s 4ms/step - loss: 0.7176 - accuracy: 0.7147 - val_loss: 0.7487 - val_accuracy: 0.7034\n",
      "Epoch 289/300\n",
      "1010/1010 [==============================] - 4s 4ms/step - loss: 0.7174 - accuracy: 0.7166 - val_loss: 0.7512 - val_accuracy: 0.7029\n",
      "Epoch 290/300\n",
      "1010/1010 [==============================] - 4s 4ms/step - loss: 0.7163 - accuracy: 0.7139 - val_loss: 0.7476 - val_accuracy: 0.7065\n",
      "Epoch 291/300\n",
      "1010/1010 [==============================] - 4s 4ms/step - loss: 0.7149 - accuracy: 0.7151 - val_loss: 0.7512 - val_accuracy: 0.7050\n",
      "Epoch 292/300\n",
      "1010/1010 [==============================] - 4s 4ms/step - loss: 0.7162 - accuracy: 0.7151 - val_loss: 0.7468 - val_accuracy: 0.7085\n",
      "Epoch 293/300\n",
      "1010/1010 [==============================] - 4s 4ms/step - loss: 0.7149 - accuracy: 0.7137 - val_loss: 0.7507 - val_accuracy: 0.7032\n",
      "Epoch 294/300\n",
      "1010/1010 [==============================] - 4s 4ms/step - loss: 0.7143 - accuracy: 0.7152 - val_loss: 0.7485 - val_accuracy: 0.7047\n",
      "Epoch 295/300\n",
      "1010/1010 [==============================] - 4s 4ms/step - loss: 0.7140 - accuracy: 0.7147 - val_loss: 0.7472 - val_accuracy: 0.7060\n",
      "Epoch 296/300\n",
      "1010/1010 [==============================] - 4s 4ms/step - loss: 0.7110 - accuracy: 0.7182 - val_loss: 0.7458 - val_accuracy: 0.7075\n",
      "Epoch 297/300\n",
      "1010/1010 [==============================] - 4s 4ms/step - loss: 0.7106 - accuracy: 0.7174 - val_loss: 0.7454 - val_accuracy: 0.7068\n",
      "Epoch 298/300\n",
      "1010/1010 [==============================] - 4s 4ms/step - loss: 0.7084 - accuracy: 0.7177 - val_loss: 0.7442 - val_accuracy: 0.7064\n",
      "Epoch 299/300\n",
      "1010/1010 [==============================] - 4s 4ms/step - loss: 0.7083 - accuracy: 0.7201 - val_loss: 0.7501 - val_accuracy: 0.7034\n",
      "Epoch 300/300\n",
      "1010/1010 [==============================] - 4s 4ms/step - loss: 0.7056 - accuracy: 0.7173 - val_loss: 0.7455 - val_accuracy: 0.7110\n"
     ]
    }
   ],
   "source": [
    "history = model.fit(X_train, y_train, epochs=300, batch_size=60, validation_data=[X_test,y_test], callbacks=[early_stopping])"
   ]
  },
  {
   "cell_type": "code",
   "execution_count": 77,
   "metadata": {},
   "outputs": [],
   "source": [
    "history_df = pd.DataFrame(history.history)"
   ]
  },
  {
   "cell_type": "code",
   "execution_count": 78,
   "metadata": {},
   "outputs": [
    {
     "data": {
      "text/plain": [
       "<Axes: >"
      ]
     },
     "execution_count": 78,
     "metadata": {},
     "output_type": "execute_result"
    },
    {
     "data": {
      "image/png": "[encoded data removed]",
      "text/plain": [
       "<Figure size 640x480 with 1 Axes>"
      ]
     },
     "metadata": {},
     "output_type": "display_data"
    }
   ],
   "source": [
    "sns.lineplot(data=history_df[['accuracy', 'val_accuracy']])"
   ]
  },
  {
   "cell_type": "code",
   "execution_count": 79,
   "metadata": {},
   "outputs": [
    {
     "data": {
      "text/plain": [
       "<Axes: >"
      ]
     },
     "execution_count": 79,
     "metadata": {},
     "output_type": "execute_result"
    },
    {
     "data": {
      "image/png": "[encoded data removed]",
      "text/plain": [
       "<Figure size 640x480 with 1 Axes>"
      ]
     },
     "metadata": {},
     "output_type": "display_data"
    }
   ],
   "source": [
    "sns.lineplot(data=history_df[['loss', 'val_loss']])"
   ]
  },
  {
   "cell_type": "code",
   "execution_count": 80,
   "metadata": {},
   "outputs": [
    {
     "name": "stdout",
     "output_type": "stream",
     "text": [
      "474/474 [==============================] - 0s 931us/step - loss: 0.7455 - accuracy: 0.7110\n"
     ]
    },
    {
     "data": {
      "text/plain": [
       "[0.7455374598503113, 0.7109730839729309]"
      ]
     },
     "execution_count": 80,
     "metadata": {},
     "output_type": "execute_result"
    }
   ],
   "source": [
    "model.evaluate(X_test, y_test)"
   ]
  },
  {
   "cell_type": "code",
   "execution_count": 81,
   "metadata": {},
   "outputs": [],
   "source": [
    "from sklearn.metrics import classification_report"
   ]
  },
  {
   "cell_type": "code",
   "execution_count": 82,
   "metadata": {},
   "outputs": [
    {
     "name": "stdout",
     "output_type": "stream",
     "text": [
      "474/474 [==============================] - 0s 953us/step\n"
     ]
    }
   ],
   "source": [
    "y_pred = np.argmax(model.predict(X_test), axis=-1)"
   ]
  },
  {
   "cell_type": "code",
   "execution_count": 83,
   "metadata": {},
   "outputs": [],
   "source": [
    "y_test = np.argmax(y_test, axis=-1)"
   ]
  },
  {
   "cell_type": "code",
   "execution_count": 84,
   "metadata": {},
   "outputs": [
    {
     "name": "stdout",
     "output_type": "stream",
     "text": [
      "              precision    recall  f1-score   support\n",
      "\n",
      "           0       0.68      0.79      0.73      6353\n",
      "           1       0.74      0.70      0.72      4562\n",
      "           2       0.75      0.61      0.67      4222\n",
      "\n",
      "    accuracy                           0.71     15137\n",
      "   macro avg       0.72      0.70      0.71     15137\n",
      "weighted avg       0.72      0.71      0.71     15137\n",
      "\n"
     ]
    }
   ],
   "source": [
    "print(classification_report(y_test, y_pred))"
   ]
  },
  {
   "cell_type": "code",
   "execution_count": 85,
   "metadata": {},
   "outputs": [],
   "source": [
    "def clasifica_texto(texto):\n",
    "    texto = clean(texto)\n",
    "    vector = vectorize(texto)\n",
    "    vector = vector.reshape(1,300,1)\n",
    "    return np.argmax(model.predict(vector), axis=-1)"
   ]
  },
  {
   "cell_type": "code",
   "execution_count": 86,
   "metadata": {},
   "outputs": [
    {
     "name": "stdout",
     "output_type": "stream",
     "text": [
      "1/1 [==============================] - 0s 12ms/step\n"
     ]
    },
    {
     "data": {
      "text/plain": [
       "array([1])"
      ]
     },
     "execution_count": 86,
     "metadata": {},
     "output_type": "execute_result"
    }
   ],
   "source": [
    "clasifica_texto('''Grok Actually surpasses all A.I and completely outperforms them by a mile..''')"
   ]
  },
  {
   "cell_type": "markdown",
   "metadata": {},
   "source": [
    "Creamos el pipeline para exportarlo"
   ]
  },
  {
   "cell_type": "code",
   "execution_count": 87,
   "metadata": {},
   "outputs": [],
   "source": [
    "from sklearn.pipeline import Pipeline\n",
    "from sklearn.preprocessing import FunctionTransformer"
   ]
  },
  {
   "cell_type": "code",
   "execution_count": 88,
   "metadata": {},
   "outputs": [],
   "source": [
    "def clean_vectorize(text):\n",
    "    text = clean(text)\n",
    "    vector = vectorize(text)\n",
    "    vector = vector.reshape(1,300,1)\n",
    "    return vector\n",
    "\n",
    "transformer = FunctionTransformer(clean_vectorize)"
   ]
  },
  {
   "cell_type": "code",
   "execution_count": 89,
   "metadata": {},
   "outputs": [],
   "source": [
    "pipeline_exportacion = Pipeline([\n",
    "    ('preprocessing', transformer),\n",
    "    ('model', model)\n",
    "])"
   ]
  },
  {
   "cell_type": "code",
   "execution_count": 90,
   "metadata": {},
   "outputs": [
    {
     "name": "stdout",
     "output_type": "stream",
     "text": [
      "1/1 [==============================] - 0s 11ms/step\n"
     ]
    }
   ],
   "source": [
    "res = pipeline_exportacion.predict('''I think the world is going to be a better place because of you.''')"
   ]
  },
  {
   "cell_type": "code",
   "execution_count": 91,
   "metadata": {},
   "outputs": [
    {
     "data": {
      "text/plain": [
       "2"
      ]
     },
     "execution_count": 91,
     "metadata": {},
     "output_type": "execute_result"
    }
   ],
   "source": [
    "res.argmax()"
   ]
  },
  {
   "cell_type": "code",
   "execution_count": 92,
   "metadata": {},
   "outputs": [],
   "source": [
    "import joblib"
   ]
  },
  {
   "cell_type": "code",
   "execution_count": 93,
   "metadata": {},
   "outputs": [
    {
     "data": {
      "text/plain": [
       "['pipeline_exportacion.pkl']"
      ]
     },
     "execution_count": 93,
     "metadata": {},
     "output_type": "execute_result"
    }
   ],
   "source": [
    "joblib.dump(pipeline_exportacion, 'pipeline_exportacion.pkl')"
   ]
  },
  {
   "cell_type": "code",
   "execution_count": 94,
   "metadata": {},
   "outputs": [
    {
     "data": {
      "text/plain": [
       "['pipeline_exportacion.h5']"
      ]
     },
     "execution_count": 94,
     "metadata": {},
     "output_type": "execute_result"
    }
   ],
   "source": [
    "joblib.dump(pipeline_exportacion, 'pipeline_exportacion.h5')\n"
   ]
  },
  {
   "cell_type": "code",
   "execution_count": 96,
   "metadata": {},
   "outputs": [
    {
     "data": {
      "text/plain": [
       "['pipeline_exportacion.joblib']"
      ]
     },
     "execution_count": 96,
     "metadata": {},
     "output_type": "execute_result"
    }
   ],
   "source": [
    "joblib.dump(pipeline_exportacion, 'pipeline_exportacion.joblib')"
   ]
  },
  {
   "cell_type": "code",
   "execution_count": 97,
   "metadata": {},
   "outputs": [
    {
     "data": {
      "text/plain": [
       "['pipeline_exportacion']"
      ]
     },
     "execution_count": 97,
     "metadata": {},
     "output_type": "execute_result"
    }
   ],
   "source": [
    "joblib.dump(pipeline_exportacion, 'pipeline_exportacion')"
   ]
  }
 ],
 "metadata": {
  "kernelspec": {
   "display_name": "Python 3",
   "language": "python",
   "name": "python3"
  },
  "language_info": {
   "codemirror_mode": {
    "name": "ipython",
    "version": 3
   },
   "file_extension": ".py",
   "mimetype": "text/x-python",
   "name": "python",
   "nbconvert_exporter": "python",
   "pygments_lexer": "ipython3",
   "version": "3.9.6"
  }
 },
 "nbformat": 4,
 "nbformat_minor": 2
}
