{
 "cells": [
  {
   "cell_type": "code",
   "execution_count": 1,
   "metadata": {},
   "outputs": [],
   "source": [
    "import pandas as pd\n",
    "import numpy as np"
   ]
  },
  {
   "cell_type": "code",
   "execution_count": 2,
   "metadata": {},
   "outputs": [],
   "source": [
    "data_set_test = pd.read_csv('test.csv')\n",
    "data_set_train = pd.read_csv('training.csv')\n",
    "data_set_validation = pd.read_csv('validation.csv')\n",
    "\n",
    "df = pd.concat([data_set_train, data_set_validation, data_set_test], ignore_index=True)"
   ]
  },
  {
   "cell_type": "markdown",
   "metadata": {},
   "source": [
    "## Análisis de los datos"
   ]
  },
  {
   "cell_type": "code",
   "execution_count": 3,
   "metadata": {},
   "outputs": [
    {
     "data": {
      "text/html": [
       "<div>\n",
       "<style scoped>\n",
       "    .dataframe tbody tr th:only-of-type {\n",
       "        vertical-align: middle;\n",
       "    }\n",
       "\n",
       "    .dataframe tbody tr th {\n",
       "        vertical-align: top;\n",
       "    }\n",
       "\n",
       "    .dataframe thead th {\n",
       "        text-align: right;\n",
       "    }\n",
       "</style>\n",
       "<table border=\"1\" class=\"dataframe\">\n",
       "  <thead>\n",
       "    <tr style=\"text-align: right;\">\n",
       "      <th></th>\n",
       "      <th>text</th>\n",
       "      <th>label</th>\n",
       "    </tr>\n",
       "  </thead>\n",
       "  <tbody>\n",
       "    <tr>\n",
       "      <th>0</th>\n",
       "      <td>i didnt feel humiliated</td>\n",
       "      <td>0</td>\n",
       "    </tr>\n",
       "    <tr>\n",
       "      <th>1</th>\n",
       "      <td>i can go from feeling so hopeless to so damned...</td>\n",
       "      <td>0</td>\n",
       "    </tr>\n",
       "    <tr>\n",
       "      <th>2</th>\n",
       "      <td>im grabbing a minute to post i feel greedy wrong</td>\n",
       "      <td>3</td>\n",
       "    </tr>\n",
       "    <tr>\n",
       "      <th>3</th>\n",
       "      <td>i am ever feeling nostalgic about the fireplac...</td>\n",
       "      <td>2</td>\n",
       "    </tr>\n",
       "    <tr>\n",
       "      <th>4</th>\n",
       "      <td>i am feeling grouchy</td>\n",
       "      <td>3</td>\n",
       "    </tr>\n",
       "  </tbody>\n",
       "</table>\n",
       "</div>"
      ],
      "text/plain": [
       "                                                text  label\n",
       "0                            i didnt feel humiliated      0\n",
       "1  i can go from feeling so hopeless to so damned...      0\n",
       "2   im grabbing a minute to post i feel greedy wrong      3\n",
       "3  i am ever feeling nostalgic about the fireplac...      2\n",
       "4                               i am feeling grouchy      3"
      ]
     },
     "execution_count": 3,
     "metadata": {},
     "output_type": "execute_result"
    }
   ],
   "source": [
    "df.head()"
   ]
  },
  {
   "cell_type": "code",
   "execution_count": 4,
   "metadata": {},
   "outputs": [
    {
     "data": {
      "text/html": [
       "<div>\n",
       "<style scoped>\n",
       "    .dataframe tbody tr th:only-of-type {\n",
       "        vertical-align: middle;\n",
       "    }\n",
       "\n",
       "    .dataframe tbody tr th {\n",
       "        vertical-align: top;\n",
       "    }\n",
       "\n",
       "    .dataframe thead th {\n",
       "        text-align: right;\n",
       "    }\n",
       "</style>\n",
       "<table border=\"1\" class=\"dataframe\">\n",
       "  <thead>\n",
       "    <tr style=\"text-align: right;\">\n",
       "      <th></th>\n",
       "      <th>label</th>\n",
       "    </tr>\n",
       "  </thead>\n",
       "  <tbody>\n",
       "    <tr>\n",
       "      <th>count</th>\n",
       "      <td>20000.000000</td>\n",
       "    </tr>\n",
       "    <tr>\n",
       "      <th>mean</th>\n",
       "      <td>1.562850</td>\n",
       "    </tr>\n",
       "    <tr>\n",
       "      <th>std</th>\n",
       "      <td>1.496684</td>\n",
       "    </tr>\n",
       "    <tr>\n",
       "      <th>min</th>\n",
       "      <td>0.000000</td>\n",
       "    </tr>\n",
       "    <tr>\n",
       "      <th>25%</th>\n",
       "      <td>0.000000</td>\n",
       "    </tr>\n",
       "    <tr>\n",
       "      <th>50%</th>\n",
       "      <td>1.000000</td>\n",
       "    </tr>\n",
       "    <tr>\n",
       "      <th>75%</th>\n",
       "      <td>3.000000</td>\n",
       "    </tr>\n",
       "    <tr>\n",
       "      <th>max</th>\n",
       "      <td>5.000000</td>\n",
       "    </tr>\n",
       "  </tbody>\n",
       "</table>\n",
       "</div>"
      ],
      "text/plain": [
       "              label\n",
       "count  20000.000000\n",
       "mean       1.562850\n",
       "std        1.496684\n",
       "min        0.000000\n",
       "25%        0.000000\n",
       "50%        1.000000\n",
       "75%        3.000000\n",
       "max        5.000000"
      ]
     },
     "execution_count": 4,
     "metadata": {},
     "output_type": "execute_result"
    }
   ],
   "source": [
    "df.describe()"
   ]
  },
  {
   "cell_type": "code",
   "execution_count": 5,
   "metadata": {},
   "outputs": [
    {
     "name": "stdout",
     "output_type": "stream",
     "text": [
      "<class 'pandas.core.frame.DataFrame'>\n",
      "RangeIndex: 20000 entries, 0 to 19999\n",
      "Data columns (total 2 columns):\n",
      " #   Column  Non-Null Count  Dtype \n",
      "---  ------  --------------  ----- \n",
      " 0   text    20000 non-null  object\n",
      " 1   label   20000 non-null  int64 \n",
      "dtypes: int64(1), object(1)\n",
      "memory usage: 312.6+ KB\n"
     ]
    }
   ],
   "source": [
    "df.info()"
   ]
  },
  {
   "cell_type": "code",
   "execution_count": 6,
   "metadata": {},
   "outputs": [
    {
     "data": {
      "text/plain": [
       "text     0\n",
       "label    0\n",
       "dtype: int64"
      ]
     },
     "execution_count": 6,
     "metadata": {},
     "output_type": "execute_result"
    }
   ],
   "source": [
    "df.isnull().sum()"
   ]
  },
  {
   "cell_type": "code",
   "execution_count": 7,
   "metadata": {},
   "outputs": [
    {
     "data": {
      "text/plain": [
       "<Axes: xlabel='label'>"
      ]
     },
     "execution_count": 7,
     "metadata": {},
     "output_type": "execute_result"
    },
    {
     "data": {
      "image/png": "[encoded data removed]",
      "text/plain": [
       "<Figure size 640x480 with 1 Axes>"
      ]
     },
     "metadata": {},
     "output_type": "display_data"
    }
   ],
   "source": [
    "df['label'].value_counts().plot(kind='bar')"
   ]
  },
  {
   "cell_type": "markdown",
   "metadata": {},
   "source": [
    "Hay un notable desbalance\n",
    "sadness (0), joy (1), love (2), anger (3), fear (4)."
   ]
  },
  {
   "cell_type": "markdown",
   "metadata": {},
   "source": [
    "## Procesamiento de los datos\n",
    "Este dataset ya se encontraba preprocesado, por lo que solo se realizará tokenización, lemmatization y vectorización"
   ]
  },
  {
   "cell_type": "code",
   "execution_count": 8,
   "metadata": {},
   "outputs": [
    {
     "name": "stderr",
     "output_type": "stream",
     "text": [
      "[nltk_data] Downloading package punkt to\n",
      "[nltk_data]     /Users/jyaruhernandez/nltk_data...\n",
      "[nltk_data]   Package punkt is already up-to-date!\n",
      "[nltk_data] Downloading package wordnet to\n",
      "[nltk_data]     /Users/jyaruhernandez/nltk_data...\n",
      "[nltk_data]   Package wordnet is already up-to-date!\n",
      "[nltk_data] Downloading package omw-1.4 to\n",
      "[nltk_data]     /Users/jyaruhernandez/nltk_data...\n",
      "[nltk_data]   Package omw-1.4 is already up-to-date!\n",
      "[nltk_data] Downloading package stopwords to\n",
      "[nltk_data]     /Users/jyaruhernandez/nltk_data...\n",
      "[nltk_data]   Package stopwords is already up-to-date!\n"
     ]
    }
   ],
   "source": [
    "import nltk\n",
    "from nltk import word_tokenize\n",
    "from nltk.corpus import stopwords\n",
    "nltk.download('punkt')\n",
    "nltk.download('wordnet')\n",
    "nltk.download('omw-1.4')\n",
    "from nltk.stem.wordnet import WordNetLemmatizer\n",
    "lemmatizer = WordNetLemmatizer()\n",
    "nltk.download('stopwords')\n",
    "stop_words_en = set(stopwords.words('english'))\n",
    "import matplotlib.pyplot as plt\n",
    "from sklearn.manifold import TSNE\n",
    "import plotly_express as px\n",
    "import spacy\n",
    "nlp = spacy.load('en_core_web_lg')"
   ]
  },
  {
   "cell_type": "code",
   "execution_count": 9,
   "metadata": {},
   "outputs": [],
   "source": [
    "text = \"hi good morning i am really sad\""
   ]
  },
  {
   "cell_type": "code",
   "execution_count": 10,
   "metadata": {},
   "outputs": [],
   "source": [
    "def vectorize(text):\n",
    "    text = word_tokenize(text)\n",
    "    text = [lemmatizer.lemmatize(word) for word in text if word not in stop_words_en]\n",
    "    text = ' '.join(text)\n",
    "    text = nlp(text)\n",
    "    return text.vector"
   ]
  },
  {
   "cell_type": "code",
   "execution_count": 11,
   "metadata": {},
   "outputs": [],
   "source": [
    "df['vector'] = df['text'].apply(vectorize)"
   ]
  },
  {
   "cell_type": "code",
   "execution_count": 12,
   "metadata": {},
   "outputs": [],
   "source": [
    "X = df['vector']"
   ]
  },
  {
   "cell_type": "code",
   "execution_count": 13,
   "metadata": {},
   "outputs": [],
   "source": [
    "X = np.concatenate(X).reshape(-1,300)"
   ]
  },
  {
   "cell_type": "code",
   "execution_count": 14,
   "metadata": {},
   "outputs": [],
   "source": [
    "import tensorflow as tf\n",
    "import numpy as np\n",
    "import tensorflow.keras as keras\n",
    "from tensorflow.keras.preprocessing.text import Tokenizer\n",
    "from tensorflow.keras.utils import to_categorical\n",
    "from tensorflow.keras.models import Sequential\n",
    "from tensorflow.keras.layers import Dense, LSTM, Embedding, Dropout, Conv1D, MaxPooling1D, Flatten\n",
    "from tensorflow.keras.regularizers import l1, l2\n",
    "from tensorflow.keras.preprocessing.sequence import pad_sequences\n",
    "from tensorflow.keras.optimizers.legacy import Adam\n",
    "from tensorflow.keras.callbacks import EarlyStopping\n",
    "from sklearn.model_selection import train_test_split\n",
    "import seaborn as sns"
   ]
  },
  {
   "cell_type": "code",
   "execution_count": 15,
   "metadata": {},
   "outputs": [],
   "source": [
    "early_stopping = EarlyStopping(monitor='val_loss', patience=3, verbose=1, mode='min')"
   ]
  },
  {
   "cell_type": "code",
   "execution_count": 16,
   "metadata": {},
   "outputs": [],
   "source": [
    "y = df['label']\n",
    "X_train, X_test, y_train, y_test = train_test_split(X, y, test_size=0.2, random_state=42, stratify=y)"
   ]
  },
  {
   "cell_type": "code",
   "execution_count": 17,
   "metadata": {},
   "outputs": [],
   "source": [
    "y_train = to_categorical(y_train,6)\n",
    "y_test = to_categorical(y_test,6)"
   ]
  },
  {
   "cell_type": "code",
   "execution_count": 18,
   "metadata": {},
   "outputs": [],
   "source": [
    "X_train = X_train.reshape(X_train.shape[0], X_train.shape[1], 1)\n",
    "X_test = X_test.reshape(X_test.shape[0], X_test.shape[1], 1)"
   ]
  },
  {
   "cell_type": "code",
   "execution_count": 19,
   "metadata": {},
   "outputs": [],
   "source": [
    "model = Sequential()"
   ]
  },
  {
   "cell_type": "code",
   "execution_count": 20,
   "metadata": {},
   "outputs": [
    {
     "data": {
      "text/plain": [
       "300"
      ]
     },
     "execution_count": 20,
     "metadata": {},
     "output_type": "execute_result"
    }
   ],
   "source": [
    "X_train.shape[1]"
   ]
  },
  {
   "cell_type": "code",
   "execution_count": 21,
   "metadata": {},
   "outputs": [],
   "source": [
    "model.add(Conv1D(64,5,activation='relu', input_shape=X_train[0].shape))\n",
    "model.add(MaxPooling1D(5))\n",
    "model.add(Flatten())\n",
    "model.add(Dense(64, activation='relu', kernel_regularizer=l2(0.001)))\n",
    "model.add(Dropout(0.4))\n",
    "model.add(Dense(6, activation='softmax'))\n",
    "model.compile(optimizer=Adam(learning_rate=0.00001), loss='categorical_crossentropy', metrics=['accuracy'])"
   ]
  },
  {
   "cell_type": "code",
   "execution_count": 22,
   "metadata": {},
   "outputs": [
    {
     "data": {
      "text/plain": [
       "(4000, 300, 1)"
      ]
     },
     "execution_count": 22,
     "metadata": {},
     "output_type": "execute_result"
    }
   ],
   "source": [
    "X_test.shape"
   ]
  },
  {
   "cell_type": "code",
   "execution_count": 23,
   "metadata": {},
   "outputs": [
    {
     "name": "stdout",
     "output_type": "stream",
     "text": [
      "Epoch 1/300\n",
      "458/458 [==============================] - 2s 3ms/step - loss: 1.7447 - accuracy: 0.3491 - val_loss: 1.6599 - val_accuracy: 0.4075\n",
      "Epoch 2/300\n",
      "458/458 [==============================] - 2s 3ms/step - loss: 1.6755 - accuracy: 0.3972 - val_loss: 1.6308 - val_accuracy: 0.4530\n",
      "Epoch 3/300\n",
      "458/458 [==============================] - 1s 3ms/step - loss: 1.6445 - accuracy: 0.4172 - val_loss: 1.6001 - val_accuracy: 0.4625\n",
      "Epoch 4/300\n",
      "458/458 [==============================] - 1s 3ms/step - loss: 1.6224 - accuracy: 0.4297 - val_loss: 1.5815 - val_accuracy: 0.4630\n",
      "Epoch 5/300\n",
      "458/458 [==============================] - 1s 3ms/step - loss: 1.6032 - accuracy: 0.4439 - val_loss: 1.5604 - val_accuracy: 0.4678\n",
      "Epoch 6/300\n",
      "458/458 [==============================] - 1s 3ms/step - loss: 1.5840 - accuracy: 0.4473 - val_loss: 1.5462 - val_accuracy: 0.4717\n",
      "Epoch 7/300\n",
      "458/458 [==============================] - 1s 3ms/step - loss: 1.5722 - accuracy: 0.4513 - val_loss: 1.5307 - val_accuracy: 0.4695\n",
      "Epoch 8/300\n",
      "458/458 [==============================] - 1s 3ms/step - loss: 1.5565 - accuracy: 0.4564 - val_loss: 1.5156 - val_accuracy: 0.4807\n",
      "Epoch 9/300\n",
      "458/458 [==============================] - 1s 3ms/step - loss: 1.5431 - accuracy: 0.4662 - val_loss: 1.5062 - val_accuracy: 0.4778\n",
      "Epoch 10/300\n",
      "458/458 [==============================] - 1s 3ms/step - loss: 1.5330 - accuracy: 0.4710 - val_loss: 1.4945 - val_accuracy: 0.4823\n",
      "Epoch 11/300\n",
      "458/458 [==============================] - 1s 3ms/step - loss: 1.5190 - accuracy: 0.4720 - val_loss: 1.4793 - val_accuracy: 0.4880\n",
      "Epoch 12/300\n",
      "458/458 [==============================] - 1s 3ms/step - loss: 1.5060 - accuracy: 0.4741 - val_loss: 1.4754 - val_accuracy: 0.4910\n",
      "Epoch 13/300\n",
      "458/458 [==============================] - 1s 3ms/step - loss: 1.5001 - accuracy: 0.4780 - val_loss: 1.4606 - val_accuracy: 0.4902\n",
      "Epoch 14/300\n",
      "458/458 [==============================] - 1s 3ms/step - loss: 1.4891 - accuracy: 0.4800 - val_loss: 1.4544 - val_accuracy: 0.4955\n",
      "Epoch 15/300\n",
      "458/458 [==============================] - 1s 3ms/step - loss: 1.4808 - accuracy: 0.4824 - val_loss: 1.4451 - val_accuracy: 0.4997\n",
      "Epoch 16/300\n",
      "458/458 [==============================] - 1s 3ms/step - loss: 1.4682 - accuracy: 0.4885 - val_loss: 1.4367 - val_accuracy: 0.5010\n",
      "Epoch 17/300\n",
      "458/458 [==============================] - 1s 3ms/step - loss: 1.4635 - accuracy: 0.4917 - val_loss: 1.4283 - val_accuracy: 0.5048\n",
      "Epoch 18/300\n",
      "458/458 [==============================] - 1s 3ms/step - loss: 1.4553 - accuracy: 0.4916 - val_loss: 1.4207 - val_accuracy: 0.5038\n",
      "Epoch 19/300\n",
      "458/458 [==============================] - 1s 3ms/step - loss: 1.4435 - accuracy: 0.4990 - val_loss: 1.4146 - val_accuracy: 0.5110\n",
      "Epoch 20/300\n",
      "458/458 [==============================] - 1s 3ms/step - loss: 1.4392 - accuracy: 0.4984 - val_loss: 1.4076 - val_accuracy: 0.5063\n",
      "Epoch 21/300\n",
      "458/458 [==============================] - 1s 3ms/step - loss: 1.4352 - accuracy: 0.4979 - val_loss: 1.4036 - val_accuracy: 0.5048\n",
      "Epoch 22/300\n",
      "458/458 [==============================] - 2s 4ms/step - loss: 1.4241 - accuracy: 0.5046 - val_loss: 1.3962 - val_accuracy: 0.5145\n",
      "Epoch 23/300\n",
      "458/458 [==============================] - 2s 4ms/step - loss: 1.4146 - accuracy: 0.5085 - val_loss: 1.3892 - val_accuracy: 0.5192\n",
      "Epoch 24/300\n",
      "458/458 [==============================] - 2s 4ms/step - loss: 1.4130 - accuracy: 0.5130 - val_loss: 1.3887 - val_accuracy: 0.5163\n",
      "Epoch 25/300\n",
      "458/458 [==============================] - 2s 4ms/step - loss: 1.4091 - accuracy: 0.5111 - val_loss: 1.3786 - val_accuracy: 0.5220\n",
      "Epoch 26/300\n",
      "458/458 [==============================] - 2s 4ms/step - loss: 1.4083 - accuracy: 0.5087 - val_loss: 1.3811 - val_accuracy: 0.5200\n",
      "Epoch 27/300\n",
      "458/458 [==============================] - 2s 3ms/step - loss: 1.3976 - accuracy: 0.5157 - val_loss: 1.3739 - val_accuracy: 0.5210\n",
      "Epoch 28/300\n",
      "458/458 [==============================] - 2s 4ms/step - loss: 1.3916 - accuracy: 0.5171 - val_loss: 1.3669 - val_accuracy: 0.5260\n",
      "Epoch 29/300\n",
      "458/458 [==============================] - 2s 4ms/step - loss: 1.3876 - accuracy: 0.5174 - val_loss: 1.3609 - val_accuracy: 0.5217\n",
      "Epoch 30/300\n",
      "458/458 [==============================] - 2s 4ms/step - loss: 1.3865 - accuracy: 0.5179 - val_loss: 1.3578 - val_accuracy: 0.5268\n",
      "Epoch 31/300\n",
      "458/458 [==============================] - 2s 3ms/step - loss: 1.3752 - accuracy: 0.5224 - val_loss: 1.3517 - val_accuracy: 0.5263\n",
      "Epoch 32/300\n",
      "458/458 [==============================] - 2s 4ms/step - loss: 1.3718 - accuracy: 0.5220 - val_loss: 1.3515 - val_accuracy: 0.5263\n",
      "Epoch 33/300\n",
      "458/458 [==============================] - 1s 3ms/step - loss: 1.3673 - accuracy: 0.5246 - val_loss: 1.3451 - val_accuracy: 0.5268\n",
      "Epoch 34/300\n",
      "458/458 [==============================] - 2s 3ms/step - loss: 1.3661 - accuracy: 0.5235 - val_loss: 1.3415 - val_accuracy: 0.5328\n",
      "Epoch 35/300\n",
      "458/458 [==============================] - 2s 3ms/step - loss: 1.3611 - accuracy: 0.5272 - val_loss: 1.3398 - val_accuracy: 0.5322\n",
      "Epoch 36/300\n",
      "458/458 [==============================] - 2s 4ms/step - loss: 1.3536 - accuracy: 0.5313 - val_loss: 1.3441 - val_accuracy: 0.5400\n",
      "Epoch 37/300\n",
      "458/458 [==============================] - 2s 4ms/step - loss: 1.3550 - accuracy: 0.5314 - val_loss: 1.3330 - val_accuracy: 0.5383\n",
      "Epoch 38/300\n",
      "458/458 [==============================] - 2s 3ms/step - loss: 1.3469 - accuracy: 0.5326 - val_loss: 1.3300 - val_accuracy: 0.5408\n",
      "Epoch 39/300\n",
      "458/458 [==============================] - 2s 4ms/step - loss: 1.3444 - accuracy: 0.5361 - val_loss: 1.3277 - val_accuracy: 0.5465\n",
      "Epoch 40/300\n",
      "458/458 [==============================] - 2s 4ms/step - loss: 1.3395 - accuracy: 0.5367 - val_loss: 1.3220 - val_accuracy: 0.5390\n",
      "Epoch 41/300\n",
      "458/458 [==============================] - 2s 3ms/step - loss: 1.3323 - accuracy: 0.5373 - val_loss: 1.3192 - val_accuracy: 0.5375\n",
      "Epoch 42/300\n",
      "458/458 [==============================] - 2s 4ms/step - loss: 1.3347 - accuracy: 0.5384 - val_loss: 1.3181 - val_accuracy: 0.5495\n",
      "Epoch 43/300\n",
      "458/458 [==============================] - 2s 4ms/step - loss: 1.3311 - accuracy: 0.5371 - val_loss: 1.3139 - val_accuracy: 0.5465\n",
      "Epoch 44/300\n",
      "458/458 [==============================] - 2s 3ms/step - loss: 1.3301 - accuracy: 0.5390 - val_loss: 1.3122 - val_accuracy: 0.5472\n",
      "Epoch 45/300\n",
      "458/458 [==============================] - 2s 4ms/step - loss: 1.3257 - accuracy: 0.5422 - val_loss: 1.3141 - val_accuracy: 0.5567\n",
      "Epoch 46/300\n",
      "458/458 [==============================] - 2s 4ms/step - loss: 1.3181 - accuracy: 0.5401 - val_loss: 1.3058 - val_accuracy: 0.5520\n",
      "Epoch 47/300\n",
      "458/458 [==============================] - 2s 3ms/step - loss: 1.3185 - accuracy: 0.5394 - val_loss: 1.3077 - val_accuracy: 0.5555\n",
      "Epoch 48/300\n",
      "458/458 [==============================] - 2s 3ms/step - loss: 1.3166 - accuracy: 0.5485 - val_loss: 1.3021 - val_accuracy: 0.5483\n",
      "Epoch 49/300\n",
      "458/458 [==============================] - 2s 4ms/step - loss: 1.3158 - accuracy: 0.5450 - val_loss: 1.3028 - val_accuracy: 0.5443\n",
      "Epoch 50/300\n",
      "458/458 [==============================] - 2s 4ms/step - loss: 1.3070 - accuracy: 0.5493 - val_loss: 1.3000 - val_accuracy: 0.5403\n",
      "Epoch 51/300\n",
      "458/458 [==============================] - 2s 4ms/step - loss: 1.3071 - accuracy: 0.5477 - val_loss: 1.2943 - val_accuracy: 0.5595\n",
      "Epoch 52/300\n",
      "458/458 [==============================] - 2s 4ms/step - loss: 1.3006 - accuracy: 0.5506 - val_loss: 1.2911 - val_accuracy: 0.5508\n",
      "Epoch 53/300\n",
      "458/458 [==============================] - 2s 3ms/step - loss: 1.2981 - accuracy: 0.5509 - val_loss: 1.2933 - val_accuracy: 0.5577\n",
      "Epoch 54/300\n",
      "458/458 [==============================] - 2s 3ms/step - loss: 1.3003 - accuracy: 0.5454 - val_loss: 1.2882 - val_accuracy: 0.5580\n",
      "Epoch 55/300\n",
      "458/458 [==============================] - 2s 4ms/step - loss: 1.2966 - accuracy: 0.5493 - val_loss: 1.2896 - val_accuracy: 0.5560\n",
      "Epoch 56/300\n",
      "458/458 [==============================] - 2s 4ms/step - loss: 1.2926 - accuracy: 0.5541 - val_loss: 1.2853 - val_accuracy: 0.5558\n",
      "Epoch 57/300\n",
      "458/458 [==============================] - 2s 4ms/step - loss: 1.2887 - accuracy: 0.5537 - val_loss: 1.2822 - val_accuracy: 0.5640\n",
      "Epoch 58/300\n",
      "458/458 [==============================] - 2s 4ms/step - loss: 1.2827 - accuracy: 0.5562 - val_loss: 1.2801 - val_accuracy: 0.5650\n",
      "Epoch 59/300\n",
      "458/458 [==============================] - 2s 4ms/step - loss: 1.2866 - accuracy: 0.5567 - val_loss: 1.2792 - val_accuracy: 0.5595\n",
      "Epoch 60/300\n",
      "458/458 [==============================] - 2s 3ms/step - loss: 1.2819 - accuracy: 0.5544 - val_loss: 1.2772 - val_accuracy: 0.5670\n",
      "Epoch 61/300\n",
      "458/458 [==============================] - 1s 3ms/step - loss: 1.2760 - accuracy: 0.5599 - val_loss: 1.2733 - val_accuracy: 0.5730\n",
      "Epoch 62/300\n",
      "458/458 [==============================] - 2s 3ms/step - loss: 1.2773 - accuracy: 0.5571 - val_loss: 1.2777 - val_accuracy: 0.5723\n",
      "Epoch 63/300\n",
      "458/458 [==============================] - 2s 4ms/step - loss: 1.2709 - accuracy: 0.5608 - val_loss: 1.2743 - val_accuracy: 0.5602\n",
      "Epoch 64/300\n",
      "458/458 [==============================] - 2s 4ms/step - loss: 1.2680 - accuracy: 0.5612 - val_loss: 1.2726 - val_accuracy: 0.5612\n",
      "Epoch 65/300\n",
      "458/458 [==============================] - 2s 4ms/step - loss: 1.2685 - accuracy: 0.5616 - val_loss: 1.2721 - val_accuracy: 0.5710\n",
      "Epoch 66/300\n",
      "458/458 [==============================] - 2s 4ms/step - loss: 1.2696 - accuracy: 0.5619 - val_loss: 1.2632 - val_accuracy: 0.5655\n",
      "Epoch 67/300\n",
      "458/458 [==============================] - 2s 4ms/step - loss: 1.2632 - accuracy: 0.5641 - val_loss: 1.2687 - val_accuracy: 0.5705\n",
      "Epoch 68/300\n",
      "458/458 [==============================] - 2s 3ms/step - loss: 1.2605 - accuracy: 0.5643 - val_loss: 1.2622 - val_accuracy: 0.5642\n",
      "Epoch 69/300\n",
      "458/458 [==============================] - 2s 4ms/step - loss: 1.2594 - accuracy: 0.5649 - val_loss: 1.2572 - val_accuracy: 0.5730\n",
      "Epoch 70/300\n",
      "458/458 [==============================] - 2s 3ms/step - loss: 1.2585 - accuracy: 0.5629 - val_loss: 1.2590 - val_accuracy: 0.5738\n",
      "Epoch 71/300\n",
      "458/458 [==============================] - 2s 4ms/step - loss: 1.2582 - accuracy: 0.5656 - val_loss: 1.2580 - val_accuracy: 0.5727\n",
      "Epoch 72/300\n",
      "458/458 [==============================] - 2s 3ms/step - loss: 1.2503 - accuracy: 0.5684 - val_loss: 1.2558 - val_accuracy: 0.5725\n",
      "Epoch 73/300\n",
      "458/458 [==============================] - 2s 3ms/step - loss: 1.2502 - accuracy: 0.5734 - val_loss: 1.2523 - val_accuracy: 0.5735\n",
      "Epoch 74/300\n",
      "458/458 [==============================] - 1s 3ms/step - loss: 1.2499 - accuracy: 0.5703 - val_loss: 1.2516 - val_accuracy: 0.5707\n",
      "Epoch 75/300\n",
      "458/458 [==============================] - 1s 3ms/step - loss: 1.2500 - accuracy: 0.5686 - val_loss: 1.2553 - val_accuracy: 0.5692\n",
      "Epoch 76/300\n",
      "458/458 [==============================] - 2s 4ms/step - loss: 1.2464 - accuracy: 0.5689 - val_loss: 1.2490 - val_accuracy: 0.5760\n",
      "Epoch 77/300\n",
      "458/458 [==============================] - 2s 4ms/step - loss: 1.2445 - accuracy: 0.5681 - val_loss: 1.2467 - val_accuracy: 0.5748\n",
      "Epoch 78/300\n",
      "458/458 [==============================] - 2s 3ms/step - loss: 1.2401 - accuracy: 0.5742 - val_loss: 1.2448 - val_accuracy: 0.5773\n",
      "Epoch 79/300\n",
      "458/458 [==============================] - 2s 4ms/step - loss: 1.2403 - accuracy: 0.5712 - val_loss: 1.2430 - val_accuracy: 0.5720\n",
      "Epoch 80/300\n",
      "458/458 [==============================] - 2s 3ms/step - loss: 1.2354 - accuracy: 0.5738 - val_loss: 1.2478 - val_accuracy: 0.5730\n",
      "Epoch 81/300\n",
      "458/458 [==============================] - 1s 3ms/step - loss: 1.2304 - accuracy: 0.5769 - val_loss: 1.2378 - val_accuracy: 0.5753\n",
      "Epoch 82/300\n",
      "458/458 [==============================] - 2s 3ms/step - loss: 1.2274 - accuracy: 0.5788 - val_loss: 1.2382 - val_accuracy: 0.5755\n",
      "Epoch 83/300\n",
      "458/458 [==============================] - 2s 4ms/step - loss: 1.2325 - accuracy: 0.5733 - val_loss: 1.2371 - val_accuracy: 0.5765\n",
      "Epoch 84/300\n",
      "458/458 [==============================] - 2s 4ms/step - loss: 1.2279 - accuracy: 0.5757 - val_loss: 1.2362 - val_accuracy: 0.5765\n",
      "Epoch 85/300\n",
      "458/458 [==============================] - 2s 3ms/step - loss: 1.2276 - accuracy: 0.5748 - val_loss: 1.2363 - val_accuracy: 0.5760\n",
      "Epoch 86/300\n",
      "458/458 [==============================] - 2s 4ms/step - loss: 1.2248 - accuracy: 0.5792 - val_loss: 1.2375 - val_accuracy: 0.5710\n",
      "Epoch 87/300\n",
      "458/458 [==============================] - 2s 3ms/step - loss: 1.2216 - accuracy: 0.5762 - val_loss: 1.2312 - val_accuracy: 0.5810\n",
      "Epoch 88/300\n",
      "458/458 [==============================] - 2s 3ms/step - loss: 1.2210 - accuracy: 0.5805 - val_loss: 1.2354 - val_accuracy: 0.5813\n",
      "Epoch 89/300\n",
      "458/458 [==============================] - 2s 3ms/step - loss: 1.2210 - accuracy: 0.5805 - val_loss: 1.2319 - val_accuracy: 0.5842\n",
      "Epoch 90/300\n",
      "458/458 [==============================] - 2s 3ms/step - loss: 1.2185 - accuracy: 0.5781 - val_loss: 1.2301 - val_accuracy: 0.5757\n",
      "Epoch 91/300\n",
      "458/458 [==============================] - 2s 4ms/step - loss: 1.2190 - accuracy: 0.5791 - val_loss: 1.2360 - val_accuracy: 0.5763\n",
      "Epoch 92/300\n",
      "458/458 [==============================] - 2s 3ms/step - loss: 1.2118 - accuracy: 0.5828 - val_loss: 1.2272 - val_accuracy: 0.5778\n",
      "Epoch 93/300\n",
      "458/458 [==============================] - 2s 4ms/step - loss: 1.2119 - accuracy: 0.5828 - val_loss: 1.2266 - val_accuracy: 0.5738\n",
      "Epoch 94/300\n",
      "458/458 [==============================] - 2s 4ms/step - loss: 1.2145 - accuracy: 0.5811 - val_loss: 1.2291 - val_accuracy: 0.5770\n",
      "Epoch 95/300\n",
      "458/458 [==============================] - 2s 4ms/step - loss: 1.2086 - accuracy: 0.5845 - val_loss: 1.2233 - val_accuracy: 0.5805\n",
      "Epoch 96/300\n",
      "458/458 [==============================] - 2s 3ms/step - loss: 1.2061 - accuracy: 0.5853 - val_loss: 1.2223 - val_accuracy: 0.5798\n",
      "Epoch 97/300\n",
      "458/458 [==============================] - 2s 4ms/step - loss: 1.2054 - accuracy: 0.5873 - val_loss: 1.2195 - val_accuracy: 0.5810\n",
      "Epoch 98/300\n",
      "458/458 [==============================] - 2s 4ms/step - loss: 1.2053 - accuracy: 0.5847 - val_loss: 1.2184 - val_accuracy: 0.5813\n",
      "Epoch 99/300\n",
      "458/458 [==============================] - 2s 4ms/step - loss: 1.2044 - accuracy: 0.5824 - val_loss: 1.2206 - val_accuracy: 0.5805\n",
      "Epoch 100/300\n",
      "458/458 [==============================] - 2s 4ms/step - loss: 1.2006 - accuracy: 0.5854 - val_loss: 1.2170 - val_accuracy: 0.5770\n",
      "Epoch 101/300\n",
      "458/458 [==============================] - 2s 3ms/step - loss: 1.2004 - accuracy: 0.5845 - val_loss: 1.2169 - val_accuracy: 0.5828\n",
      "Epoch 102/300\n",
      "458/458 [==============================] - 2s 4ms/step - loss: 1.1962 - accuracy: 0.5883 - val_loss: 1.2151 - val_accuracy: 0.5792\n",
      "Epoch 103/300\n",
      "458/458 [==============================] - 2s 3ms/step - loss: 1.1947 - accuracy: 0.5886 - val_loss: 1.2134 - val_accuracy: 0.5803\n",
      "Epoch 104/300\n",
      "458/458 [==============================] - 2s 4ms/step - loss: 1.1924 - accuracy: 0.5892 - val_loss: 1.2106 - val_accuracy: 0.5825\n",
      "Epoch 105/300\n",
      "458/458 [==============================] - 2s 3ms/step - loss: 1.1915 - accuracy: 0.5945 - val_loss: 1.2120 - val_accuracy: 0.5847\n",
      "Epoch 106/300\n",
      "458/458 [==============================] - 2s 4ms/step - loss: 1.1883 - accuracy: 0.5929 - val_loss: 1.2171 - val_accuracy: 0.5825\n",
      "Epoch 107/300\n",
      "458/458 [==============================] - 2s 4ms/step - loss: 1.1941 - accuracy: 0.5884 - val_loss: 1.2096 - val_accuracy: 0.5855\n",
      "Epoch 108/300\n",
      "458/458 [==============================] - 2s 3ms/step - loss: 1.1835 - accuracy: 0.5928 - val_loss: 1.2166 - val_accuracy: 0.5840\n",
      "Epoch 109/300\n",
      "458/458 [==============================] - 2s 3ms/step - loss: 1.1856 - accuracy: 0.5899 - val_loss: 1.2117 - val_accuracy: 0.5828\n",
      "Epoch 110/300\n",
      "458/458 [==============================] - 2s 4ms/step - loss: 1.1826 - accuracy: 0.5939 - val_loss: 1.2070 - val_accuracy: 0.5857\n",
      "Epoch 111/300\n",
      "458/458 [==============================] - 2s 4ms/step - loss: 1.1842 - accuracy: 0.5934 - val_loss: 1.2135 - val_accuracy: 0.5790\n",
      "Epoch 112/300\n",
      "458/458 [==============================] - 2s 4ms/step - loss: 1.1827 - accuracy: 0.5934 - val_loss: 1.2046 - val_accuracy: 0.5872\n",
      "Epoch 113/300\n",
      "458/458 [==============================] - 2s 4ms/step - loss: 1.1801 - accuracy: 0.5955 - val_loss: 1.2068 - val_accuracy: 0.5870\n",
      "Epoch 114/300\n",
      "458/458 [==============================] - 2s 4ms/step - loss: 1.1787 - accuracy: 0.5974 - val_loss: 1.2034 - val_accuracy: 0.5838\n",
      "Epoch 115/300\n",
      "458/458 [==============================] - 2s 3ms/step - loss: 1.1749 - accuracy: 0.5942 - val_loss: 1.2024 - val_accuracy: 0.5815\n",
      "Epoch 116/300\n",
      "458/458 [==============================] - 1s 3ms/step - loss: 1.1756 - accuracy: 0.5939 - val_loss: 1.2013 - val_accuracy: 0.5835\n",
      "Epoch 117/300\n",
      "458/458 [==============================] - 2s 3ms/step - loss: 1.1700 - accuracy: 0.5984 - val_loss: 1.2068 - val_accuracy: 0.5850\n",
      "Epoch 118/300\n",
      "458/458 [==============================] - 2s 4ms/step - loss: 1.1703 - accuracy: 0.5968 - val_loss: 1.1975 - val_accuracy: 0.5838\n",
      "Epoch 119/300\n",
      "458/458 [==============================] - 2s 3ms/step - loss: 1.1705 - accuracy: 0.5947 - val_loss: 1.1983 - val_accuracy: 0.5882\n",
      "Epoch 120/300\n",
      "458/458 [==============================] - 2s 4ms/step - loss: 1.1687 - accuracy: 0.5966 - val_loss: 1.1993 - val_accuracy: 0.5888\n",
      "Epoch 121/300\n",
      "458/458 [==============================] - 2s 3ms/step - loss: 1.1673 - accuracy: 0.5942 - val_loss: 1.1966 - val_accuracy: 0.5875\n",
      "Epoch 122/300\n",
      "458/458 [==============================] - 2s 4ms/step - loss: 1.1702 - accuracy: 0.5980 - val_loss: 1.1950 - val_accuracy: 0.5840\n",
      "Epoch 123/300\n",
      "458/458 [==============================] - 2s 3ms/step - loss: 1.1617 - accuracy: 0.6012 - val_loss: 1.1989 - val_accuracy: 0.5842\n",
      "Epoch 124/300\n",
      "458/458 [==============================] - 2s 4ms/step - loss: 1.1657 - accuracy: 0.6010 - val_loss: 1.1992 - val_accuracy: 0.5888\n",
      "Epoch 125/300\n",
      "458/458 [==============================] - 2s 4ms/step - loss: 1.1647 - accuracy: 0.6006 - val_loss: 1.1924 - val_accuracy: 0.5857\n",
      "Epoch 126/300\n",
      "458/458 [==============================] - 2s 4ms/step - loss: 1.1603 - accuracy: 0.5986 - val_loss: 1.1948 - val_accuracy: 0.5907\n",
      "Epoch 127/300\n",
      "458/458 [==============================] - 2s 3ms/step - loss: 1.1606 - accuracy: 0.6054 - val_loss: 1.1932 - val_accuracy: 0.5853\n",
      "Epoch 128/300\n",
      "458/458 [==============================] - 2s 4ms/step - loss: 1.1579 - accuracy: 0.6032 - val_loss: 1.1896 - val_accuracy: 0.5888\n",
      "Epoch 129/300\n",
      "458/458 [==============================] - 2s 3ms/step - loss: 1.1548 - accuracy: 0.6023 - val_loss: 1.1904 - val_accuracy: 0.5872\n",
      "Epoch 130/300\n",
      "458/458 [==============================] - 2s 3ms/step - loss: 1.1557 - accuracy: 0.6038 - val_loss: 1.1892 - val_accuracy: 0.5850\n",
      "Epoch 131/300\n",
      "458/458 [==============================] - 2s 4ms/step - loss: 1.1577 - accuracy: 0.6036 - val_loss: 1.1922 - val_accuracy: 0.5850\n",
      "Epoch 132/300\n",
      "458/458 [==============================] - 2s 4ms/step - loss: 1.1530 - accuracy: 0.6026 - val_loss: 1.1922 - val_accuracy: 0.5880\n",
      "Epoch 133/300\n",
      "458/458 [==============================] - 2s 3ms/step - loss: 1.1530 - accuracy: 0.6018 - val_loss: 1.1848 - val_accuracy: 0.5890\n",
      "Epoch 134/300\n",
      "458/458 [==============================] - 2s 3ms/step - loss: 1.1523 - accuracy: 0.6083 - val_loss: 1.1866 - val_accuracy: 0.5882\n",
      "Epoch 135/300\n",
      "458/458 [==============================] - 2s 4ms/step - loss: 1.1423 - accuracy: 0.6082 - val_loss: 1.1848 - val_accuracy: 0.5938\n",
      "Epoch 136/300\n",
      "458/458 [==============================] - 2s 4ms/step - loss: 1.1511 - accuracy: 0.6025 - val_loss: 1.1891 - val_accuracy: 0.5872\n",
      "Epoch 136: early stopping\n"
     ]
    }
   ],
   "source": [
    "history = model.fit(X_train, y_train, epochs=300, batch_size=35, validation_data=[X_test,y_test], callbacks=[early_stopping])"
   ]
  },
  {
   "cell_type": "code",
   "execution_count": 24,
   "metadata": {},
   "outputs": [],
   "source": [
    "history_df = pd.DataFrame(history.history)"
   ]
  },
  {
   "cell_type": "code",
   "execution_count": 25,
   "metadata": {},
   "outputs": [
    {
     "data": {
      "text/plain": [
       "<Axes: >"
      ]
     },
     "execution_count": 25,
     "metadata": {},
     "output_type": "execute_result"
    },
    {
     "data": {
      "image/png": "[encoded data removed]",
      "text/plain": [
       "<Figure size 640x480 with 1 Axes>"
      ]
     },
     "metadata": {},
     "output_type": "display_data"
    }
   ],
   "source": [
    "sns.lineplot(data=history_df[['accuracy', 'val_accuracy']])"
   ]
  },
  {
   "cell_type": "code",
   "execution_count": 26,
   "metadata": {},
   "outputs": [
    {
     "name": "stdout",
     "output_type": "stream",
     "text": [
      "125/125 [==============================] - 0s 1ms/step - loss: 1.1891 - accuracy: 0.5872\n"
     ]
    },
    {
     "data": {
      "text/plain": [
       "[1.1891260147094727, 0.5872499942779541]"
      ]
     },
     "execution_count": 26,
     "metadata": {},
     "output_type": "execute_result"
    }
   ],
   "source": [
    "model.evaluate(X_test, y_test)"
   ]
  },
  {
   "cell_type": "code",
   "execution_count": 27,
   "metadata": {},
   "outputs": [],
   "source": [
    "from sklearn.metrics import classification_report"
   ]
  },
  {
   "cell_type": "code",
   "execution_count": 28,
   "metadata": {},
   "outputs": [
    {
     "name": "stdout",
     "output_type": "stream",
     "text": [
      "125/125 [==============================] - 0s 1ms/step\n"
     ]
    }
   ],
   "source": [
    "y_pred = np.argmax(model.predict(X_test), axis=-1)"
   ]
  },
  {
   "cell_type": "code",
   "execution_count": 29,
   "metadata": {},
   "outputs": [],
   "source": [
    "y_test = np.argmax(y_test, axis=-1)"
   ]
  },
  {
   "cell_type": "code",
   "execution_count": 30,
   "metadata": {},
   "outputs": [
    {
     "name": "stdout",
     "output_type": "stream",
     "text": [
      "              precision    recall  f1-score   support\n",
      "\n",
      "           0       0.54      0.78      0.64      1159\n",
      "           1       0.64      0.77      0.70      1352\n",
      "           2       0.62      0.22      0.32       328\n",
      "           3       0.59      0.31      0.40       542\n",
      "           4       0.53      0.34      0.42       475\n",
      "           5       0.80      0.03      0.05       144\n",
      "\n",
      "    accuracy                           0.59      4000\n",
      "   macro avg       0.62      0.41      0.42      4000\n",
      "weighted avg       0.60      0.59      0.55      4000\n",
      "\n"
     ]
    }
   ],
   "source": [
    "print(classification_report(y_test, y_pred))"
   ]
  },
  {
   "cell_type": "code",
   "execution_count": 31,
   "metadata": {},
   "outputs": [],
   "source": [
    "def clasifica_texto(texto):\n",
    "    vector = vectorize(texto)\n",
    "    vector = vector.reshape(1,300,1)\n",
    "    return np.argmax(model.predict(vector), axis=-1)"
   ]
  },
  {
   "cell_type": "code",
   "execution_count": 33,
   "metadata": {},
   "outputs": [
    {
     "name": "stdout",
     "output_type": "stream",
     "text": [
      "1/1 [==============================] - 0s 11ms/step\n"
     ]
    },
    {
     "data": {
      "text/plain": [
       "array([0])"
      ]
     },
     "execution_count": 33,
     "metadata": {},
     "output_type": "execute_result"
    }
   ],
   "source": [
    "clasifica_texto(\"i think life is painful\")"
   ]
  },
  {
   "cell_type": "code",
   "execution_count": 34,
   "metadata": {},
   "outputs": [],
   "source": [
    "import joblib"
   ]
  },
  {
   "cell_type": "code",
   "execution_count": 35,
   "metadata": {},
   "outputs": [],
   "source": [
    "from sklearn.pipeline import Pipeline\n",
    "from sklearn.preprocessing import FunctionTransformer\n",
    "import joblib"
   ]
  },
  {
   "cell_type": "code",
   "execution_count": 36,
   "metadata": {},
   "outputs": [],
   "source": [
    "def clean(text):\n",
    "    text = str(text)\n",
    "    text = text.lower()\n",
    "    text = text.strip()\n",
    "    text = text.replace('\\n', '')\n",
    "    text = text.replace('\\t', '')\n",
    "    text = re.sub(r'[^\\w\\s]','',text)\n",
    "    text = word_tokenize(text)\n",
    "    text = [palabra for palabra in text if palabra not in stop_words_en]\n",
    "    text = [lemmatizer.lemmatize(palabra) for palabra in text]\n",
    "    text = ' '.join(text)\n",
    "    return text"
   ]
  },
  {
   "cell_type": "code",
   "execution_count": 37,
   "metadata": {},
   "outputs": [],
   "source": [
    "def clean_vectorize(text):\n",
    "    text = clean(text)\n",
    "    vector = vectorize(text)\n",
    "    vector = vector.reshape(1,300,1)\n",
    "    return vector\n",
    "\n",
    "transformer = FunctionTransformer(clean_vectorize)"
   ]
  },
  {
   "cell_type": "code",
   "execution_count": 38,
   "metadata": {},
   "outputs": [],
   "source": [
    "pipeline_exportacion = Pipeline([\n",
    "    ('preprocessing', transformer),\n",
    "    ('model', model)\n",
    "])"
   ]
  },
  {
   "cell_type": "code",
   "execution_count": 39,
   "metadata": {},
   "outputs": [
    {
     "data": {
      "text/plain": [
       "['emotion_classifier.h5']"
      ]
     },
     "execution_count": 39,
     "metadata": {},
     "output_type": "execute_result"
    }
   ],
   "source": [
    "joblib.dump(pipeline_exportacion, 'emotion_classifier.h5')"
   ]
  },
  {
   "cell_type": "code",
   "execution_count": null,
   "metadata": {},
   "outputs": [],
   "source": []
  }
 ],
 "metadata": {
  "kernelspec": {
   "display_name": "Python 3",
   "language": "python",
   "name": "python3"
  },
  "language_info": {
   "codemirror_mode": {
    "name": "ipython",
    "version": 3
   },
   "file_extension": ".py",
   "mimetype": "text/x-python",
   "name": "python",
   "nbconvert_exporter": "python",
   "pygments_lexer": "ipython3",
   "version": "3.9.6"
  }
 },
 "nbformat": 4,
 "nbformat_minor": 2
}
